{
 "cells": [
  {
   "cell_type": "markdown",
   "metadata": {},
   "source": [
    "# Описание проекта\n",
    "**Краткое описание:** Совместно с отделом маркетинга был подготовлен список гипотез для увеличения выручки интернет-магазина.\n",
    "\n",
    "\n",
    "**Цели исследования:** \n",
    "* приоритизировать гипотезы;\n",
    "* провести A/B-тест;\n",
    "* проанализировать результаты.\n",
    " \n",
    "**Описание данных:**\n",
    "\n",
    "Содержание файла hypothesis.csv:\n",
    "* `Hypothesis` — краткое описание гипотезы;\n",
    "* `Reach` — охват пользователей по 10-балльной шкале;\n",
    "* `Impact` — влияние на пользователей по 10-балльной шкале;\n",
    "* `Confidence` — уверенность в гипотезе по 10-балльной шкале;\n",
    "* `Efforts` — затраты ресурсов на проверку гипотезы по 10-балльной шкале.Чем больше значение Efforts, тем дороже проверка гипотезы.\n",
    "\n",
    "Содержание файла orders.csv:\n",
    "* `transactionId` — идентификатор заказа;\n",
    "* `visitorId` — идентификатор пользователя, совершившего заказ;\n",
    "* `date` — дата, когда был совершён заказ;\n",
    "* `revenue` — выручка заказа;\n",
    "* `group` — группа A/B-теста, в которую попал заказ.\n",
    "\n",
    "Содержание файла visitors.csv:\n",
    "* `date` — дата;\n",
    "* `group` — группа A/B-теста;\n",
    "* `visitors` — количество пользователей в указанную дату в указанной группе A/B-теста\n",
    "\n",
    "**Ход исследования:**\n",
    "\n",
    "*Приоритезация гипотез:*\n",
    "* Применить фреймворк ICE для приоритизации гипотез. Отсортировать их по убыванию приоритета.\n",
    "* Применить фреймворк RICE для приоритизации гипотез. Отсортировать их по убыванию приоритета.\n",
    "* Проанализировать, сделать выводы.\n",
    "\n",
    "*Анализ A/B теста:*\n",
    "* Провести предобработку данных.\n",
    "* Построить график кумулятивной выручки по группам. Сделать выводы и предположения.\n",
    "* Построить график кумулятивного среднего чека по группам. Сделать выводы и предположения.\n",
    "* Построить график относительного изменения кумулятивного среднего чека группы B к группе A. Сделать выводы и предположения.\n",
    "* Построить график кумулятивного среднего количества заказов по группам. Сделать выводы и предположения.\n",
    "* Построить график относительного изменения кумулятивного среднего количества заказов группы B к группе A. Сделать выводы и предположения.\n",
    "* Построить точечный график количества заказов по пользователям. Сделать выводы и предположения.\n",
    "* Посчитать 95-й и 99-й перцентили количества заказов на пользователя. Выбрать границу для определения аномальных пользователей.\n",
    "* Построить точечный график стоимостей заказов. Сделать выводы и предположения.\n",
    "* Посчитать 95-й и 99-й перцентили стоимости заказов. Выбрать границу для определения аномальных заказов.\n",
    "* Посчитать статистическую значимость различий в среднем количестве заказов между группами по «сырым» данным. Сделать выводы и предположения.\n",
    "* Посчитать статистическую значимость различий в среднем чеке заказа между группами по «сырым» данным. Сделать выводы и предположения.\n",
    "* Посчитать статистическую значимость различий в среднем количестве заказов между группами по «очищенным» данным. Сделать выводы и предположения.\n",
    "* Посчитать статистическую значимость различий в среднем чеке заказа между группами по «очищенным» данным. Сделать выводы и предположения.\n",
    "* Проанализировать, сделать выводы. Принять одно из решений: 1. Остановить тест, зафиксировать победу одной из групп. 2. Остановить тест, зафиксировать отсутствие различий между группами. 3. Продолжить тест.\n"
   ]
  },
  {
   "cell_type": "markdown",
   "metadata": {},
   "source": [
    "## Приоритезация гипотез"
   ]
  },
  {
   "cell_type": "code",
   "execution_count": 1,
   "metadata": {},
   "outputs": [],
   "source": [
    "import pandas as pd\n",
    "import matplotlib.pyplot as plt\n",
    "import scipy.stats as stats\n",
    "import datetime as dt\n",
    "import numpy as np"
   ]
  },
  {
   "cell_type": "code",
   "execution_count": 2,
   "metadata": {},
   "outputs": [],
   "source": [
    "#Открываем файлы\n",
    "hypothesis = pd.read_csv('/datasets/hypothesis.csv') \n",
    "orders = pd.read_csv('/datasets/orders.csv') \n",
    "visitors = pd.read_csv('/datasets/visitors.csv')"
   ]
  },
  {
   "cell_type": "code",
   "execution_count": 3,
   "metadata": {},
   "outputs": [],
   "source": [
    "# Снимаем ограничения на отображения\n",
    "pd.set_option('display.max_columns', None)\n",
    "pd.set_option('display.max_colwidth', None)"
   ]
  },
  {
   "cell_type": "code",
   "execution_count": 4,
   "metadata": {},
   "outputs": [],
   "source": [
    "# Приводим столбцы к нижнему регистру\n",
    "hypothesis.columns = hypothesis.columns.str.lower()"
   ]
  },
  {
   "cell_type": "code",
   "execution_count": 5,
   "metadata": {
    "scrolled": true
   },
   "outputs": [
    {
     "data": {
      "text/html": [
       "<div>\n",
       "<style scoped>\n",
       "    .dataframe tbody tr th:only-of-type {\n",
       "        vertical-align: middle;\n",
       "    }\n",
       "\n",
       "    .dataframe tbody tr th {\n",
       "        vertical-align: top;\n",
       "    }\n",
       "\n",
       "    .dataframe thead th {\n",
       "        text-align: right;\n",
       "    }\n",
       "</style>\n",
       "<table border=\"1\" class=\"dataframe\">\n",
       "  <thead>\n",
       "    <tr style=\"text-align: right;\">\n",
       "      <th></th>\n",
       "      <th>hypothesis</th>\n",
       "      <th>reach</th>\n",
       "      <th>impact</th>\n",
       "      <th>confidence</th>\n",
       "      <th>efforts</th>\n",
       "    </tr>\n",
       "  </thead>\n",
       "  <tbody>\n",
       "    <tr>\n",
       "      <th>0</th>\n",
       "      <td>Добавить два новых канала привлечения трафика, что позволит привлекать на 30% больше пользователей</td>\n",
       "      <td>3</td>\n",
       "      <td>10</td>\n",
       "      <td>8</td>\n",
       "      <td>6</td>\n",
       "    </tr>\n",
       "    <tr>\n",
       "      <th>1</th>\n",
       "      <td>Запустить собственную службу доставки, что сократит срок доставки заказов</td>\n",
       "      <td>2</td>\n",
       "      <td>5</td>\n",
       "      <td>4</td>\n",
       "      <td>10</td>\n",
       "    </tr>\n",
       "    <tr>\n",
       "      <th>2</th>\n",
       "      <td>Добавить блоки рекомендаций товаров на сайт интернет магазина, чтобы повысить конверсию и средний чек заказа</td>\n",
       "      <td>8</td>\n",
       "      <td>3</td>\n",
       "      <td>7</td>\n",
       "      <td>3</td>\n",
       "    </tr>\n",
       "    <tr>\n",
       "      <th>3</th>\n",
       "      <td>Изменить структура категорий, что увеличит конверсию, т.к. пользователи быстрее найдут нужный товар</td>\n",
       "      <td>8</td>\n",
       "      <td>3</td>\n",
       "      <td>3</td>\n",
       "      <td>8</td>\n",
       "    </tr>\n",
       "    <tr>\n",
       "      <th>4</th>\n",
       "      <td>Изменить цвет фона главной страницы, чтобы увеличить вовлеченность пользователей</td>\n",
       "      <td>3</td>\n",
       "      <td>1</td>\n",
       "      <td>1</td>\n",
       "      <td>1</td>\n",
       "    </tr>\n",
       "    <tr>\n",
       "      <th>5</th>\n",
       "      <td>Добавить страницу отзывов клиентов о магазине, что позволит увеличить количество заказов</td>\n",
       "      <td>3</td>\n",
       "      <td>2</td>\n",
       "      <td>2</td>\n",
       "      <td>3</td>\n",
       "    </tr>\n",
       "    <tr>\n",
       "      <th>6</th>\n",
       "      <td>Показать на главной странице баннеры с актуальными акциями и распродажами, чтобы увеличить конверсию</td>\n",
       "      <td>5</td>\n",
       "      <td>3</td>\n",
       "      <td>8</td>\n",
       "      <td>3</td>\n",
       "    </tr>\n",
       "    <tr>\n",
       "      <th>7</th>\n",
       "      <td>Добавить форму подписки на все основные страницы, чтобы собрать базу клиентов для email-рассылок</td>\n",
       "      <td>10</td>\n",
       "      <td>7</td>\n",
       "      <td>8</td>\n",
       "      <td>5</td>\n",
       "    </tr>\n",
       "    <tr>\n",
       "      <th>8</th>\n",
       "      <td>Запустить акцию, дающую скидку на товар в день рождения</td>\n",
       "      <td>1</td>\n",
       "      <td>9</td>\n",
       "      <td>9</td>\n",
       "      <td>5</td>\n",
       "    </tr>\n",
       "  </tbody>\n",
       "</table>\n",
       "</div>"
      ],
      "text/plain": [
       "                                                                                                     hypothesis  \\\n",
       "0            Добавить два новых канала привлечения трафика, что позволит привлекать на 30% больше пользователей   \n",
       "1                                     Запустить собственную службу доставки, что сократит срок доставки заказов   \n",
       "2  Добавить блоки рекомендаций товаров на сайт интернет магазина, чтобы повысить конверсию и средний чек заказа   \n",
       "3           Изменить структура категорий, что увеличит конверсию, т.к. пользователи быстрее найдут нужный товар   \n",
       "4                              Изменить цвет фона главной страницы, чтобы увеличить вовлеченность пользователей   \n",
       "5                      Добавить страницу отзывов клиентов о магазине, что позволит увеличить количество заказов   \n",
       "6          Показать на главной странице баннеры с актуальными акциями и распродажами, чтобы увеличить конверсию   \n",
       "7              Добавить форму подписки на все основные страницы, чтобы собрать базу клиентов для email-рассылок   \n",
       "8                                                       Запустить акцию, дающую скидку на товар в день рождения   \n",
       "\n",
       "   reach  impact  confidence  efforts  \n",
       "0      3      10           8        6  \n",
       "1      2       5           4       10  \n",
       "2      8       3           7        3  \n",
       "3      8       3           3        8  \n",
       "4      3       1           1        1  \n",
       "5      3       2           2        3  \n",
       "6      5       3           8        3  \n",
       "7     10       7           8        5  \n",
       "8      1       9           9        5  "
      ]
     },
     "execution_count": 5,
     "metadata": {},
     "output_type": "execute_result"
    }
   ],
   "source": [
    "hypothesis #ознакомление с таблицей гипотез"
   ]
  },
  {
   "cell_type": "markdown",
   "metadata": {},
   "source": [
    "### Добавим оценку гипотез по методикам ICE и RICE в таблицу с гипотезами"
   ]
  },
  {
   "cell_type": "code",
   "execution_count": 6,
   "metadata": {},
   "outputs": [
    {
     "data": {
      "text/html": [
       "<div>\n",
       "<style scoped>\n",
       "    .dataframe tbody tr th:only-of-type {\n",
       "        vertical-align: middle;\n",
       "    }\n",
       "\n",
       "    .dataframe tbody tr th {\n",
       "        vertical-align: top;\n",
       "    }\n",
       "\n",
       "    .dataframe thead th {\n",
       "        text-align: right;\n",
       "    }\n",
       "</style>\n",
       "<table border=\"1\" class=\"dataframe\">\n",
       "  <thead>\n",
       "    <tr style=\"text-align: right;\">\n",
       "      <th></th>\n",
       "      <th>hypothesis</th>\n",
       "      <th>ICE</th>\n",
       "    </tr>\n",
       "  </thead>\n",
       "  <tbody>\n",
       "    <tr>\n",
       "      <th>8</th>\n",
       "      <td>Запустить акцию, дающую скидку на товар в день рождения</td>\n",
       "      <td>16.20</td>\n",
       "    </tr>\n",
       "    <tr>\n",
       "      <th>0</th>\n",
       "      <td>Добавить два новых канала привлечения трафика, что позволит привлекать на 30% больше пользователей</td>\n",
       "      <td>13.33</td>\n",
       "    </tr>\n",
       "    <tr>\n",
       "      <th>7</th>\n",
       "      <td>Добавить форму подписки на все основные страницы, чтобы собрать базу клиентов для email-рассылок</td>\n",
       "      <td>11.20</td>\n",
       "    </tr>\n",
       "    <tr>\n",
       "      <th>6</th>\n",
       "      <td>Показать на главной странице баннеры с актуальными акциями и распродажами, чтобы увеличить конверсию</td>\n",
       "      <td>8.00</td>\n",
       "    </tr>\n",
       "    <tr>\n",
       "      <th>2</th>\n",
       "      <td>Добавить блоки рекомендаций товаров на сайт интернет магазина, чтобы повысить конверсию и средний чек заказа</td>\n",
       "      <td>7.00</td>\n",
       "    </tr>\n",
       "    <tr>\n",
       "      <th>1</th>\n",
       "      <td>Запустить собственную службу доставки, что сократит срок доставки заказов</td>\n",
       "      <td>2.00</td>\n",
       "    </tr>\n",
       "    <tr>\n",
       "      <th>5</th>\n",
       "      <td>Добавить страницу отзывов клиентов о магазине, что позволит увеличить количество заказов</td>\n",
       "      <td>1.33</td>\n",
       "    </tr>\n",
       "    <tr>\n",
       "      <th>3</th>\n",
       "      <td>Изменить структура категорий, что увеличит конверсию, т.к. пользователи быстрее найдут нужный товар</td>\n",
       "      <td>1.12</td>\n",
       "    </tr>\n",
       "    <tr>\n",
       "      <th>4</th>\n",
       "      <td>Изменить цвет фона главной страницы, чтобы увеличить вовлеченность пользователей</td>\n",
       "      <td>1.00</td>\n",
       "    </tr>\n",
       "  </tbody>\n",
       "</table>\n",
       "</div>"
      ],
      "text/plain": [
       "                                                                                                     hypothesis  \\\n",
       "8                                                       Запустить акцию, дающую скидку на товар в день рождения   \n",
       "0            Добавить два новых канала привлечения трафика, что позволит привлекать на 30% больше пользователей   \n",
       "7              Добавить форму подписки на все основные страницы, чтобы собрать базу клиентов для email-рассылок   \n",
       "6          Показать на главной странице баннеры с актуальными акциями и распродажами, чтобы увеличить конверсию   \n",
       "2  Добавить блоки рекомендаций товаров на сайт интернет магазина, чтобы повысить конверсию и средний чек заказа   \n",
       "1                                     Запустить собственную службу доставки, что сократит срок доставки заказов   \n",
       "5                      Добавить страницу отзывов клиентов о магазине, что позволит увеличить количество заказов   \n",
       "3           Изменить структура категорий, что увеличит конверсию, т.к. пользователи быстрее найдут нужный товар   \n",
       "4                              Изменить цвет фона главной страницы, чтобы увеличить вовлеченность пользователей   \n",
       "\n",
       "     ICE  \n",
       "8  16.20  \n",
       "0  13.33  \n",
       "7  11.20  \n",
       "6   8.00  \n",
       "2   7.00  \n",
       "1   2.00  \n",
       "5   1.33  \n",
       "3   1.12  \n",
       "4   1.00  "
      ]
     },
     "execution_count": 6,
     "metadata": {},
     "output_type": "execute_result"
    }
   ],
   "source": [
    "hypothesis['ICE'] = round(hypothesis['impact'] * hypothesis['confidence'] / hypothesis['efforts'], 2)\n",
    "hypothesis[['hypothesis', 'ICE']].sort_values(by='ICE', ascending=False)"
   ]
  },
  {
   "cell_type": "markdown",
   "metadata": {},
   "source": [
    "Гипотезы под номерами 8,0 и 7 являются наиболее предпочтительными исходя из методики ICE."
   ]
  },
  {
   "cell_type": "code",
   "execution_count": 7,
   "metadata": {},
   "outputs": [
    {
     "data": {
      "text/html": [
       "<div>\n",
       "<style scoped>\n",
       "    .dataframe tbody tr th:only-of-type {\n",
       "        vertical-align: middle;\n",
       "    }\n",
       "\n",
       "    .dataframe tbody tr th {\n",
       "        vertical-align: top;\n",
       "    }\n",
       "\n",
       "    .dataframe thead th {\n",
       "        text-align: right;\n",
       "    }\n",
       "</style>\n",
       "<table border=\"1\" class=\"dataframe\">\n",
       "  <thead>\n",
       "    <tr style=\"text-align: right;\">\n",
       "      <th></th>\n",
       "      <th>hypothesis</th>\n",
       "      <th>RICE</th>\n",
       "    </tr>\n",
       "  </thead>\n",
       "  <tbody>\n",
       "    <tr>\n",
       "      <th>7</th>\n",
       "      <td>Добавить форму подписки на все основные страницы, чтобы собрать базу клиентов для email-рассылок</td>\n",
       "      <td>112.0</td>\n",
       "    </tr>\n",
       "    <tr>\n",
       "      <th>2</th>\n",
       "      <td>Добавить блоки рекомендаций товаров на сайт интернет магазина, чтобы повысить конверсию и средний чек заказа</td>\n",
       "      <td>56.0</td>\n",
       "    </tr>\n",
       "    <tr>\n",
       "      <th>0</th>\n",
       "      <td>Добавить два новых канала привлечения трафика, что позволит привлекать на 30% больше пользователей</td>\n",
       "      <td>40.0</td>\n",
       "    </tr>\n",
       "    <tr>\n",
       "      <th>6</th>\n",
       "      <td>Показать на главной странице баннеры с актуальными акциями и распродажами, чтобы увеличить конверсию</td>\n",
       "      <td>40.0</td>\n",
       "    </tr>\n",
       "    <tr>\n",
       "      <th>8</th>\n",
       "      <td>Запустить акцию, дающую скидку на товар в день рождения</td>\n",
       "      <td>16.2</td>\n",
       "    </tr>\n",
       "    <tr>\n",
       "      <th>3</th>\n",
       "      <td>Изменить структура категорий, что увеличит конверсию, т.к. пользователи быстрее найдут нужный товар</td>\n",
       "      <td>9.0</td>\n",
       "    </tr>\n",
       "    <tr>\n",
       "      <th>1</th>\n",
       "      <td>Запустить собственную службу доставки, что сократит срок доставки заказов</td>\n",
       "      <td>4.0</td>\n",
       "    </tr>\n",
       "    <tr>\n",
       "      <th>5</th>\n",
       "      <td>Добавить страницу отзывов клиентов о магазине, что позволит увеличить количество заказов</td>\n",
       "      <td>4.0</td>\n",
       "    </tr>\n",
       "    <tr>\n",
       "      <th>4</th>\n",
       "      <td>Изменить цвет фона главной страницы, чтобы увеличить вовлеченность пользователей</td>\n",
       "      <td>3.0</td>\n",
       "    </tr>\n",
       "  </tbody>\n",
       "</table>\n",
       "</div>"
      ],
      "text/plain": [
       "                                                                                                     hypothesis  \\\n",
       "7              Добавить форму подписки на все основные страницы, чтобы собрать базу клиентов для email-рассылок   \n",
       "2  Добавить блоки рекомендаций товаров на сайт интернет магазина, чтобы повысить конверсию и средний чек заказа   \n",
       "0            Добавить два новых канала привлечения трафика, что позволит привлекать на 30% больше пользователей   \n",
       "6          Показать на главной странице баннеры с актуальными акциями и распродажами, чтобы увеличить конверсию   \n",
       "8                                                       Запустить акцию, дающую скидку на товар в день рождения   \n",
       "3           Изменить структура категорий, что увеличит конверсию, т.к. пользователи быстрее найдут нужный товар   \n",
       "1                                     Запустить собственную службу доставки, что сократит срок доставки заказов   \n",
       "5                      Добавить страницу отзывов клиентов о магазине, что позволит увеличить количество заказов   \n",
       "4                              Изменить цвет фона главной страницы, чтобы увеличить вовлеченность пользователей   \n",
       "\n",
       "    RICE  \n",
       "7  112.0  \n",
       "2   56.0  \n",
       "0   40.0  \n",
       "6   40.0  \n",
       "8   16.2  \n",
       "3    9.0  \n",
       "1    4.0  \n",
       "5    4.0  \n",
       "4    3.0  "
      ]
     },
     "execution_count": 7,
     "metadata": {},
     "output_type": "execute_result"
    }
   ],
   "source": [
    "hypothesis['RICE'] = hypothesis['reach'] * hypothesis['impact'] * hypothesis['confidence'] / hypothesis['efforts']\n",
    "hypothesis[['hypothesis', 'RICE']].sort_values(by='RICE', ascending=False)"
   ]
  },
  {
   "cell_type": "markdown",
   "metadata": {},
   "source": [
    "Гипотезы под номерами 7,2,0 и 6 являются наиболее предпочтительными исходя из методики RICE."
   ]
  },
  {
   "cell_type": "markdown",
   "metadata": {},
   "source": [
    "### Выводы:\n",
    "\n",
    "При применении методики RICE гипотеза №7 (Добавить форму подписки на все основные страницы, чтобы собрать базу клиентов для email-рассылок) оказалась на первом месте с большим отрывом от второго места (112 против 56), так как ее охват гораздо больше чем у остальных гипотез, в то же время гипотеза №8 (Запустить акцию, дающую скидку на товар в день рождения) имеет наименьший охват, поэтому при расчете приоритетности гипотез по методике ICE она оказалась на первом месте в связи с высокими показателями влияния и уверенности, но опустилась на третье в методике RICE в связи с малым охватом"
   ]
  },
  {
   "cell_type": "markdown",
   "metadata": {},
   "source": [
    "## Проведение A/B-теста"
   ]
  },
  {
   "cell_type": "markdown",
   "metadata": {},
   "source": [
    "### Предобработка данных"
   ]
  },
  {
   "cell_type": "code",
   "execution_count": 8,
   "metadata": {
    "scrolled": true
   },
   "outputs": [
    {
     "name": "stdout",
     "output_type": "stream",
     "text": [
      "<class 'pandas.core.frame.DataFrame'>\n",
      "RangeIndex: 1197 entries, 0 to 1196\n",
      "Data columns (total 5 columns):\n",
      " #   Column         Non-Null Count  Dtype \n",
      "---  ------         --------------  ----- \n",
      " 0   transactionId  1197 non-null   int64 \n",
      " 1   visitorId      1197 non-null   int64 \n",
      " 2   date           1197 non-null   object\n",
      " 3   revenue        1197 non-null   int64 \n",
      " 4   group          1197 non-null   object\n",
      "dtypes: int64(3), object(2)\n",
      "memory usage: 46.9+ KB\n"
     ]
    },
    {
     "data": {
      "text/html": [
       "<div>\n",
       "<style scoped>\n",
       "    .dataframe tbody tr th:only-of-type {\n",
       "        vertical-align: middle;\n",
       "    }\n",
       "\n",
       "    .dataframe tbody tr th {\n",
       "        vertical-align: top;\n",
       "    }\n",
       "\n",
       "    .dataframe thead th {\n",
       "        text-align: right;\n",
       "    }\n",
       "</style>\n",
       "<table border=\"1\" class=\"dataframe\">\n",
       "  <thead>\n",
       "    <tr style=\"text-align: right;\">\n",
       "      <th></th>\n",
       "      <th>transactionId</th>\n",
       "      <th>visitorId</th>\n",
       "      <th>date</th>\n",
       "      <th>revenue</th>\n",
       "      <th>group</th>\n",
       "    </tr>\n",
       "  </thead>\n",
       "  <tbody>\n",
       "    <tr>\n",
       "      <th>0</th>\n",
       "      <td>3667963787</td>\n",
       "      <td>3312258926</td>\n",
       "      <td>2019-08-15</td>\n",
       "      <td>1650</td>\n",
       "      <td>B</td>\n",
       "    </tr>\n",
       "    <tr>\n",
       "      <th>1</th>\n",
       "      <td>2804400009</td>\n",
       "      <td>3642806036</td>\n",
       "      <td>2019-08-15</td>\n",
       "      <td>730</td>\n",
       "      <td>B</td>\n",
       "    </tr>\n",
       "    <tr>\n",
       "      <th>2</th>\n",
       "      <td>2961555356</td>\n",
       "      <td>4069496402</td>\n",
       "      <td>2019-08-15</td>\n",
       "      <td>400</td>\n",
       "      <td>A</td>\n",
       "    </tr>\n",
       "    <tr>\n",
       "      <th>3</th>\n",
       "      <td>3797467345</td>\n",
       "      <td>1196621759</td>\n",
       "      <td>2019-08-15</td>\n",
       "      <td>9759</td>\n",
       "      <td>B</td>\n",
       "    </tr>\n",
       "    <tr>\n",
       "      <th>4</th>\n",
       "      <td>2282983706</td>\n",
       "      <td>2322279887</td>\n",
       "      <td>2019-08-15</td>\n",
       "      <td>2308</td>\n",
       "      <td>B</td>\n",
       "    </tr>\n",
       "  </tbody>\n",
       "</table>\n",
       "</div>"
      ],
      "text/plain": [
       "   transactionId   visitorId        date  revenue group\n",
       "0     3667963787  3312258926  2019-08-15     1650     B\n",
       "1     2804400009  3642806036  2019-08-15      730     B\n",
       "2     2961555356  4069496402  2019-08-15      400     A\n",
       "3     3797467345  1196621759  2019-08-15     9759     B\n",
       "4     2282983706  2322279887  2019-08-15     2308     B"
      ]
     },
     "execution_count": 8,
     "metadata": {},
     "output_type": "execute_result"
    }
   ],
   "source": [
    "# Вывод общей информации о таблице с заказами\n",
    "orders.info()\n",
    "orders.head()"
   ]
  },
  {
   "cell_type": "code",
   "execution_count": 9,
   "metadata": {},
   "outputs": [
    {
     "name": "stdout",
     "output_type": "stream",
     "text": [
      "<class 'pandas.core.frame.DataFrame'>\n",
      "RangeIndex: 62 entries, 0 to 61\n",
      "Data columns (total 3 columns):\n",
      " #   Column    Non-Null Count  Dtype \n",
      "---  ------    --------------  ----- \n",
      " 0   date      62 non-null     object\n",
      " 1   group     62 non-null     object\n",
      " 2   visitors  62 non-null     int64 \n",
      "dtypes: int64(1), object(2)\n",
      "memory usage: 1.6+ KB\n"
     ]
    },
    {
     "data": {
      "text/html": [
       "<div>\n",
       "<style scoped>\n",
       "    .dataframe tbody tr th:only-of-type {\n",
       "        vertical-align: middle;\n",
       "    }\n",
       "\n",
       "    .dataframe tbody tr th {\n",
       "        vertical-align: top;\n",
       "    }\n",
       "\n",
       "    .dataframe thead th {\n",
       "        text-align: right;\n",
       "    }\n",
       "</style>\n",
       "<table border=\"1\" class=\"dataframe\">\n",
       "  <thead>\n",
       "    <tr style=\"text-align: right;\">\n",
       "      <th></th>\n",
       "      <th>date</th>\n",
       "      <th>group</th>\n",
       "      <th>visitors</th>\n",
       "    </tr>\n",
       "  </thead>\n",
       "  <tbody>\n",
       "    <tr>\n",
       "      <th>0</th>\n",
       "      <td>2019-08-01</td>\n",
       "      <td>A</td>\n",
       "      <td>719</td>\n",
       "    </tr>\n",
       "    <tr>\n",
       "      <th>1</th>\n",
       "      <td>2019-08-02</td>\n",
       "      <td>A</td>\n",
       "      <td>619</td>\n",
       "    </tr>\n",
       "    <tr>\n",
       "      <th>2</th>\n",
       "      <td>2019-08-03</td>\n",
       "      <td>A</td>\n",
       "      <td>507</td>\n",
       "    </tr>\n",
       "    <tr>\n",
       "      <th>3</th>\n",
       "      <td>2019-08-04</td>\n",
       "      <td>A</td>\n",
       "      <td>717</td>\n",
       "    </tr>\n",
       "    <tr>\n",
       "      <th>4</th>\n",
       "      <td>2019-08-05</td>\n",
       "      <td>A</td>\n",
       "      <td>756</td>\n",
       "    </tr>\n",
       "  </tbody>\n",
       "</table>\n",
       "</div>"
      ],
      "text/plain": [
       "         date group  visitors\n",
       "0  2019-08-01     A       719\n",
       "1  2019-08-02     A       619\n",
       "2  2019-08-03     A       507\n",
       "3  2019-08-04     A       717\n",
       "4  2019-08-05     A       756"
      ]
     },
     "execution_count": 9,
     "metadata": {},
     "output_type": "execute_result"
    }
   ],
   "source": [
    "# Вывод общей информации о таблице с посетителями\n",
    "visitors.info()\n",
    "visitors.head()"
   ]
  },
  {
   "cell_type": "code",
   "execution_count": 10,
   "metadata": {},
   "outputs": [
    {
     "data": {
      "text/plain": [
       "transactionId    0\n",
       "visitorId        0\n",
       "date             0\n",
       "revenue          0\n",
       "group            0\n",
       "dtype: int64"
      ]
     },
     "execution_count": 10,
     "metadata": {},
     "output_type": "execute_result"
    }
   ],
   "source": [
    "orders.isna().sum()"
   ]
  },
  {
   "cell_type": "code",
   "execution_count": 11,
   "metadata": {},
   "outputs": [
    {
     "data": {
      "text/plain": [
       "date        0\n",
       "group       0\n",
       "visitors    0\n",
       "dtype: int64"
      ]
     },
     "execution_count": 11,
     "metadata": {},
     "output_type": "execute_result"
    }
   ],
   "source": [
    "visitors.isna().sum()"
   ]
  },
  {
   "cell_type": "markdown",
   "metadata": {},
   "source": [
    "пропуски в данных отсутствуют"
   ]
  },
  {
   "cell_type": "code",
   "execution_count": 12,
   "metadata": {},
   "outputs": [
    {
     "data": {
      "text/html": [
       "<div>\n",
       "<style scoped>\n",
       "    .dataframe tbody tr th:only-of-type {\n",
       "        vertical-align: middle;\n",
       "    }\n",
       "\n",
       "    .dataframe tbody tr th {\n",
       "        vertical-align: top;\n",
       "    }\n",
       "\n",
       "    .dataframe thead th {\n",
       "        text-align: right;\n",
       "    }\n",
       "</style>\n",
       "<table border=\"1\" class=\"dataframe\">\n",
       "  <thead>\n",
       "    <tr style=\"text-align: right;\">\n",
       "      <th></th>\n",
       "      <th>transactionId</th>\n",
       "      <th>visitorId</th>\n",
       "      <th>date</th>\n",
       "      <th>revenue</th>\n",
       "      <th>group</th>\n",
       "    </tr>\n",
       "  </thead>\n",
       "  <tbody>\n",
       "    <tr>\n",
       "      <th>0</th>\n",
       "      <td>3667963787</td>\n",
       "      <td>3312258926</td>\n",
       "      <td>2019-08-15</td>\n",
       "      <td>1650</td>\n",
       "      <td>B</td>\n",
       "    </tr>\n",
       "    <tr>\n",
       "      <th>1</th>\n",
       "      <td>2804400009</td>\n",
       "      <td>3642806036</td>\n",
       "      <td>2019-08-15</td>\n",
       "      <td>730</td>\n",
       "      <td>B</td>\n",
       "    </tr>\n",
       "    <tr>\n",
       "      <th>2</th>\n",
       "      <td>2961555356</td>\n",
       "      <td>4069496402</td>\n",
       "      <td>2019-08-15</td>\n",
       "      <td>400</td>\n",
       "      <td>A</td>\n",
       "    </tr>\n",
       "    <tr>\n",
       "      <th>3</th>\n",
       "      <td>3797467345</td>\n",
       "      <td>1196621759</td>\n",
       "      <td>2019-08-15</td>\n",
       "      <td>9759</td>\n",
       "      <td>B</td>\n",
       "    </tr>\n",
       "    <tr>\n",
       "      <th>4</th>\n",
       "      <td>2282983706</td>\n",
       "      <td>2322279887</td>\n",
       "      <td>2019-08-15</td>\n",
       "      <td>2308</td>\n",
       "      <td>B</td>\n",
       "    </tr>\n",
       "  </tbody>\n",
       "</table>\n",
       "</div>"
      ],
      "text/plain": [
       "   transactionId   visitorId        date  revenue group\n",
       "0     3667963787  3312258926  2019-08-15     1650     B\n",
       "1     2804400009  3642806036  2019-08-15      730     B\n",
       "2     2961555356  4069496402  2019-08-15      400     A\n",
       "3     3797467345  1196621759  2019-08-15     9759     B\n",
       "4     2282983706  2322279887  2019-08-15     2308     B"
      ]
     },
     "execution_count": 12,
     "metadata": {},
     "output_type": "execute_result"
    }
   ],
   "source": [
    "orders.head()"
   ]
  },
  {
   "cell_type": "code",
   "execution_count": 13,
   "metadata": {},
   "outputs": [
    {
     "data": {
      "text/plain": [
       "0"
      ]
     },
     "metadata": {},
     "output_type": "display_data"
    },
    {
     "data": {
      "text/plain": [
       "0"
      ]
     },
     "execution_count": 13,
     "metadata": {},
     "output_type": "execute_result"
    }
   ],
   "source": [
    "# проверка дубликатов\n",
    "display(orders.duplicated().sum())\n",
    "visitors.duplicated().sum()"
   ]
  },
  {
   "cell_type": "code",
   "execution_count": 14,
   "metadata": {},
   "outputs": [
    {
     "data": {
      "text/plain": [
       "Index(['transactionId', 'visitorId', 'date', 'revenue', 'group'], dtype='object')"
      ]
     },
     "metadata": {},
     "output_type": "display_data"
    },
    {
     "data": {
      "text/plain": [
       "Index(['date', 'group', 'visitors'], dtype='object')"
      ]
     },
     "execution_count": 14,
     "metadata": {},
     "output_type": "execute_result"
    }
   ],
   "source": [
    "# проверка регистра в столбцах\n",
    "display(orders.columns)\n",
    "visitors.columns"
   ]
  },
  {
   "cell_type": "code",
   "execution_count": 15,
   "metadata": {},
   "outputs": [],
   "source": [
    "#приведение столбцов в таблице orders к нижнему регистру\n",
    "orders.columns = orders.columns.str.lower()"
   ]
  },
  {
   "cell_type": "code",
   "execution_count": 16,
   "metadata": {},
   "outputs": [],
   "source": [
    "#приведение столбцов с датами к формату datetime\n",
    "orders['date'] = pd.to_datetime(orders['date'])\n",
    "visitors['date'] = pd.to_datetime(visitors['date'])"
   ]
  },
  {
   "cell_type": "code",
   "execution_count": 17,
   "metadata": {},
   "outputs": [],
   "source": [
    "groupA = orders[orders['group'] == 'A']['visitorid'].drop_duplicates()\n",
    "groupB = orders[orders['group'] == 'B']['visitorid'].drop_duplicates()"
   ]
  },
  {
   "cell_type": "code",
   "execution_count": 18,
   "metadata": {},
   "outputs": [
    {
     "data": {
      "text/plain": [
       "503"
      ]
     },
     "execution_count": 18,
     "metadata": {},
     "output_type": "execute_result"
    }
   ],
   "source": [
    "groupA.count()"
   ]
  },
  {
   "cell_type": "code",
   "execution_count": 19,
   "metadata": {},
   "outputs": [
    {
     "data": {
      "text/plain": [
       "586"
      ]
     },
     "execution_count": 19,
     "metadata": {},
     "output_type": "execute_result"
    }
   ],
   "source": [
    "groupB.count()"
   ]
  },
  {
   "cell_type": "markdown",
   "metadata": {},
   "source": [
    "группы отличаются на пятнадцать процентов, что довольно существенно."
   ]
  },
  {
   "cell_type": "code",
   "execution_count": 20,
   "metadata": {},
   "outputs": [],
   "source": [
    "duplicatedid = groupB.loc[groupB.isin(groupA)]"
   ]
  },
  {
   "cell_type": "markdown",
   "metadata": {},
   "source": [
    "посчитали пересекающихся пользователей, поэтому следует их убрать из анализа. "
   ]
  },
  {
   "cell_type": "code",
   "execution_count": 21,
   "metadata": {},
   "outputs": [],
   "source": [
    "orders = orders.loc[~orders['visitorid'].isin(duplicatedid)]"
   ]
  },
  {
   "cell_type": "code",
   "execution_count": 22,
   "metadata": {},
   "outputs": [
    {
     "data": {
      "text/plain": [
       "Timestamp('2019-08-31 00:00:00')"
      ]
     },
     "metadata": {},
     "output_type": "display_data"
    },
    {
     "data": {
      "text/plain": [
       "Timestamp('2019-08-01 00:00:00')"
      ]
     },
     "metadata": {},
     "output_type": "display_data"
    }
   ],
   "source": [
    "display(orders[orders['group'] == 'A']['date'].max())\n",
    "display(orders[orders['group'] == 'A']['date'].min())"
   ]
  },
  {
   "cell_type": "code",
   "execution_count": 23,
   "metadata": {},
   "outputs": [
    {
     "data": {
      "text/plain": [
       "Timestamp('2019-08-31 00:00:00')"
      ]
     },
     "metadata": {},
     "output_type": "display_data"
    },
    {
     "data": {
      "text/plain": [
       "Timestamp('2019-08-01 00:00:00')"
      ]
     },
     "metadata": {},
     "output_type": "display_data"
    }
   ],
   "source": [
    "display(orders[orders['group'] == 'B']['date'].max())\n",
    "display(orders[orders['group'] == 'B']['date'].min())"
   ]
  },
  {
   "cell_type": "markdown",
   "metadata": {},
   "source": [
    "даты проведения теста совпадают для обеих групп"
   ]
  },
  {
   "cell_type": "markdown",
   "metadata": {},
   "source": [
    "### Построение графика кумулятивной выручки по группам."
   ]
  },
  {
   "cell_type": "code",
   "execution_count": 24,
   "metadata": {
    "scrolled": true
   },
   "outputs": [
    {
     "data": {
      "image/png": "[encoded data removed]",
      "text/plain": [
       "<Figure size 432x288 with 1 Axes>"
      ]
     },
     "metadata": {
      "needs_background": "light"
     },
     "output_type": "display_data"
    }
   ],
   "source": [
    "# создаем массив уникальных пар значений дат и групп теста\n",
    "datesGroups = orders[['date','group']].drop_duplicates()\n",
    "\n",
    "# получаем агрегированные кумулятивные по дням данные о заказах \n",
    "ordersAggregated = datesGroups.apply(lambda x: orders[np.logical_and(orders['date'] <= x['date'], orders['group'] == x['group'])].agg({'date' : 'max', 'group' : 'max', 'transactionid' : 'nunique', 'visitorid' : 'nunique', 'revenue' : 'sum'}), axis=1).sort_values(by=['date','group'])\n",
    "\n",
    "# получаем агрегированные кумулятивные по дням данные о посетителях интернет-магазина \n",
    "visitorsAggregated = datesGroups.apply(lambda x: visitors[np.logical_and(visitors['date'] <= x['date'], visitors['group'] == x['group'])].agg({'date' : 'max', 'group' : 'max', 'visitors' : 'sum'}), axis=1).sort_values(by=['date','group'])\n",
    "\n",
    "# объединяем кумулятивные данные в одной таблице и присваиваем ее столбцам понятные названия\n",
    "cumulativeData = ordersAggregated.merge(visitorsAggregated, left_on=['date', 'group'], right_on=['date', 'group'])\n",
    "cumulativeData.columns = ['date', 'group', 'orders', 'buyers', 'revenue', 'visitors']\n",
    "\n",
    "# датафрейм с кумулятивным количеством заказов и кумулятивной выручкой по дням в группе А\n",
    "cumulativeRevenueA = cumulativeData[cumulativeData['group']=='A'][['date','revenue', 'orders']]\n",
    "\n",
    "# датафрейм с кумулятивным количеством заказов и кумулятивной выручкой по дням в группе B\n",
    "cumulativeRevenueB = cumulativeData[cumulativeData['group']=='B'][['date','revenue', 'orders']]\n",
    "\n",
    "# Строим график выручки группы А\n",
    "plt.plot(cumulativeRevenueA['date'], cumulativeRevenueA['revenue'], label='A')\n",
    "\n",
    "# Строим график выручки группы B\n",
    "plt.plot(cumulativeRevenueB['date'], cumulativeRevenueB['revenue'], label='B')\n",
    "\n",
    "plt.legend()\n",
    "plt.title('График кумулятивной выручки по группам A и B')\n",
    "plt.xlabel('Дата')\n",
    "plt.ylabel('Выручка')\n",
    "plt.legend()\n",
    "plt.xticks(rotation=90)\n",
    "plt.show();"
   ]
  },
  {
   "cell_type": "markdown",
   "metadata": {},
   "source": [
    "<div class=\"alert alert-success\">\n",
    "<h2> Комментарий ревьюера <a class=\"tocSkip\"> </h2>\n",
    "\n",
    "<b>Все отлично!👍:</b> \n",
    "    \n",
    "Качественный график с точки зрения оформления. С ним твоим коллегам будет удобно работать    "
   ]
  },
  {
   "cell_type": "markdown",
   "metadata": {},
   "source": [
    "**Вывод**: Несмотря на тот факт, что выручка группы B была изначально стабильно выше выручки группы A, резкий рост в середине выглядит необычно, что может быть вызвано аномально большими заказами в группе B."
   ]
  },
  {
   "cell_type": "markdown",
   "metadata": {},
   "source": [
    "### Построить график кумулятивного среднего чека по группам. "
   ]
  },
  {
   "cell_type": "code",
   "execution_count": 25,
   "metadata": {},
   "outputs": [
    {
     "data": {
      "image/png": "[encoded data removed]",
      "text/plain": [
       "<Figure size 432x288 with 1 Axes>"
      ]
     },
     "metadata": {
      "needs_background": "light"
     },
     "output_type": "display_data"
    }
   ],
   "source": [
    "plt.plot(cumulativeRevenueA['date'], cumulativeRevenueA['revenue']/cumulativeRevenueA['orders'], label='группа A')\n",
    "plt.plot(cumulativeRevenueB['date'], cumulativeRevenueB['revenue']/cumulativeRevenueB['orders'], label='группа B')\n",
    "\n",
    "plt.title('График кумулятивного среднего чека')\n",
    "plt.xlabel('Дата')\n",
    "plt.ylabel('Выручка')\n",
    "plt.xticks(rotation = 90)\n",
    "plt.legend()\n",
    "plt.show();"
   ]
  },
  {
   "cell_type": "markdown",
   "metadata": {},
   "source": [
    "**Вывод**: график кумулятивного среднего чека подтверждает что в даты между 18 и 19 августа 2019 года произошел необычно резкий скачок выручки в группе B."
   ]
  },
  {
   "cell_type": "markdown",
   "metadata": {},
   "source": [
    "### Построение графика относительного изменения кумулятивного среднего чека группы B к группе A."
   ]
  },
  {
   "cell_type": "code",
   "execution_count": 26,
   "metadata": {},
   "outputs": [
    {
     "data": {
      "image/png": "[encoded data removed]",
      "text/plain": [
       "<Figure size 432x288 with 1 Axes>"
      ]
     },
     "metadata": {
      "needs_background": "light"
     },
     "output_type": "display_data"
    }
   ],
   "source": [
    "# собираем данные в одном датафрейме\n",
    "mergedCumulativeRevenue = cumulativeRevenueA.merge(cumulativeRevenueB, left_on='date', right_on='date', how='left', suffixes=['A', 'B'])\n",
    "\n",
    "# cтроим отношение средних чеков\n",
    "plt.plot(mergedCumulativeRevenue['date'], (mergedCumulativeRevenue['revenueB']/mergedCumulativeRevenue['ordersB'])/(mergedCumulativeRevenue['revenueA']/mergedCumulativeRevenue['ordersA'])-1)\n",
    "\n",
    "# добавляем ось X\n",
    "plt.axhline(y=0, color='black', linestyle='--')\n",
    "plt.title('Относительное изменение кумулятивного чека')\n",
    "plt.xticks(rotation = 90); "
   ]
  },
  {
   "cell_type": "markdown",
   "metadata": {},
   "source": [
    "**Вывод**: на графике видны резкие изменения в показателях среднего чека, которые могут быть вызваны аномально большими покупками."
   ]
  },
  {
   "cell_type": "markdown",
   "metadata": {},
   "source": [
    "### Построить график кумулятивного среднего количества заказов по группам."
   ]
  },
  {
   "cell_type": "code",
   "execution_count": 27,
   "metadata": {},
   "outputs": [
    {
     "data": {
      "text/html": [
       "<div>\n",
       "<style scoped>\n",
       "    .dataframe tbody tr th:only-of-type {\n",
       "        vertical-align: middle;\n",
       "    }\n",
       "\n",
       "    .dataframe tbody tr th {\n",
       "        vertical-align: top;\n",
       "    }\n",
       "\n",
       "    .dataframe thead th {\n",
       "        text-align: right;\n",
       "    }\n",
       "</style>\n",
       "<table border=\"1\" class=\"dataframe\">\n",
       "  <thead>\n",
       "    <tr style=\"text-align: right;\">\n",
       "      <th></th>\n",
       "      <th>date</th>\n",
       "      <th>group</th>\n",
       "      <th>orders</th>\n",
       "      <th>buyers</th>\n",
       "      <th>revenue</th>\n",
       "      <th>visitors</th>\n",
       "    </tr>\n",
       "  </thead>\n",
       "  <tbody>\n",
       "    <tr>\n",
       "      <th>0</th>\n",
       "      <td>2019-08-01</td>\n",
       "      <td>A</td>\n",
       "      <td>23</td>\n",
       "      <td>19</td>\n",
       "      <td>142779</td>\n",
       "      <td>719</td>\n",
       "    </tr>\n",
       "    <tr>\n",
       "      <th>1</th>\n",
       "      <td>2019-08-01</td>\n",
       "      <td>B</td>\n",
       "      <td>17</td>\n",
       "      <td>17</td>\n",
       "      <td>59758</td>\n",
       "      <td>713</td>\n",
       "    </tr>\n",
       "    <tr>\n",
       "      <th>2</th>\n",
       "      <td>2019-08-02</td>\n",
       "      <td>A</td>\n",
       "      <td>42</td>\n",
       "      <td>36</td>\n",
       "      <td>234381</td>\n",
       "      <td>1338</td>\n",
       "    </tr>\n",
       "    <tr>\n",
       "      <th>3</th>\n",
       "      <td>2019-08-02</td>\n",
       "      <td>B</td>\n",
       "      <td>40</td>\n",
       "      <td>39</td>\n",
       "      <td>221801</td>\n",
       "      <td>1294</td>\n",
       "    </tr>\n",
       "    <tr>\n",
       "      <th>4</th>\n",
       "      <td>2019-08-03</td>\n",
       "      <td>A</td>\n",
       "      <td>66</td>\n",
       "      <td>60</td>\n",
       "      <td>346854</td>\n",
       "      <td>1845</td>\n",
       "    </tr>\n",
       "  </tbody>\n",
       "</table>\n",
       "</div>"
      ],
      "text/plain": [
       "        date group  orders  buyers  revenue  visitors\n",
       "0 2019-08-01     A      23      19   142779       719\n",
       "1 2019-08-01     B      17      17    59758       713\n",
       "2 2019-08-02     A      42      36   234381      1338\n",
       "3 2019-08-02     B      40      39   221801      1294\n",
       "4 2019-08-03     A      66      60   346854      1845"
      ]
     },
     "execution_count": 27,
     "metadata": {},
     "output_type": "execute_result"
    }
   ],
   "source": [
    "cumulativeData.head()"
   ]
  },
  {
   "cell_type": "code",
   "execution_count": 28,
   "metadata": {},
   "outputs": [
    {
     "data": {
      "image/png": "[encoded data removed]",
      "text/plain": [
       "<Figure size 432x288 with 1 Axes>"
      ]
     },
     "metadata": {
      "needs_background": "light"
     },
     "output_type": "display_data"
    }
   ],
   "source": [
    "# отделяем данные по группе A\n",
    "cumulativeDataA = cumulativeData[cumulativeData['group']=='A']\n",
    "\n",
    "# отделяем данные по группе B\n",
    "cumulativeDataB = cumulativeData[cumulativeData['group']=='B']\n",
    "\n",
    "\n",
    "\n",
    "# строим графики\n",
    "plt.plot(cumulativeDataA['date'], cumulativeDataA['orders']/cumulativeDataA['visitors'], label='A')\n",
    "plt.plot(cumulativeDataB['date'], cumulativeDataB['orders']/cumulativeDataB['visitors'], label='B')\n",
    "plt.title('Кумулятивное среднее количество заказов по группам')\n",
    "plt.xticks(rotation = 90)\n",
    "plt.legend();\n",
    "\n",
    "\n"
   ]
  },
  {
   "cell_type": "markdown",
   "metadata": {},
   "source": [
    "**Вывод** изначально показатели группы B были ниже, но потом значительно выросли."
   ]
  },
  {
   "cell_type": "markdown",
   "metadata": {},
   "source": [
    "### Построить график относительного изменения кумулятивного среднего количества заказов группы B к группе A."
   ]
  },
  {
   "cell_type": "code",
   "execution_count": 43,
   "metadata": {},
   "outputs": [
    {
     "data": {
      "image/png": "[encoded data removed]",
      "text/plain": [
       "<Figure size 432x288 with 1 Axes>"
      ]
     },
     "metadata": {
      "needs_background": "light"
     },
     "output_type": "display_data"
    }
   ],
   "source": [
    "# Объединение таблиц cumulativeDataA и cumulativeDataB\n",
    "mergedCumulativeOrders = cumulativeDataA[['date','orders','visitors']].merge(cumulativeDataB[['date','orders','visitors']], left_on='date', right_on='date', how='left', suffixes=['A', 'B'])\n",
    "# Построение графика\n",
    "plt.plot(mergedCumulativeOrders['date'], (mergedCumulativeOrders['ordersB']/ mergedCumulativeOrders['visitorsB'])/(mergedCumulativeOrders['ordersA']/ mergedCumulativeOrders['visitorsA']-1), label=\"Относительный прирост заказов в группе B относительно группы A\")\n",
    "\n",
    "plt.axhline(y=-0.030, color='black', linestyle='--')\n",
    "plt.title('График относительного изменения кумулятивного среднего количества заказов группы B к группе A')\n",
    "plt.legend()\n",
    "plt.xticks(rotation=90)\n",
    "plt.show()"
   ]
  },
  {
   "cell_type": "markdown",
   "metadata": {},
   "source": [
    "**Вывод**: видно, что постепенно показатели группы B выравниваются."
   ]
  },
  {
   "cell_type": "markdown",
   "metadata": {},
   "source": [
    "### Построить точечный график количества заказов по пользователям. "
   ]
  },
  {
   "cell_type": "code",
   "execution_count": 30,
   "metadata": {},
   "outputs": [
    {
     "data": {
      "image/png": "[encoded data removed]",
      "text/plain": [
       "<Figure size 432x288 with 1 Axes>"
      ]
     },
     "metadata": {
      "needs_background": "light"
     },
     "output_type": "display_data"
    }
   ],
   "source": [
    "ordersByUsers = (\n",
    "    orders.groupby('visitorid', as_index=False)\n",
    "    .agg({'transactionid': 'nunique'})\n",
    ")\n",
    "ordersByUsers.columns = ['visitorid', 'orders']\n",
    "\n",
    "x_values = pd.Series(range(0, len(ordersByUsers)))\n",
    "\n",
    "plt.scatter(x_values, ordersByUsers['orders'])\n",
    "plt.title('График количества заказов по пользователям')\n",
    "plt.ylabel('Заказы')\n",
    "plt.xlabel('Посетители')\n",
    "plt.show()"
   ]
  },
  {
   "cell_type": "markdown",
   "metadata": {},
   "source": [
    "**Вывод**: преимущественное количество пользователей не офомляло больше одного заказа, в то время как по графику видно, что назодились единичные пользователи оформляли более 10 заказов, поэтому нужно посчитать перцентили и, при необходимости, убрать таких пользователей из анализа."
   ]
  },
  {
   "cell_type": "markdown",
   "metadata": {},
   "source": [
    "### Посчитать 95-й и 99-й перцентили количества заказов на пользователя."
   ]
  },
  {
   "cell_type": "code",
   "execution_count": 31,
   "metadata": {},
   "outputs": [
    {
     "data": {
      "text/plain": [
       "array([1., 2.])"
      ]
     },
     "execution_count": 31,
     "metadata": {},
     "output_type": "execute_result"
    }
   ],
   "source": [
    "np.percentile(ordersByUsers['orders'], [95, 99])"
   ]
  },
  {
   "cell_type": "markdown",
   "metadata": {},
   "source": [
    "**Вывод**: не более 5 процентов пользователей сделали больше 1 заказа и лишь 1 процент пользователей сделали больше 2-ех заказов. \n",
    "В дальнейшем для целей анализа предлагаю считать выбросами тех пользователей, которые сделали больше 2-ух заказов."
   ]
  },
  {
   "cell_type": "markdown",
   "metadata": {},
   "source": [
    "### Построить точечный график стоимостей заказов. "
   ]
  },
  {
   "cell_type": "code",
   "execution_count": 32,
   "metadata": {},
   "outputs": [
    {
     "data": {
      "image/png": "[encoded data removed]",
      "text/plain": [
       "<Figure size 432x288 with 1 Axes>"
      ]
     },
     "metadata": {
      "needs_background": "light"
     },
     "output_type": "display_data"
    }
   ],
   "source": [
    "x_values = pd.Series(range(0, len(orders)))\n",
    "\n",
    "plt.scatter(x_values, orders['revenue'])\n",
    "plt.title('График стоимости заказов')\n",
    "plt.ylabel('Стоимость')\n",
    "plt.ylim(0,150000)\n",
    "plt.xlabel('Заказы')\n",
    "plt.show()"
   ]
  },
  {
   "cell_type": "markdown",
   "metadata": {},
   "source": [
    "**Вывод**: большая часть пользоователей делает заказы на сумму, не превышающую 20 000 рублей, но для того, чтобы идентифицировать выбросы, необходимо обратиться к перцентилям. "
   ]
  },
  {
   "cell_type": "markdown",
   "metadata": {},
   "source": [
    "### Посчитать 95-й и 99-й перцентили стоимости заказов."
   ]
  },
  {
   "cell_type": "code",
   "execution_count": 33,
   "metadata": {},
   "outputs": [
    {
     "data": {
      "text/plain": [
       "array([26785., 53904.])"
      ]
     },
     "execution_count": 33,
     "metadata": {},
     "output_type": "execute_result"
    }
   ],
   "source": [
    "np.percentile(orders['revenue'], [95, 99])"
   ]
  },
  {
   "cell_type": "markdown",
   "metadata": {},
   "source": [
    "**Вывод**: не более пяти процентов пользователей совершают заказы на сумму больше чем  26 785 рублей и лишь один процет на сумму выше 53 904 рублей, поэтому для целей дальнейшего анализа предлагаю считать тех пользователей, кто заказал на сумму свыше 26 785 рублей, выбросами."
   ]
  },
  {
   "cell_type": "markdown",
   "metadata": {},
   "source": [
    "### Посчитать статистическую значимость различий в среднем количестве заказов между группами по «сырым» данным."
   ]
  },
  {
   "cell_type": "markdown",
   "metadata": {},
   "source": [
    "Нулевая гипотеза: в группах А и B нет различий в среднем количестве заказов.  \n",
    "Альтернативная гипотеза: в группах A и В есть различия в среднем количестве заказов.  \n",
    "В целях статистического анализа определим уровень статистической значимости a = 0.05"
   ]
  },
  {
   "cell_type": "code",
   "execution_count": 34,
   "metadata": {},
   "outputs": [
    {
     "name": "stdout",
     "output_type": "stream",
     "text": [
      "p-value =  0.01102\n",
      "Относительная разница =  0.160\n"
     ]
    }
   ],
   "source": [
    "visitorsADaily = visitors[visitors['group'] == 'A'][['date', 'visitors']]\n",
    "visitorsADaily.columns = ['date', 'visitorsPerDateA']\n",
    "\n",
    "visitorsACummulative = visitorsADaily.apply(\n",
    "    lambda x: visitorsADaily[visitorsADaily['date'] <= x['date']].agg(\n",
    "        {'date': 'max', 'visitorsPerDateA': 'sum'}\n",
    "    ),\n",
    "    axis=1,\n",
    ")\n",
    "visitorsACummulative.columns = ['date', 'visitorsCummulativeA']\n",
    "\n",
    "visitorsBDaily = visitors[visitors['group'] == 'B'][['date', 'visitors']]\n",
    "visitorsBDaily.columns = ['date', 'visitorsPerDateB']\n",
    "\n",
    "visitorsBCummulative = visitorsBDaily.apply(\n",
    "    lambda x: visitorsBDaily[visitorsBDaily['date'] <= x['date']].agg(\n",
    "        {'date': 'max', 'visitorsPerDateB': 'sum'}\n",
    "    ),\n",
    "    axis=1,\n",
    ")\n",
    "visitorsBCummulative.columns = ['date', 'visitorsCummulativeB']\n",
    "\n",
    "ordersADaily = (\n",
    "    orders[orders['group'] == 'A'][['date', 'transactionid', 'visitorid', 'revenue']]\n",
    "    .groupby('date', as_index=False)\n",
    "    .agg({'transactionid': pd.Series.nunique, 'revenue': 'sum'})\n",
    ")\n",
    "ordersADaily.columns = ['date', 'ordersPerDateA', 'revenuePerDateA']\n",
    "\n",
    "ordersACummulative = ordersADaily.apply(\n",
    "    lambda x: ordersADaily[ordersADaily['date'] <= x['date']].agg(\n",
    "        {'date': 'max', 'ordersPerDateA': 'sum', 'revenuePerDateA': 'sum'}\n",
    "    ),\n",
    "    axis=1,\n",
    ").sort_values(by=['date'])\n",
    "ordersACummulative.columns = [\n",
    "    'date',\n",
    "    'ordersCummulativeA',\n",
    "    'revenueCummulativeA',\n",
    "]\n",
    "\n",
    "ordersBDaily = (\n",
    "    orders[orders['group'] == 'B'][['date', 'transactionid', 'visitorid', 'revenue']]\n",
    "    .groupby('date', as_index=False)\n",
    "    .agg({'transactionid': pd.Series.nunique, 'revenue': 'sum'})\n",
    ")\n",
    "ordersBDaily.columns = ['date', 'ordersPerDateB', 'revenuePerDateB']\n",
    "\n",
    "ordersBCummulative = ordersBDaily.apply(\n",
    "    lambda x: ordersBDaily[ordersBDaily['date'] <= x['date']].agg(\n",
    "        {'date': 'max', 'ordersPerDateB': 'sum', 'revenuePerDateB': 'sum'}\n",
    "    ),\n",
    "    axis=1,\n",
    ").sort_values(by=['date'])\n",
    "ordersBCummulative.columns = [\n",
    "    'date',\n",
    "    'ordersCummulativeB',\n",
    "    'revenueCummulativeB',\n",
    "]\n",
    "\n",
    "\n",
    "ordersByUsersA = (\n",
    "    orders[orders['group'] == 'A']\n",
    "    .groupby('visitorid', as_index=False)\n",
    "    .agg({'transactionid': pd.Series.nunique})\n",
    ")\n",
    "ordersByUsersA.columns = ['userId', 'orders']\n",
    "\n",
    "ordersByUsersB = (\n",
    "    orders[orders['group'] == 'B']\n",
    "    .groupby('visitorid', as_index=False)\n",
    "    .agg({'transactionid': pd.Series.nunique})\n",
    ")\n",
    "ordersByUsersB.columns = ['userId', 'orders']\n",
    "\n",
    "sampleA = pd.concat(\n",
    "    [\n",
    "        ordersByUsersA['orders'],\n",
    "        pd.Series(\n",
    "            0,\n",
    "            index=np.arange(\n",
    "                visitorsADaily['visitorsPerDateA'].sum() - len(ordersByUsersA['orders'])\n",
    "            ),\n",
    "            name='orders',\n",
    "        ),\n",
    "    ],\n",
    "    axis=0,\n",
    ")\n",
    "\n",
    "sampleB = pd.concat(\n",
    "    [\n",
    "        ordersByUsersB['orders'],\n",
    "        pd.Series(\n",
    "            0,\n",
    "            index=np.arange(\n",
    "                visitorsBDaily['visitorsPerDateB'].sum() - len(ordersByUsersB['orders'])\n",
    "            ),\n",
    "            name='orders',\n",
    "        ),\n",
    "    ],\n",
    "    axis=0,\n",
    ")\n",
    "\n",
    "\n",
    "print('p-value = ',\"{0:.5f}\".format(stats.mannwhitneyu(sampleA, sampleB)[1]))\n",
    "\n",
    "print('Относительная разница = ',\"{0:.3f}\".format(sampleB.mean() / sampleA.mean() - 1))\n",
    "\n"
   ]
  },
  {
   "cell_type": "markdown",
   "metadata": {},
   "source": [
    "**Вывод**: p-value ниже уровня альфа, поэтому мы можем отвергнуть нулевую гипотезу в пользу того, что между группами есть статистическая разница.\n",
    "Относительная разница составляет 13 процентов в пользу группы B."
   ]
  },
  {
   "cell_type": "markdown",
   "metadata": {},
   "source": [
    "### Посчитать статистическую значимость различий в среднем количестве заказов между группами по «очищенным» данным."
   ]
  },
  {
   "cell_type": "markdown",
   "metadata": {},
   "source": [
    "Нулевая гипотеза: в группах А и B нет различий в среднем количестве заказов.  \n",
    "Альтернативная гипотеза: в группах A и В есть различия в среднем количестве заказов.  \n",
    "В целях статистического анализа определим уровень статистической значимости a = 0.05"
   ]
  },
  {
   "cell_type": "code",
   "execution_count": 35,
   "metadata": {},
   "outputs": [
    {
     "name": "stdout",
     "output_type": "stream",
     "text": [
      "p-value = 0.01235\n",
      "Относительная разница = 0.182\n"
     ]
    }
   ],
   "source": [
    "usersWithManyOrders = pd.concat(\n",
    "    [\n",
    "        ordersByUsersA[ordersByUsersA['orders'] > 2]['userId'],\n",
    "        ordersByUsersB[ordersByUsersB['orders'] > 2]['userId'],\n",
    "    ],\n",
    "    axis=0,\n",
    ")\n",
    "usersWithExpensiveOrders = orders[orders['revenue'] > 26785]['visitorid']\n",
    "\n",
    "abnormalUsers = (\n",
    "    pd.concat([usersWithManyOrders, usersWithExpensiveOrders], axis=0)\n",
    "    .drop_duplicates()\n",
    "    .sort_values()\n",
    ")\n",
    "\n",
    "sampleAFiltered = pd.concat(\n",
    "[\n",
    "    ordersByUsersA[\n",
    "        np.logical_not(ordersByUsersA['userId'].isin(abnormalUsers))]['orders'],\n",
    "        pd.Series(\n",
    "        0,\n",
    "        index = np.arange(\n",
    "        visitorsADaily['visitorsPerDateA'].sum() - len(ordersByUsersA['orders'])), name = 'orders',\n",
    "        ),\n",
    "    ],\n",
    "    axis = 0\n",
    ")\n",
    "    \n",
    "sampleBFiltered = pd.concat(\n",
    "    [\n",
    "        ordersByUsersB[\n",
    "            np.logical_not(ordersByUsersB['userId'].isin(abnormalUsers))\n",
    "        ]['orders'],\n",
    "        pd.Series(\n",
    "            0,\n",
    "            index=np.arange(\n",
    "                visitorsBDaily['visitorsPerDateB'].sum() - len(ordersByUsersB['orders'])\n",
    "            ),\n",
    "            name='orders',\n",
    "        ),\n",
    "    ],\n",
    "    axis=0,\n",
    ")\n",
    "\n",
    "print('p-value =','{0:.5f}'.format(stats.mannwhitneyu(sampleAFiltered, sampleBFiltered)[1]))\n",
    "print('Относительная разница =','{0:.3f}'.format(sampleBFiltered.mean()/sampleAFiltered.mean()-1)) "
   ]
  },
  {
   "cell_type": "markdown",
   "metadata": {},
   "source": [
    "**Вывод**: даже по очищенным данным видно, что p-value ниже уровня альфа, поэтому мы можем отвергнуть нулевую гипотезу в пользу того, что между группами есть статистическая разница.\n",
    "Относительная разница составляет 18 процентов в пользу группы B."
   ]
  },
  {
   "cell_type": "markdown",
   "metadata": {},
   "source": [
    "### Посчитать статистическую значимость различий в среднем чеке заказа между группами по «сырым» данным."
   ]
  },
  {
   "cell_type": "markdown",
   "metadata": {},
   "source": [
    "Нулевая гипотеза: в группах А и B нет различий в среднем чеке заказа.  \n",
    "Альтернативная гипотеза: в группах A и В есть различия в среднем чеке заказа.  \n",
    "В целях статистического анализа определим уровень статистической значимости a = 0.05"
   ]
  },
  {
   "cell_type": "code",
   "execution_count": 36,
   "metadata": {},
   "outputs": [
    {
     "name": "stdout",
     "output_type": "stream",
     "text": [
      "p-value = 0.82949\n",
      "Относительная разница =  0.287\n"
     ]
    }
   ],
   "source": [
    "print('p-value =','{0:.5f}'.format(stats.mannwhitneyu(orders[orders['group']=='A']['revenue'], orders[orders['group']=='B']['revenue'])[1])) \n",
    "print('Относительная разница = ','{0:.3f}'.format(orders[orders['group'] == 'B']['revenue'].mean()/orders[orders['group']=='A']['revenue'].mean() - 1))"
   ]
  },
  {
   "cell_type": "markdown",
   "metadata": {},
   "source": [
    "**Вывод**: несмотря на высокий пооказатель относительной разницы, мы не можем отвергнуть нулевую гипотезу в связи с очень высоким показателем p-value."
   ]
  },
  {
   "cell_type": "markdown",
   "metadata": {},
   "source": [
    "### Посчитать статистическую значимость различий в среднем чеке заказа между группами по «очищенным» данным."
   ]
  },
  {
   "cell_type": "markdown",
   "metadata": {},
   "source": [
    "Нулевая гипотеза: в группах А и B нет различий в среднем чеке заказа.  \n",
    "Альтернативная гипотеза: в группах A и В есть различия в среднем чеке заказа.  \n",
    "В целях статистического анализа определим уровень статистической значимости a = 0.05"
   ]
  },
  {
   "cell_type": "code",
   "execution_count": 37,
   "metadata": {},
   "outputs": [
    {
     "name": "stdout",
     "output_type": "stream",
     "text": [
      "p-value = 0.64590\n",
      "Отноосительная разница =  -0.048\n"
     ]
    }
   ],
   "source": [
    "print('p-value =',\n",
    "    '{0:.5f}'.format(\n",
    "        stats.mannwhitneyu(\n",
    "            orders[\n",
    "                np.logical_and(\n",
    "                    orders['group'] == 'A',\n",
    "                    np.logical_not(orders['visitorid'].isin(abnormalUsers)),\n",
    "                )\n",
    "            ]['revenue'],\n",
    "            orders[\n",
    "                np.logical_and(\n",
    "                    orders['group'] == 'B',\n",
    "                    np.logical_not(orders['visitorid'].isin(abnormalUsers)),\n",
    "                )\n",
    "            ]['revenue'],\n",
    "        )[1]\n",
    "    )\n",
    ")\n",
    "\n",
    "print('Отноосительная разница = ',\n",
    "    \"{0:.3f}\".format(\n",
    "        orders[\n",
    "            np.logical_and(\n",
    "                orders['group'] == 'B',\n",
    "                np.logical_not(orders['visitorid'].isin(abnormalUsers)),\n",
    "            )\n",
    "        ]['revenue'].mean()\n",
    "        / orders[\n",
    "            np.logical_and(\n",
    "                orders['group'] == 'A',\n",
    "                np.logical_not(orders['visitorid'].isin(abnormalUsers)),\n",
    "            )\n",
    "        ]['revenue'].mean()\n",
    "        - 1\n",
    "    )\n",
    ")"
   ]
  },
  {
   "cell_type": "markdown",
   "metadata": {},
   "source": [
    "**Вывод**: мы не можем отвергнуть нулевую гипотезу в связи с очень высоким показателем p-value, однако показатель разницы стал практически нулевым в связи с тем, что мы убрали выбросы из анализа."
   ]
  },
  {
   "cell_type": "markdown",
   "metadata": {},
   "source": [
    "## Вывод"
   ]
  },
  {
   "cell_type": "markdown",
   "metadata": {},
   "source": [
    "#### В рамках подготовки к A/B тесту группы были разделены некорректно, так как одна группа (B) больше другой (A) на двадцать процентов, что может влиять на результаты теста, которые мы получили. Также 92 пользователя в группах пересекались, поэтому они были исключены из анализа, так как их поведение мы оценивать не можем. \n",
    "#### По результатам анализа очищенных и сырых данных наблюдается статистическая разница в среднем количестве заказов между группами А и В в пользу последней в размере 13%. Данное значение зафиксировалось и держится на этом уровне без колебаний.  \n",
    "#### Результаты анализа очищенных и сырых данных не показали статистической разница между средним чеком группы А и B. Вероятно, что на графиках выручки и среднего чека, наблюдаются выбросы, не обусловленные проведением A/ B теста. \n",
    "#### Тест можно признать успешным и остановить его, так как результаты группы B по среднему количеству заказов стабильно лучше группы А.\n"
   ]
  }
 ],
 "metadata": {
  "ExecuteTimeLog": [
   {
    "duration": 407,
    "start_time": "2022-11-06T20:28:38.106Z"
   },
   {
    "duration": 797,
    "start_time": "2022-11-06T21:15:12.981Z"
   },
   {
    "duration": 213,
    "start_time": "2022-11-06T21:15:50.155Z"
   },
   {
    "duration": 2,
    "start_time": "2022-11-06T21:16:26.246Z"
   },
   {
    "duration": 73,
    "start_time": "2022-11-06T21:16:35.681Z"
   },
   {
    "duration": 3,
    "start_time": "2022-11-06T21:17:00.099Z"
   },
   {
    "duration": 10,
    "start_time": "2022-11-06T21:17:39.944Z"
   },
   {
    "duration": 98,
    "start_time": "2022-11-06T21:19:45.470Z"
   },
   {
    "duration": 14,
    "start_time": "2022-11-06T21:19:52.476Z"
   },
   {
    "duration": 10,
    "start_time": "2022-11-06T21:19:59.462Z"
   },
   {
    "duration": 42,
    "start_time": "2022-11-06T21:21:20.008Z"
   },
   {
    "duration": 13,
    "start_time": "2022-11-06T21:22:07.085Z"
   },
   {
    "duration": 10,
    "start_time": "2022-11-06T21:34:22.178Z"
   },
   {
    "duration": 3,
    "start_time": "2022-11-06T21:36:00.617Z"
   },
   {
    "duration": 2,
    "start_time": "2022-11-06T21:36:34.997Z"
   },
   {
    "duration": 9,
    "start_time": "2022-11-06T21:37:57.130Z"
   },
   {
    "duration": 7,
    "start_time": "2022-11-06T21:38:24.263Z"
   },
   {
    "duration": 4,
    "start_time": "2022-11-06T21:38:37.446Z"
   },
   {
    "duration": 3,
    "start_time": "2022-11-06T21:40:04.815Z"
   },
   {
    "duration": 4,
    "start_time": "2022-11-06T21:40:09.584Z"
   },
   {
    "duration": 9,
    "start_time": "2022-11-06T21:40:18.580Z"
   },
   {
    "duration": 8,
    "start_time": "2022-11-06T21:41:33.641Z"
   },
   {
    "duration": 7,
    "start_time": "2022-11-06T21:41:52.780Z"
   },
   {
    "duration": 988,
    "start_time": "2022-11-06T21:42:04.674Z"
   },
   {
    "duration": 72,
    "start_time": "2022-11-06T21:42:05.664Z"
   },
   {
    "duration": 3,
    "start_time": "2022-11-06T21:42:05.737Z"
   },
   {
    "duration": 30,
    "start_time": "2022-11-06T21:42:05.742Z"
   },
   {
    "duration": 38,
    "start_time": "2022-11-06T21:42:05.773Z"
   },
   {
    "duration": 21,
    "start_time": "2022-11-06T21:42:05.812Z"
   },
   {
    "duration": 25,
    "start_time": "2022-11-06T21:42:05.834Z"
   },
   {
    "duration": 21,
    "start_time": "2022-11-06T21:42:05.861Z"
   },
   {
    "duration": 28,
    "start_time": "2022-11-06T21:42:05.884Z"
   },
   {
    "duration": 45,
    "start_time": "2022-11-06T21:42:05.915Z"
   },
   {
    "duration": 12,
    "start_time": "2022-11-06T21:42:19.213Z"
   },
   {
    "duration": 107,
    "start_time": "2022-11-06T21:43:22.057Z"
   },
   {
    "duration": 25,
    "start_time": "2022-11-06T21:43:24.689Z"
   },
   {
    "duration": 510,
    "start_time": "2022-11-06T21:43:45.403Z"
   },
   {
    "duration": 26,
    "start_time": "2022-11-06T21:46:28.447Z"
   },
   {
    "duration": 25,
    "start_time": "2022-11-06T21:46:58.593Z"
   },
   {
    "duration": 483,
    "start_time": "2022-11-06T21:47:27.518Z"
   },
   {
    "duration": 480,
    "start_time": "2022-11-06T21:47:35.644Z"
   },
   {
    "duration": 487,
    "start_time": "2022-11-06T21:47:57.578Z"
   },
   {
    "duration": 477,
    "start_time": "2022-11-06T21:48:03.251Z"
   },
   {
    "duration": 237,
    "start_time": "2022-11-06T21:53:36.441Z"
   },
   {
    "duration": 39,
    "start_time": "2022-11-06T21:54:25.517Z"
   },
   {
    "duration": 439,
    "start_time": "2022-11-06T22:34:48.762Z"
   },
   {
    "duration": 338,
    "start_time": "2022-11-06T22:34:53.395Z"
   },
   {
    "duration": 333,
    "start_time": "2022-11-06T22:36:10.232Z"
   },
   {
    "duration": 243,
    "start_time": "2022-11-06T22:38:22.632Z"
   },
   {
    "duration": 248,
    "start_time": "2022-11-06T22:38:54.567Z"
   },
   {
    "duration": 266,
    "start_time": "2022-11-06T22:38:57.580Z"
   },
   {
    "duration": 275,
    "start_time": "2022-11-06T22:42:09.319Z"
   },
   {
    "duration": 158,
    "start_time": "2022-11-06T22:43:02.908Z"
   },
   {
    "duration": 126,
    "start_time": "2022-11-06T22:43:09.691Z"
   },
   {
    "duration": 241,
    "start_time": "2022-11-06T22:43:18.069Z"
   },
   {
    "duration": 309,
    "start_time": "2022-11-06T22:43:38.805Z"
   },
   {
    "duration": 353,
    "start_time": "2022-11-06T22:43:44.635Z"
   },
   {
    "duration": 6,
    "start_time": "2022-11-06T22:47:26.210Z"
   },
   {
    "duration": 269,
    "start_time": "2022-11-06T22:47:44.892Z"
   },
   {
    "duration": 1031,
    "start_time": "2022-11-06T22:48:10.234Z"
   },
   {
    "duration": 80,
    "start_time": "2022-11-06T22:48:11.267Z"
   },
   {
    "duration": 3,
    "start_time": "2022-11-06T22:48:11.348Z"
   },
   {
    "duration": 8,
    "start_time": "2022-11-06T22:48:11.352Z"
   },
   {
    "duration": 11,
    "start_time": "2022-11-06T22:48:11.362Z"
   },
   {
    "duration": 10,
    "start_time": "2022-11-06T22:48:11.375Z"
   },
   {
    "duration": 10,
    "start_time": "2022-11-06T22:48:11.386Z"
   },
   {
    "duration": 9,
    "start_time": "2022-11-06T22:48:11.397Z"
   },
   {
    "duration": 15,
    "start_time": "2022-11-06T22:48:11.407Z"
   },
   {
    "duration": 3,
    "start_time": "2022-11-06T22:48:11.423Z"
   },
   {
    "duration": 9,
    "start_time": "2022-11-06T22:48:11.427Z"
   },
   {
    "duration": 502,
    "start_time": "2022-11-06T22:48:11.437Z"
   },
   {
    "duration": 167,
    "start_time": "2022-11-06T22:48:11.940Z"
   },
   {
    "duration": 299,
    "start_time": "2022-11-06T22:48:12.109Z"
   },
   {
    "duration": 172,
    "start_time": "2022-11-06T22:48:12.410Z"
   },
   {
    "duration": 165,
    "start_time": "2022-11-06T22:48:21.589Z"
   },
   {
    "duration": 155,
    "start_time": "2022-11-06T22:48:26.735Z"
   },
   {
    "duration": 160,
    "start_time": "2022-11-06T22:48:42.234Z"
   },
   {
    "duration": 157,
    "start_time": "2022-11-06T22:48:49.198Z"
   },
   {
    "duration": 222,
    "start_time": "2022-11-06T22:55:12.088Z"
   },
   {
    "duration": 166,
    "start_time": "2022-11-06T22:55:20.512Z"
   },
   {
    "duration": 94,
    "start_time": "2022-11-06T23:00:43.576Z"
   },
   {
    "duration": 312,
    "start_time": "2022-11-06T23:01:09.498Z"
   },
   {
    "duration": 310,
    "start_time": "2022-11-06T23:01:21.643Z"
   },
   {
    "duration": 267,
    "start_time": "2022-11-06T23:01:28.163Z"
   },
   {
    "duration": 2,
    "start_time": "2022-11-06T23:03:44.068Z"
   },
   {
    "duration": 109,
    "start_time": "2022-11-06T23:04:52.191Z"
   },
   {
    "duration": 76,
    "start_time": "2022-11-06T23:06:25.919Z"
   },
   {
    "duration": 111,
    "start_time": "2022-11-06T23:09:09.697Z"
   },
   {
    "duration": 4,
    "start_time": "2022-11-06T23:13:50.715Z"
   },
   {
    "duration": 41,
    "start_time": "2022-11-06T23:14:54.765Z"
   },
   {
    "duration": 100,
    "start_time": "2022-11-06T23:18:06.738Z"
   },
   {
    "duration": 120,
    "start_time": "2022-11-06T23:18:20.411Z"
   },
   {
    "duration": 121,
    "start_time": "2022-11-06T23:18:35.294Z"
   },
   {
    "duration": 48,
    "start_time": "2022-11-06T23:18:42.783Z"
   },
   {
    "duration": 122,
    "start_time": "2022-11-06T23:18:46.230Z"
   },
   {
    "duration": 197,
    "start_time": "2022-11-06T23:19:51.072Z"
   },
   {
    "duration": 124,
    "start_time": "2022-11-06T23:19:54.570Z"
   },
   {
    "duration": 2,
    "start_time": "2022-11-06T23:20:58.682Z"
   },
   {
    "duration": 6,
    "start_time": "2022-11-06T23:21:18.856Z"
   },
   {
    "duration": 97,
    "start_time": "2022-11-06T23:22:51.312Z"
   },
   {
    "duration": 8,
    "start_time": "2022-11-07T00:01:31.502Z"
   },
   {
    "duration": 9,
    "start_time": "2022-11-07T00:01:38.027Z"
   },
   {
    "duration": 8,
    "start_time": "2022-11-07T00:02:16.569Z"
   },
   {
    "duration": 9,
    "start_time": "2022-11-07T00:02:21.156Z"
   },
   {
    "duration": 158,
    "start_time": "2022-11-07T00:03:40.329Z"
   },
   {
    "duration": 202,
    "start_time": "2022-11-07T00:04:24.611Z"
   },
   {
    "duration": 210,
    "start_time": "2022-11-07T00:04:44.513Z"
   },
   {
    "duration": 334,
    "start_time": "2022-11-07T00:05:20.092Z"
   },
   {
    "duration": 325,
    "start_time": "2022-11-07T00:05:27.427Z"
   },
   {
    "duration": 338,
    "start_time": "2022-11-07T00:06:33.392Z"
   },
   {
    "duration": 44,
    "start_time": "2022-11-07T00:09:09.222Z"
   },
   {
    "duration": 790,
    "start_time": "2022-11-07T00:11:02.178Z"
   },
   {
    "duration": 30,
    "start_time": "2022-11-07T00:11:47.197Z"
   },
   {
    "duration": 31,
    "start_time": "2022-11-07T00:12:14.883Z"
   },
   {
    "duration": 31,
    "start_time": "2022-11-07T00:12:29.439Z"
   },
   {
    "duration": 5,
    "start_time": "2022-11-07T00:15:11.661Z"
   },
   {
    "duration": 10,
    "start_time": "2022-11-07T00:17:52.455Z"
   },
   {
    "duration": 13,
    "start_time": "2022-11-07T00:20:44.521Z"
   },
   {
    "duration": 13,
    "start_time": "2022-11-07T00:21:06.807Z"
   },
   {
    "duration": 14,
    "start_time": "2022-11-07T00:21:10.851Z"
   },
   {
    "duration": 49,
    "start_time": "2022-11-07T00:21:35.180Z"
   },
   {
    "duration": 2,
    "start_time": "2022-11-07T00:23:42.089Z"
   },
   {
    "duration": 45,
    "start_time": "2022-11-07T00:25:53.271Z"
   },
   {
    "duration": 969,
    "start_time": "2022-11-07T00:30:59.183Z"
   },
   {
    "duration": 73,
    "start_time": "2022-11-07T00:31:00.153Z"
   },
   {
    "duration": 3,
    "start_time": "2022-11-07T00:31:00.227Z"
   },
   {
    "duration": 11,
    "start_time": "2022-11-07T00:31:00.232Z"
   },
   {
    "duration": 14,
    "start_time": "2022-11-07T00:31:00.245Z"
   },
   {
    "duration": 21,
    "start_time": "2022-11-07T00:31:00.260Z"
   },
   {
    "duration": 45,
    "start_time": "2022-11-07T00:31:00.282Z"
   },
   {
    "duration": 16,
    "start_time": "2022-11-07T00:31:00.328Z"
   },
   {
    "duration": 18,
    "start_time": "2022-11-07T00:31:00.345Z"
   },
   {
    "duration": 18,
    "start_time": "2022-11-07T00:31:00.365Z"
   },
   {
    "duration": 30,
    "start_time": "2022-11-07T00:31:00.384Z"
   },
   {
    "duration": 7,
    "start_time": "2022-11-07T00:31:00.415Z"
   },
   {
    "duration": 17,
    "start_time": "2022-11-07T00:31:00.424Z"
   },
   {
    "duration": 471,
    "start_time": "2022-11-07T00:31:00.443Z"
   },
   {
    "duration": 171,
    "start_time": "2022-11-07T00:31:00.921Z"
   },
   {
    "duration": 313,
    "start_time": "2022-11-07T00:31:01.093Z"
   },
   {
    "duration": 187,
    "start_time": "2022-11-07T00:31:01.407Z"
   },
   {
    "duration": 333,
    "start_time": "2022-11-07T00:31:01.596Z"
   },
   {
    "duration": 128,
    "start_time": "2022-11-07T00:31:01.930Z"
   },
   {
    "duration": 4,
    "start_time": "2022-11-07T00:31:02.060Z"
   },
   {
    "duration": 146,
    "start_time": "2022-11-07T00:31:02.065Z"
   },
   {
    "duration": 9,
    "start_time": "2022-11-07T00:31:02.213Z"
   },
   {
    "duration": 332,
    "start_time": "2022-11-07T00:31:02.224Z"
   },
   {
    "duration": 30,
    "start_time": "2022-11-07T00:31:02.558Z"
   },
   {
    "duration": 10,
    "start_time": "2022-11-07T00:31:02.590Z"
   },
   {
    "duration": 30,
    "start_time": "2022-11-07T00:31:02.601Z"
   },
   {
    "duration": 333,
    "start_time": "2022-11-07T00:32:59.590Z"
   },
   {
    "duration": 1164,
    "start_time": "2022-11-07T09:59:53.950Z"
   },
   {
    "duration": 250,
    "start_time": "2022-11-07T09:59:55.116Z"
   },
   {
    "duration": 3,
    "start_time": "2022-11-07T09:59:55.368Z"
   },
   {
    "duration": 5,
    "start_time": "2022-11-07T09:59:55.374Z"
   },
   {
    "duration": 16,
    "start_time": "2022-11-07T09:59:55.381Z"
   },
   {
    "duration": 14,
    "start_time": "2022-11-07T09:59:55.399Z"
   },
   {
    "duration": 14,
    "start_time": "2022-11-07T09:59:55.415Z"
   },
   {
    "duration": 7,
    "start_time": "2022-11-07T09:59:55.431Z"
   },
   {
    "duration": 10,
    "start_time": "2022-11-07T09:59:55.439Z"
   },
   {
    "duration": 27,
    "start_time": "2022-11-07T09:59:55.452Z"
   },
   {
    "duration": 6,
    "start_time": "2022-11-07T09:59:55.481Z"
   },
   {
    "duration": 13,
    "start_time": "2022-11-07T09:59:55.489Z"
   },
   {
    "duration": 20,
    "start_time": "2022-11-07T09:59:55.504Z"
   },
   {
    "duration": 606,
    "start_time": "2022-11-07T09:59:55.526Z"
   },
   {
    "duration": 213,
    "start_time": "2022-11-07T09:59:56.133Z"
   },
   {
    "duration": 288,
    "start_time": "2022-11-07T09:59:56.349Z"
   },
   {
    "duration": 226,
    "start_time": "2022-11-07T09:59:56.638Z"
   },
   {
    "duration": 331,
    "start_time": "2022-11-07T09:59:56.865Z"
   },
   {
    "duration": 145,
    "start_time": "2022-11-07T09:59:57.197Z"
   },
   {
    "duration": 6,
    "start_time": "2022-11-07T09:59:57.345Z"
   },
   {
    "duration": 171,
    "start_time": "2022-11-07T09:59:57.352Z"
   },
   {
    "duration": 5,
    "start_time": "2022-11-07T09:59:57.525Z"
   },
   {
    "duration": 396,
    "start_time": "2022-11-07T09:59:57.532Z"
   },
   {
    "duration": 35,
    "start_time": "2022-11-07T09:59:57.930Z"
   },
   {
    "duration": 11,
    "start_time": "2022-11-07T09:59:57.967Z"
   },
   {
    "duration": 15,
    "start_time": "2022-11-07T09:59:57.979Z"
   },
   {
    "duration": 14,
    "start_time": "2022-11-07T10:52:37.410Z"
   },
   {
    "duration": 108,
    "start_time": "2022-11-07T10:52:44.751Z"
   },
   {
    "duration": 10,
    "start_time": "2022-11-07T10:52:46.972Z"
   },
   {
    "duration": 10,
    "start_time": "2022-11-07T10:52:50.550Z"
   },
   {
    "duration": 8,
    "start_time": "2022-11-07T10:53:02.288Z"
   },
   {
    "duration": 7,
    "start_time": "2022-11-07T10:53:04.990Z"
   },
   {
    "duration": 6,
    "start_time": "2022-11-07T10:53:11.354Z"
   },
   {
    "duration": 11,
    "start_time": "2022-11-07T10:53:28.492Z"
   },
   {
    "duration": 11,
    "start_time": "2022-11-07T10:53:33.511Z"
   },
   {
    "duration": 157,
    "start_time": "2022-11-07T11:10:52.879Z"
   },
   {
    "duration": 214,
    "start_time": "2022-11-07T11:10:56.411Z"
   },
   {
    "duration": 158,
    "start_time": "2022-11-07T11:10:59.288Z"
   },
   {
    "duration": 56,
    "start_time": "2022-11-08T11:59:00.071Z"
   },
   {
    "duration": 1392,
    "start_time": "2022-11-08T11:59:07.823Z"
   },
   {
    "duration": 236,
    "start_time": "2022-11-08T11:59:09.218Z"
   },
   {
    "duration": 3,
    "start_time": "2022-11-08T11:59:09.456Z"
   },
   {
    "duration": 22,
    "start_time": "2022-11-08T11:59:09.463Z"
   },
   {
    "duration": 17,
    "start_time": "2022-11-08T11:59:09.486Z"
   },
   {
    "duration": 13,
    "start_time": "2022-11-08T11:59:09.505Z"
   },
   {
    "duration": 13,
    "start_time": "2022-11-08T11:59:09.520Z"
   },
   {
    "duration": 31,
    "start_time": "2022-11-08T11:59:09.534Z"
   },
   {
    "duration": 10,
    "start_time": "2022-11-08T11:59:09.567Z"
   },
   {
    "duration": 9,
    "start_time": "2022-11-08T11:59:09.580Z"
   },
   {
    "duration": 5,
    "start_time": "2022-11-08T11:59:09.591Z"
   },
   {
    "duration": 3,
    "start_time": "2022-11-08T11:59:09.598Z"
   },
   {
    "duration": 7,
    "start_time": "2022-11-08T11:59:09.603Z"
   },
   {
    "duration": 597,
    "start_time": "2022-11-08T11:59:09.612Z"
   },
   {
    "duration": 211,
    "start_time": "2022-11-08T11:59:10.211Z"
   },
   {
    "duration": 340,
    "start_time": "2022-11-08T11:59:10.423Z"
   },
   {
    "duration": 266,
    "start_time": "2022-11-08T11:59:10.765Z"
   },
   {
    "duration": 0,
    "start_time": "2022-11-08T11:59:11.033Z"
   },
   {
    "duration": 0,
    "start_time": "2022-11-08T11:59:11.034Z"
   },
   {
    "duration": 0,
    "start_time": "2022-11-08T11:59:11.035Z"
   },
   {
    "duration": 0,
    "start_time": "2022-11-08T11:59:11.036Z"
   },
   {
    "duration": 0,
    "start_time": "2022-11-08T11:59:11.037Z"
   },
   {
    "duration": 0,
    "start_time": "2022-11-08T11:59:11.039Z"
   },
   {
    "duration": 0,
    "start_time": "2022-11-08T11:59:11.040Z"
   },
   {
    "duration": 0,
    "start_time": "2022-11-08T11:59:11.041Z"
   },
   {
    "duration": 0,
    "start_time": "2022-11-08T11:59:11.043Z"
   },
   {
    "duration": 42,
    "start_time": "2022-11-09T19:28:50.770Z"
   },
   {
    "duration": 1184,
    "start_time": "2022-11-09T19:28:55.058Z"
   },
   {
    "duration": 156,
    "start_time": "2022-11-09T19:28:56.244Z"
   },
   {
    "duration": 3,
    "start_time": "2022-11-09T19:28:56.402Z"
   },
   {
    "duration": 6,
    "start_time": "2022-11-09T19:28:56.406Z"
   },
   {
    "duration": 12,
    "start_time": "2022-11-09T19:28:56.413Z"
   },
   {
    "duration": 11,
    "start_time": "2022-11-09T19:28:56.426Z"
   },
   {
    "duration": 9,
    "start_time": "2022-11-09T19:28:56.438Z"
   },
   {
    "duration": 8,
    "start_time": "2022-11-09T19:28:56.448Z"
   },
   {
    "duration": 8,
    "start_time": "2022-11-09T19:28:56.457Z"
   },
   {
    "duration": 8,
    "start_time": "2022-11-09T19:28:56.467Z"
   },
   {
    "duration": 5,
    "start_time": "2022-11-09T19:28:56.477Z"
   },
   {
    "duration": 5,
    "start_time": "2022-11-09T19:28:56.483Z"
   },
   {
    "duration": 39,
    "start_time": "2022-11-09T19:28:56.489Z"
   },
   {
    "duration": 32,
    "start_time": "2022-11-09T19:28:56.529Z"
   },
   {
    "duration": 495,
    "start_time": "2022-11-09T19:28:56.563Z"
   },
   {
    "duration": 183,
    "start_time": "2022-11-09T19:28:57.060Z"
   },
   {
    "duration": 286,
    "start_time": "2022-11-09T19:28:57.245Z"
   },
   {
    "duration": 179,
    "start_time": "2022-11-09T19:28:57.533Z"
   },
   {
    "duration": 321,
    "start_time": "2022-11-09T19:28:57.714Z"
   },
   {
    "duration": 115,
    "start_time": "2022-11-09T19:28:58.037Z"
   },
   {
    "duration": 4,
    "start_time": "2022-11-09T19:28:58.154Z"
   },
   {
    "duration": 137,
    "start_time": "2022-11-09T19:28:58.160Z"
   },
   {
    "duration": 5,
    "start_time": "2022-11-09T19:28:58.299Z"
   },
   {
    "duration": 360,
    "start_time": "2022-11-09T19:28:58.306Z"
   },
   {
    "duration": 29,
    "start_time": "2022-11-09T19:28:58.667Z"
   },
   {
    "duration": 9,
    "start_time": "2022-11-09T19:28:58.698Z"
   },
   {
    "duration": 26,
    "start_time": "2022-11-09T19:28:58.709Z"
   },
   {
    "duration": 15,
    "start_time": "2022-11-09T19:44:59.655Z"
   },
   {
    "duration": 14,
    "start_time": "2022-11-09T19:45:34.932Z"
   },
   {
    "duration": 6,
    "start_time": "2022-11-09T19:46:16.288Z"
   },
   {
    "duration": 5,
    "start_time": "2022-11-09T19:46:24.893Z"
   },
   {
    "duration": 8,
    "start_time": "2022-11-09T19:54:33.640Z"
   },
   {
    "duration": 229,
    "start_time": "2022-11-09T19:56:09.994Z"
   },
   {
    "duration": 166,
    "start_time": "2022-11-09T19:57:44.347Z"
   },
   {
    "duration": 6,
    "start_time": "2022-11-09T20:01:01.063Z"
   },
   {
    "duration": 1195,
    "start_time": "2022-11-09T20:01:23.119Z"
   },
   {
    "duration": 8,
    "start_time": "2022-11-09T20:01:42.144Z"
   },
   {
    "duration": 393,
    "start_time": "2022-11-09T20:02:11.964Z"
   },
   {
    "duration": 309,
    "start_time": "2022-11-09T20:08:31.419Z"
   },
   {
    "duration": 285,
    "start_time": "2022-11-09T20:08:38.625Z"
   },
   {
    "duration": 26,
    "start_time": "2022-11-09T20:11:12.084Z"
   },
   {
    "duration": 14,
    "start_time": "2022-11-09T20:11:20.632Z"
   },
   {
    "duration": 260,
    "start_time": "2022-11-09T20:12:58.888Z"
   },
   {
    "duration": 166,
    "start_time": "2022-11-09T20:15:57.353Z"
   },
   {
    "duration": 160,
    "start_time": "2022-11-09T20:17:48.656Z"
   },
   {
    "duration": 163,
    "start_time": "2022-11-09T20:20:30.600Z"
   },
   {
    "duration": 157,
    "start_time": "2022-11-09T20:22:35.089Z"
   },
   {
    "duration": 183,
    "start_time": "2022-11-09T20:22:39.367Z"
   },
   {
    "duration": 70,
    "start_time": "2022-11-09T20:27:27.178Z"
   },
   {
    "duration": 287,
    "start_time": "2022-11-09T20:27:33.939Z"
   },
   {
    "duration": 168,
    "start_time": "2022-11-09T20:30:55.247Z"
   },
   {
    "duration": 156,
    "start_time": "2022-11-09T20:31:24.455Z"
   },
   {
    "duration": 291,
    "start_time": "2022-11-09T20:32:21.228Z"
   },
   {
    "duration": 295,
    "start_time": "2022-11-09T20:32:34.744Z"
   },
   {
    "duration": 4,
    "start_time": "2022-11-09T21:11:52.401Z"
   },
   {
    "duration": 170,
    "start_time": "2022-11-09T23:38:24.964Z"
   },
   {
    "duration": 177,
    "start_time": "2022-11-09T23:41:21.674Z"
   },
   {
    "duration": 167,
    "start_time": "2022-11-09T23:44:10.422Z"
   },
   {
    "duration": 265,
    "start_time": "2022-11-09T23:44:32.182Z"
   },
   {
    "duration": 168,
    "start_time": "2022-11-09T23:49:39.213Z"
   },
   {
    "duration": 288,
    "start_time": "2022-11-09T23:49:51.692Z"
   },
   {
    "duration": 359,
    "start_time": "2022-11-09T23:50:30.159Z"
   },
   {
    "duration": 303,
    "start_time": "2022-11-09T23:50:35.298Z"
   },
   {
    "duration": 298,
    "start_time": "2022-11-09T23:50:46.614Z"
   },
   {
    "duration": 292,
    "start_time": "2022-11-09T23:50:50.194Z"
   },
   {
    "duration": 1157,
    "start_time": "2022-11-09T23:55:00.508Z"
   },
   {
    "duration": 300,
    "start_time": "2022-11-09T23:56:14.170Z"
   },
   {
    "duration": 169,
    "start_time": "2022-11-09T23:58:00.428Z"
   },
   {
    "duration": 1127,
    "start_time": "2022-11-09T23:59:48.894Z"
   },
   {
    "duration": 309,
    "start_time": "2022-11-10T00:00:09.119Z"
   },
   {
    "duration": 311,
    "start_time": "2022-11-10T00:00:19.515Z"
   },
   {
    "duration": 257,
    "start_time": "2022-11-10T00:00:25.775Z"
   },
   {
    "duration": 334,
    "start_time": "2022-11-10T00:00:29.514Z"
   },
   {
    "duration": 10,
    "start_time": "2022-11-10T00:05:21.763Z"
   },
   {
    "duration": 80,
    "start_time": "2022-11-10T00:05:54.985Z"
   },
   {
    "duration": 8,
    "start_time": "2022-11-10T00:05:59.085Z"
   },
   {
    "duration": 12,
    "start_time": "2022-11-10T00:06:04.112Z"
   },
   {
    "duration": 10,
    "start_time": "2022-11-10T00:06:12.057Z"
   },
   {
    "duration": 6,
    "start_time": "2022-11-10T00:06:20.199Z"
   },
   {
    "duration": 5,
    "start_time": "2022-11-10T00:06:42.973Z"
   },
   {
    "duration": 4,
    "start_time": "2022-11-10T00:06:54.846Z"
   },
   {
    "duration": 4,
    "start_time": "2022-11-10T00:06:59.374Z"
   },
   {
    "duration": 4,
    "start_time": "2022-11-10T00:07:04.495Z"
   },
   {
    "duration": 5,
    "start_time": "2022-11-10T00:08:14.774Z"
   },
   {
    "duration": 4,
    "start_time": "2022-11-10T00:08:18.589Z"
   },
   {
    "duration": 995,
    "start_time": "2022-11-10T00:10:41.822Z"
   },
   {
    "duration": 4,
    "start_time": "2022-11-10T00:11:03.842Z"
   },
   {
    "duration": 4,
    "start_time": "2022-11-10T00:11:16.550Z"
   },
   {
    "duration": 5,
    "start_time": "2022-11-10T00:11:27.460Z"
   },
   {
    "duration": 4,
    "start_time": "2022-11-10T00:11:40.356Z"
   },
   {
    "duration": 11,
    "start_time": "2022-11-10T00:17:03.346Z"
   },
   {
    "duration": 1182,
    "start_time": "2022-11-10T00:17:46.540Z"
   },
   {
    "duration": 8,
    "start_time": "2022-11-10T00:17:55.606Z"
   },
   {
    "duration": 1006,
    "start_time": "2022-11-10T00:20:13.285Z"
   },
   {
    "duration": 62,
    "start_time": "2022-11-10T00:20:14.293Z"
   },
   {
    "duration": 2,
    "start_time": "2022-11-10T00:20:14.357Z"
   },
   {
    "duration": 6,
    "start_time": "2022-11-10T00:20:14.362Z"
   },
   {
    "duration": 21,
    "start_time": "2022-11-10T00:20:14.369Z"
   },
   {
    "duration": 11,
    "start_time": "2022-11-10T00:20:14.391Z"
   },
   {
    "duration": 11,
    "start_time": "2022-11-10T00:20:14.403Z"
   },
   {
    "duration": 14,
    "start_time": "2022-11-10T00:20:14.416Z"
   },
   {
    "duration": 17,
    "start_time": "2022-11-10T00:20:14.432Z"
   },
   {
    "duration": 5,
    "start_time": "2022-11-10T00:20:14.451Z"
   },
   {
    "duration": 14,
    "start_time": "2022-11-10T00:20:14.457Z"
   },
   {
    "duration": 10,
    "start_time": "2022-11-10T00:20:14.472Z"
   },
   {
    "duration": 8,
    "start_time": "2022-11-10T00:20:14.483Z"
   },
   {
    "duration": 8,
    "start_time": "2022-11-10T00:20:14.493Z"
   },
   {
    "duration": 25,
    "start_time": "2022-11-10T00:20:14.502Z"
   },
   {
    "duration": 8,
    "start_time": "2022-11-10T00:20:14.528Z"
   },
   {
    "duration": 1205,
    "start_time": "2022-11-10T00:20:14.537Z"
   },
   {
    "duration": 0,
    "start_time": "2022-11-10T00:20:15.744Z"
   },
   {
    "duration": 0,
    "start_time": "2022-11-10T00:20:15.745Z"
   },
   {
    "duration": 0,
    "start_time": "2022-11-10T00:20:15.747Z"
   },
   {
    "duration": 0,
    "start_time": "2022-11-10T00:20:15.748Z"
   },
   {
    "duration": 0,
    "start_time": "2022-11-10T00:20:15.749Z"
   },
   {
    "duration": 0,
    "start_time": "2022-11-10T00:20:15.751Z"
   },
   {
    "duration": 0,
    "start_time": "2022-11-10T00:20:15.752Z"
   },
   {
    "duration": 0,
    "start_time": "2022-11-10T00:20:15.753Z"
   },
   {
    "duration": 0,
    "start_time": "2022-11-10T00:20:15.754Z"
   },
   {
    "duration": 0,
    "start_time": "2022-11-10T00:20:15.756Z"
   },
   {
    "duration": 0,
    "start_time": "2022-11-10T00:20:15.757Z"
   },
   {
    "duration": 0,
    "start_time": "2022-11-10T00:20:15.758Z"
   },
   {
    "duration": 0,
    "start_time": "2022-11-10T00:20:15.760Z"
   },
   {
    "duration": 0,
    "start_time": "2022-11-10T00:20:15.760Z"
   },
   {
    "duration": 8,
    "start_time": "2022-11-10T00:20:27.593Z"
   },
   {
    "duration": 5,
    "start_time": "2022-11-10T00:21:25.940Z"
   },
   {
    "duration": 6,
    "start_time": "2022-11-10T00:21:48.425Z"
   },
   {
    "duration": 14,
    "start_time": "2022-11-10T00:22:16.098Z"
   },
   {
    "duration": 6,
    "start_time": "2022-11-10T00:22:53.841Z"
   },
   {
    "duration": 5,
    "start_time": "2022-11-10T00:23:00.351Z"
   },
   {
    "duration": 5,
    "start_time": "2022-11-10T00:23:04.635Z"
   },
   {
    "duration": 11,
    "start_time": "2022-11-10T00:23:13.346Z"
   },
   {
    "duration": 6,
    "start_time": "2022-11-10T00:23:17.195Z"
   },
   {
    "duration": 7,
    "start_time": "2022-11-10T00:23:37.153Z"
   },
   {
    "duration": 4,
    "start_time": "2022-11-10T00:23:49.332Z"
   },
   {
    "duration": 6,
    "start_time": "2022-11-10T00:23:50.582Z"
   },
   {
    "duration": 11,
    "start_time": "2022-11-10T00:24:32.578Z"
   },
   {
    "duration": 11,
    "start_time": "2022-11-10T00:24:50.112Z"
   },
   {
    "duration": 7,
    "start_time": "2022-11-10T00:25:17.362Z"
   },
   {
    "duration": 16,
    "start_time": "2022-11-10T00:25:29.430Z"
   },
   {
    "duration": 8,
    "start_time": "2022-11-10T00:25:43.136Z"
   },
   {
    "duration": 5,
    "start_time": "2022-11-10T00:31:48.176Z"
   },
   {
    "duration": 6,
    "start_time": "2022-11-10T00:31:51.613Z"
   },
   {
    "duration": 6,
    "start_time": "2022-11-10T00:32:07.050Z"
   },
   {
    "duration": 6,
    "start_time": "2022-11-10T00:32:50.221Z"
   },
   {
    "duration": 4,
    "start_time": "2022-11-10T00:32:53.283Z"
   },
   {
    "duration": 11,
    "start_time": "2022-11-10T00:34:56.284Z"
   },
   {
    "duration": 5,
    "start_time": "2022-11-10T00:35:02.458Z"
   },
   {
    "duration": 14,
    "start_time": "2022-11-10T00:35:21.603Z"
   },
   {
    "duration": 12,
    "start_time": "2022-11-10T00:35:27.056Z"
   },
   {
    "duration": 83,
    "start_time": "2022-11-10T00:36:05.835Z"
   },
   {
    "duration": 66,
    "start_time": "2022-11-10T00:36:07.641Z"
   },
   {
    "duration": 5,
    "start_time": "2022-11-10T00:36:12.434Z"
   },
   {
    "duration": 1149,
    "start_time": "2022-11-10T00:36:47.406Z"
   },
   {
    "duration": 7,
    "start_time": "2022-11-10T00:36:54.114Z"
   },
   {
    "duration": 5,
    "start_time": "2022-11-10T00:37:23.724Z"
   },
   {
    "duration": 834,
    "start_time": "2022-11-10T00:37:28.023Z"
   },
   {
    "duration": 7,
    "start_time": "2022-11-10T00:37:47.194Z"
   },
   {
    "duration": 12,
    "start_time": "2022-11-10T00:43:50.720Z"
   },
   {
    "duration": 977,
    "start_time": "2022-11-10T00:44:16.087Z"
   },
   {
    "duration": 58,
    "start_time": "2022-11-10T00:44:17.065Z"
   },
   {
    "duration": 2,
    "start_time": "2022-11-10T00:44:17.125Z"
   },
   {
    "duration": 6,
    "start_time": "2022-11-10T00:44:17.130Z"
   },
   {
    "duration": 13,
    "start_time": "2022-11-10T00:44:17.138Z"
   },
   {
    "duration": 12,
    "start_time": "2022-11-10T00:44:17.152Z"
   },
   {
    "duration": 10,
    "start_time": "2022-11-10T00:44:17.165Z"
   },
   {
    "duration": 16,
    "start_time": "2022-11-10T00:44:17.177Z"
   },
   {
    "duration": 38,
    "start_time": "2022-11-10T00:44:17.194Z"
   },
   {
    "duration": 5,
    "start_time": "2022-11-10T00:44:17.235Z"
   },
   {
    "duration": 33,
    "start_time": "2022-11-10T00:44:17.242Z"
   },
   {
    "duration": 17,
    "start_time": "2022-11-10T00:44:17.276Z"
   },
   {
    "duration": 16,
    "start_time": "2022-11-10T00:44:17.295Z"
   },
   {
    "duration": 8,
    "start_time": "2022-11-10T00:44:17.313Z"
   },
   {
    "duration": 5,
    "start_time": "2022-11-10T00:44:17.323Z"
   },
   {
    "duration": 13,
    "start_time": "2022-11-10T00:44:17.329Z"
   },
   {
    "duration": 12,
    "start_time": "2022-11-10T00:44:17.343Z"
   },
   {
    "duration": 7,
    "start_time": "2022-11-10T00:44:17.357Z"
   },
   {
    "duration": 11,
    "start_time": "2022-11-10T00:44:17.365Z"
   },
   {
    "duration": 17,
    "start_time": "2022-11-10T00:44:17.378Z"
   },
   {
    "duration": 496,
    "start_time": "2022-11-10T00:44:17.396Z"
   },
   {
    "duration": 190,
    "start_time": "2022-11-10T00:44:17.894Z"
   },
   {
    "duration": 274,
    "start_time": "2022-11-10T00:44:18.086Z"
   },
   {
    "duration": 9,
    "start_time": "2022-11-10T00:44:18.362Z"
   },
   {
    "duration": 190,
    "start_time": "2022-11-10T00:44:18.373Z"
   },
   {
    "duration": 288,
    "start_time": "2022-11-10T00:44:18.565Z"
   },
   {
    "duration": 133,
    "start_time": "2022-11-10T00:44:18.855Z"
   },
   {
    "duration": 5,
    "start_time": "2022-11-10T00:44:18.990Z"
   },
   {
    "duration": 154,
    "start_time": "2022-11-10T00:44:18.997Z"
   },
   {
    "duration": 4,
    "start_time": "2022-11-10T00:44:19.153Z"
   },
   {
    "duration": 405,
    "start_time": "2022-11-10T00:44:19.159Z"
   },
   {
    "duration": 0,
    "start_time": "2022-11-10T00:44:19.566Z"
   },
   {
    "duration": 0,
    "start_time": "2022-11-10T00:44:19.567Z"
   },
   {
    "duration": 0,
    "start_time": "2022-11-10T00:44:19.569Z"
   },
   {
    "duration": 991,
    "start_time": "2022-11-10T00:44:52.977Z"
   },
   {
    "duration": 61,
    "start_time": "2022-11-10T00:44:53.970Z"
   },
   {
    "duration": 3,
    "start_time": "2022-11-10T00:44:54.032Z"
   },
   {
    "duration": 13,
    "start_time": "2022-11-10T00:44:54.038Z"
   },
   {
    "duration": 28,
    "start_time": "2022-11-10T00:44:54.053Z"
   },
   {
    "duration": 12,
    "start_time": "2022-11-10T00:44:54.083Z"
   },
   {
    "duration": 12,
    "start_time": "2022-11-10T00:44:54.096Z"
   },
   {
    "duration": 19,
    "start_time": "2022-11-10T00:44:54.110Z"
   },
   {
    "duration": 24,
    "start_time": "2022-11-10T00:44:54.131Z"
   },
   {
    "duration": 17,
    "start_time": "2022-11-10T00:44:54.157Z"
   },
   {
    "duration": 12,
    "start_time": "2022-11-10T00:44:54.176Z"
   },
   {
    "duration": 17,
    "start_time": "2022-11-10T00:44:54.189Z"
   },
   {
    "duration": 27,
    "start_time": "2022-11-10T00:44:54.207Z"
   },
   {
    "duration": 23,
    "start_time": "2022-11-10T00:44:54.236Z"
   },
   {
    "duration": 35,
    "start_time": "2022-11-10T00:44:54.261Z"
   },
   {
    "duration": 29,
    "start_time": "2022-11-10T00:44:54.297Z"
   },
   {
    "duration": 34,
    "start_time": "2022-11-10T00:44:54.328Z"
   },
   {
    "duration": 17,
    "start_time": "2022-11-10T00:44:54.364Z"
   },
   {
    "duration": 21,
    "start_time": "2022-11-10T00:44:54.382Z"
   },
   {
    "duration": 47,
    "start_time": "2022-11-10T00:44:54.405Z"
   },
   {
    "duration": 476,
    "start_time": "2022-11-10T00:44:54.454Z"
   },
   {
    "duration": 175,
    "start_time": "2022-11-10T00:44:54.932Z"
   },
   {
    "duration": 288,
    "start_time": "2022-11-10T00:44:55.109Z"
   },
   {
    "duration": 8,
    "start_time": "2022-11-10T00:44:55.399Z"
   },
   {
    "duration": 204,
    "start_time": "2022-11-10T00:44:55.408Z"
   },
   {
    "duration": 318,
    "start_time": "2022-11-10T00:44:55.614Z"
   },
   {
    "duration": 114,
    "start_time": "2022-11-10T00:44:55.934Z"
   },
   {
    "duration": 5,
    "start_time": "2022-11-10T00:44:56.051Z"
   },
   {
    "duration": 146,
    "start_time": "2022-11-10T00:44:56.057Z"
   },
   {
    "duration": 5,
    "start_time": "2022-11-10T00:44:56.205Z"
   },
   {
    "duration": 383,
    "start_time": "2022-11-10T00:44:56.212Z"
   },
   {
    "duration": 0,
    "start_time": "2022-11-10T00:44:56.596Z"
   },
   {
    "duration": 0,
    "start_time": "2022-11-10T00:44:56.597Z"
   },
   {
    "duration": 0,
    "start_time": "2022-11-10T00:44:56.598Z"
   },
   {
    "duration": 5,
    "start_time": "2022-11-10T00:45:42.674Z"
   },
   {
    "duration": 4,
    "start_time": "2022-11-10T00:45:48.246Z"
   },
   {
    "duration": 4,
    "start_time": "2022-11-10T00:45:53.984Z"
   },
   {
    "duration": 7,
    "start_time": "2022-11-10T00:46:00.024Z"
   },
   {
    "duration": 390,
    "start_time": "2022-11-10T00:50:14.940Z"
   },
   {
    "duration": 300,
    "start_time": "2022-11-10T00:50:29.384Z"
   },
   {
    "duration": 4,
    "start_time": "2022-11-10T00:50:58.416Z"
   },
   {
    "duration": 12,
    "start_time": "2022-11-10T00:52:23.857Z"
   },
   {
    "duration": 4,
    "start_time": "2022-11-10T00:52:33.734Z"
   },
   {
    "duration": 6,
    "start_time": "2022-11-10T00:52:49.812Z"
   },
   {
    "duration": 6,
    "start_time": "2022-11-10T00:53:00.654Z"
   },
   {
    "duration": 5,
    "start_time": "2022-11-10T00:53:03.615Z"
   },
   {
    "duration": 3,
    "start_time": "2022-11-10T00:53:12.379Z"
   },
   {
    "duration": 4,
    "start_time": "2022-11-10T00:53:19.688Z"
   },
   {
    "duration": 5,
    "start_time": "2022-11-10T00:54:06.680Z"
   },
   {
    "duration": 8,
    "start_time": "2022-11-10T00:54:29.347Z"
   },
   {
    "duration": 7,
    "start_time": "2022-11-10T00:54:35.711Z"
   },
   {
    "duration": 1076,
    "start_time": "2022-11-10T00:55:26.808Z"
   },
   {
    "duration": 60,
    "start_time": "2022-11-10T00:55:27.886Z"
   },
   {
    "duration": 5,
    "start_time": "2022-11-10T00:55:27.947Z"
   },
   {
    "duration": 4,
    "start_time": "2022-11-10T00:55:27.955Z"
   },
   {
    "duration": 15,
    "start_time": "2022-11-10T00:55:27.960Z"
   },
   {
    "duration": 11,
    "start_time": "2022-11-10T00:55:27.977Z"
   },
   {
    "duration": 10,
    "start_time": "2022-11-10T00:55:27.990Z"
   },
   {
    "duration": 26,
    "start_time": "2022-11-10T00:55:28.002Z"
   },
   {
    "duration": 14,
    "start_time": "2022-11-10T00:55:28.030Z"
   },
   {
    "duration": 6,
    "start_time": "2022-11-10T00:55:28.047Z"
   },
   {
    "duration": 6,
    "start_time": "2022-11-10T00:55:28.054Z"
   },
   {
    "duration": 11,
    "start_time": "2022-11-10T00:55:28.062Z"
   },
   {
    "duration": 8,
    "start_time": "2022-11-10T00:55:28.075Z"
   },
   {
    "duration": 5,
    "start_time": "2022-11-10T00:55:28.085Z"
   },
   {
    "duration": 3,
    "start_time": "2022-11-10T00:55:28.127Z"
   },
   {
    "duration": 9,
    "start_time": "2022-11-10T00:55:28.131Z"
   },
   {
    "duration": 10,
    "start_time": "2022-11-10T00:55:28.142Z"
   },
   {
    "duration": 6,
    "start_time": "2022-11-10T00:55:28.153Z"
   },
   {
    "duration": 9,
    "start_time": "2022-11-10T00:55:28.160Z"
   },
   {
    "duration": 5,
    "start_time": "2022-11-10T00:55:28.171Z"
   },
   {
    "duration": 6,
    "start_time": "2022-11-10T00:55:28.178Z"
   },
   {
    "duration": 13,
    "start_time": "2022-11-10T00:55:28.185Z"
   },
   {
    "duration": 10,
    "start_time": "2022-11-10T00:55:28.199Z"
   },
   {
    "duration": 499,
    "start_time": "2022-11-10T00:55:28.210Z"
   },
   {
    "duration": 176,
    "start_time": "2022-11-10T00:55:28.711Z"
   },
   {
    "duration": 262,
    "start_time": "2022-11-10T00:55:28.888Z"
   },
   {
    "duration": 8,
    "start_time": "2022-11-10T00:55:29.151Z"
   },
   {
    "duration": 189,
    "start_time": "2022-11-10T00:55:29.162Z"
   },
   {
    "duration": 294,
    "start_time": "2022-11-10T00:55:29.352Z"
   },
   {
    "duration": 133,
    "start_time": "2022-11-10T00:55:29.648Z"
   },
   {
    "duration": 5,
    "start_time": "2022-11-10T00:55:29.783Z"
   },
   {
    "duration": 148,
    "start_time": "2022-11-10T00:55:29.789Z"
   },
   {
    "duration": 5,
    "start_time": "2022-11-10T00:55:29.938Z"
   },
   {
    "duration": 306,
    "start_time": "2022-11-10T00:55:29.944Z"
   },
   {
    "duration": 97,
    "start_time": "2022-11-10T00:55:30.252Z"
   },
   {
    "duration": 0,
    "start_time": "2022-11-10T00:55:30.350Z"
   },
   {
    "duration": 0,
    "start_time": "2022-11-10T00:55:30.352Z"
   },
   {
    "duration": 28,
    "start_time": "2022-11-10T12:45:23.722Z"
   },
   {
    "duration": 5,
    "start_time": "2022-11-10T12:48:40.463Z"
   },
   {
    "duration": 968,
    "start_time": "2022-11-10T12:48:53.982Z"
   },
   {
    "duration": 58,
    "start_time": "2022-11-10T12:48:54.952Z"
   },
   {
    "duration": 3,
    "start_time": "2022-11-10T12:48:55.012Z"
   },
   {
    "duration": 5,
    "start_time": "2022-11-10T12:48:55.018Z"
   },
   {
    "duration": 13,
    "start_time": "2022-11-10T12:48:55.024Z"
   },
   {
    "duration": 10,
    "start_time": "2022-11-10T12:48:55.039Z"
   },
   {
    "duration": 10,
    "start_time": "2022-11-10T12:48:55.050Z"
   },
   {
    "duration": 13,
    "start_time": "2022-11-10T12:48:55.061Z"
   },
   {
    "duration": 14,
    "start_time": "2022-11-10T12:48:55.075Z"
   },
   {
    "duration": 4,
    "start_time": "2022-11-10T12:48:55.091Z"
   },
   {
    "duration": 4,
    "start_time": "2022-11-10T12:48:55.126Z"
   },
   {
    "duration": 8,
    "start_time": "2022-11-10T12:48:55.132Z"
   },
   {
    "duration": 7,
    "start_time": "2022-11-10T12:48:55.142Z"
   },
   {
    "duration": 6,
    "start_time": "2022-11-10T12:48:55.150Z"
   },
   {
    "duration": 4,
    "start_time": "2022-11-10T12:48:55.157Z"
   },
   {
    "duration": 8,
    "start_time": "2022-11-10T12:48:55.162Z"
   },
   {
    "duration": 5,
    "start_time": "2022-11-10T12:48:55.171Z"
   },
   {
    "duration": 5,
    "start_time": "2022-11-10T12:48:55.177Z"
   },
   {
    "duration": 7,
    "start_time": "2022-11-10T12:48:55.183Z"
   },
   {
    "duration": 5,
    "start_time": "2022-11-10T12:48:55.191Z"
   },
   {
    "duration": 32,
    "start_time": "2022-11-10T12:48:55.198Z"
   },
   {
    "duration": 9,
    "start_time": "2022-11-10T12:48:55.231Z"
   },
   {
    "duration": 7,
    "start_time": "2022-11-10T12:48:55.242Z"
   },
   {
    "duration": 482,
    "start_time": "2022-11-10T12:48:55.250Z"
   },
   {
    "duration": 183,
    "start_time": "2022-11-10T12:48:55.734Z"
   },
   {
    "duration": 258,
    "start_time": "2022-11-10T12:48:55.919Z"
   },
   {
    "duration": 9,
    "start_time": "2022-11-10T12:48:56.179Z"
   },
   {
    "duration": 166,
    "start_time": "2022-11-10T12:48:56.190Z"
   },
   {
    "duration": 273,
    "start_time": "2022-11-10T12:48:56.357Z"
   },
   {
    "duration": 125,
    "start_time": "2022-11-10T12:48:56.631Z"
   },
   {
    "duration": 4,
    "start_time": "2022-11-10T12:48:56.757Z"
   },
   {
    "duration": 126,
    "start_time": "2022-11-10T12:48:56.763Z"
   },
   {
    "duration": 4,
    "start_time": "2022-11-10T12:48:56.890Z"
   },
   {
    "duration": 300,
    "start_time": "2022-11-10T12:48:56.896Z"
   },
   {
    "duration": 38,
    "start_time": "2022-11-10T12:48:57.198Z"
   },
   {
    "duration": 14,
    "start_time": "2022-11-10T12:48:57.237Z"
   },
   {
    "duration": 27,
    "start_time": "2022-11-10T12:48:57.252Z"
   },
   {
    "duration": 1208,
    "start_time": "2022-11-10T16:14:14.153Z"
   },
   {
    "duration": 239,
    "start_time": "2022-11-10T16:14:15.363Z"
   },
   {
    "duration": 3,
    "start_time": "2022-11-10T16:14:15.604Z"
   },
   {
    "duration": 6,
    "start_time": "2022-11-10T16:14:15.611Z"
   },
   {
    "duration": 15,
    "start_time": "2022-11-10T16:14:15.619Z"
   },
   {
    "duration": 14,
    "start_time": "2022-11-10T16:14:15.636Z"
   },
   {
    "duration": 12,
    "start_time": "2022-11-10T16:14:15.652Z"
   },
   {
    "duration": 22,
    "start_time": "2022-11-10T16:14:15.666Z"
   },
   {
    "duration": 39,
    "start_time": "2022-11-10T16:14:15.690Z"
   },
   {
    "duration": 14,
    "start_time": "2022-11-10T16:14:15.732Z"
   },
   {
    "duration": 11,
    "start_time": "2022-11-10T16:14:15.747Z"
   },
   {
    "duration": 16,
    "start_time": "2022-11-10T16:14:15.760Z"
   },
   {
    "duration": 15,
    "start_time": "2022-11-10T16:14:15.778Z"
   },
   {
    "duration": 10,
    "start_time": "2022-11-10T16:14:15.795Z"
   },
   {
    "duration": 25,
    "start_time": "2022-11-10T16:14:15.807Z"
   },
   {
    "duration": 9,
    "start_time": "2022-11-10T16:14:15.834Z"
   },
   {
    "duration": 10,
    "start_time": "2022-11-10T16:14:15.844Z"
   },
   {
    "duration": 7,
    "start_time": "2022-11-10T16:14:15.856Z"
   },
   {
    "duration": 10,
    "start_time": "2022-11-10T16:14:15.865Z"
   },
   {
    "duration": 7,
    "start_time": "2022-11-10T16:14:15.877Z"
   },
   {
    "duration": 12,
    "start_time": "2022-11-10T16:14:15.885Z"
   },
   {
    "duration": 34,
    "start_time": "2022-11-10T16:14:15.899Z"
   },
   {
    "duration": 9,
    "start_time": "2022-11-10T16:14:15.935Z"
   },
   {
    "duration": 604,
    "start_time": "2022-11-10T16:14:15.946Z"
   },
   {
    "duration": 220,
    "start_time": "2022-11-10T16:14:16.551Z"
   },
   {
    "duration": 279,
    "start_time": "2022-11-10T16:14:16.773Z"
   },
   {
    "duration": 10,
    "start_time": "2022-11-10T16:14:17.053Z"
   },
   {
    "duration": 224,
    "start_time": "2022-11-10T16:14:17.066Z"
   },
   {
    "duration": 382,
    "start_time": "2022-11-10T16:14:17.292Z"
   },
   {
    "duration": 176,
    "start_time": "2022-11-10T16:14:17.675Z"
   },
   {
    "duration": 7,
    "start_time": "2022-11-10T16:14:17.853Z"
   },
   {
    "duration": 172,
    "start_time": "2022-11-10T16:14:17.862Z"
   },
   {
    "duration": 6,
    "start_time": "2022-11-10T16:14:18.035Z"
   },
   {
    "duration": 397,
    "start_time": "2022-11-10T16:14:18.044Z"
   },
   {
    "duration": 40,
    "start_time": "2022-11-10T16:14:18.444Z"
   },
   {
    "duration": 15,
    "start_time": "2022-11-10T16:14:18.486Z"
   },
   {
    "duration": 51,
    "start_time": "2022-11-10T16:14:18.504Z"
   },
   {
    "duration": 280,
    "start_time": "2022-11-10T16:14:28.855Z"
   },
   {
    "duration": 191,
    "start_time": "2022-11-10T16:14:31.455Z"
   },
   {
    "duration": 198,
    "start_time": "2022-11-10T16:29:52.854Z"
   },
   {
    "duration": 192,
    "start_time": "2022-11-10T16:29:55.815Z"
   },
   {
    "duration": 7,
    "start_time": "2022-11-10T16:31:37.708Z"
   },
   {
    "duration": 6,
    "start_time": "2022-11-10T16:31:41.688Z"
   },
   {
    "duration": 6,
    "start_time": "2022-11-10T16:31:49.407Z"
   },
   {
    "duration": 7,
    "start_time": "2022-11-10T16:31:54.893Z"
   },
   {
    "duration": 48,
    "start_time": "2022-11-10T17:01:33.063Z"
   },
   {
    "duration": 6,
    "start_time": "2022-11-10T17:02:55.822Z"
   },
   {
    "duration": 1387,
    "start_time": "2022-11-10T17:03:01.072Z"
   },
   {
    "duration": 187,
    "start_time": "2022-11-10T17:03:02.461Z"
   },
   {
    "duration": 3,
    "start_time": "2022-11-10T17:03:02.649Z"
   },
   {
    "duration": 10,
    "start_time": "2022-11-10T17:03:02.655Z"
   },
   {
    "duration": 17,
    "start_time": "2022-11-10T17:03:02.666Z"
   },
   {
    "duration": 12,
    "start_time": "2022-11-10T17:03:02.685Z"
   },
   {
    "duration": 11,
    "start_time": "2022-11-10T17:03:02.699Z"
   },
   {
    "duration": 19,
    "start_time": "2022-11-10T17:03:02.711Z"
   },
   {
    "duration": 15,
    "start_time": "2022-11-10T17:03:02.732Z"
   },
   {
    "duration": 6,
    "start_time": "2022-11-10T17:03:02.780Z"
   },
   {
    "duration": 8,
    "start_time": "2022-11-10T17:03:02.788Z"
   },
   {
    "duration": 10,
    "start_time": "2022-11-10T17:03:02.797Z"
   },
   {
    "duration": 9,
    "start_time": "2022-11-10T17:03:02.809Z"
   },
   {
    "duration": 12,
    "start_time": "2022-11-10T17:03:02.820Z"
   },
   {
    "duration": 14,
    "start_time": "2022-11-10T17:03:02.834Z"
   },
   {
    "duration": 9,
    "start_time": "2022-11-10T17:03:02.851Z"
   },
   {
    "duration": 12,
    "start_time": "2022-11-10T17:03:02.879Z"
   },
   {
    "duration": 10,
    "start_time": "2022-11-10T17:03:02.893Z"
   },
   {
    "duration": 5,
    "start_time": "2022-11-10T17:03:02.905Z"
   },
   {
    "duration": 7,
    "start_time": "2022-11-10T17:03:02.911Z"
   },
   {
    "duration": 5,
    "start_time": "2022-11-10T17:03:02.919Z"
   },
   {
    "duration": 9,
    "start_time": "2022-11-10T17:03:02.926Z"
   },
   {
    "duration": 41,
    "start_time": "2022-11-10T17:03:02.937Z"
   },
   {
    "duration": 563,
    "start_time": "2022-11-10T17:03:02.980Z"
   },
   {
    "duration": 222,
    "start_time": "2022-11-10T17:03:03.545Z"
   },
   {
    "duration": 379,
    "start_time": "2022-11-10T17:03:03.769Z"
   },
   {
    "duration": 11,
    "start_time": "2022-11-10T17:03:04.150Z"
   },
   {
    "duration": 208,
    "start_time": "2022-11-10T17:03:04.177Z"
   },
   {
    "duration": 1268,
    "start_time": "2022-11-10T17:03:04.387Z"
   },
   {
    "duration": 0,
    "start_time": "2022-11-10T17:03:05.658Z"
   },
   {
    "duration": 0,
    "start_time": "2022-11-10T17:03:05.659Z"
   },
   {
    "duration": 0,
    "start_time": "2022-11-10T17:03:05.660Z"
   },
   {
    "duration": 0,
    "start_time": "2022-11-10T17:03:05.662Z"
   },
   {
    "duration": 0,
    "start_time": "2022-11-10T17:03:05.663Z"
   },
   {
    "duration": 0,
    "start_time": "2022-11-10T17:03:05.665Z"
   },
   {
    "duration": 0,
    "start_time": "2022-11-10T17:03:05.666Z"
   },
   {
    "duration": 0,
    "start_time": "2022-11-10T17:03:05.667Z"
   },
   {
    "duration": 4,
    "start_time": "2022-11-10T17:03:36.015Z"
   },
   {
    "duration": 6,
    "start_time": "2022-11-10T17:03:44.430Z"
   },
   {
    "duration": 52,
    "start_time": "2022-11-10T20:54:22.806Z"
   },
   {
    "duration": 1584,
    "start_time": "2022-11-10T20:54:28.888Z"
   },
   {
    "duration": 190,
    "start_time": "2022-11-10T20:54:30.475Z"
   },
   {
    "duration": 3,
    "start_time": "2022-11-10T20:54:30.667Z"
   },
   {
    "duration": 30,
    "start_time": "2022-11-10T20:54:30.674Z"
   },
   {
    "duration": 26,
    "start_time": "2022-11-10T20:54:30.706Z"
   },
   {
    "duration": 26,
    "start_time": "2022-11-10T20:54:30.734Z"
   },
   {
    "duration": 19,
    "start_time": "2022-11-10T20:54:30.761Z"
   },
   {
    "duration": 47,
    "start_time": "2022-11-10T20:54:30.782Z"
   },
   {
    "duration": 46,
    "start_time": "2022-11-10T20:54:30.831Z"
   },
   {
    "duration": 32,
    "start_time": "2022-11-10T20:54:30.881Z"
   },
   {
    "duration": 32,
    "start_time": "2022-11-10T20:54:30.914Z"
   },
   {
    "duration": 36,
    "start_time": "2022-11-10T20:54:30.948Z"
   },
   {
    "duration": 36,
    "start_time": "2022-11-10T20:54:30.986Z"
   },
   {
    "duration": 23,
    "start_time": "2022-11-10T20:54:31.025Z"
   },
   {
    "duration": 26,
    "start_time": "2022-11-10T20:54:31.050Z"
   },
   {
    "duration": 29,
    "start_time": "2022-11-10T20:54:31.079Z"
   },
   {
    "duration": 33,
    "start_time": "2022-11-10T20:54:31.110Z"
   },
   {
    "duration": 156,
    "start_time": "2022-11-10T20:54:31.146Z"
   },
   {
    "duration": 0,
    "start_time": "2022-11-10T20:54:31.304Z"
   },
   {
    "duration": 0,
    "start_time": "2022-11-10T20:54:31.306Z"
   },
   {
    "duration": 0,
    "start_time": "2022-11-10T20:54:31.309Z"
   },
   {
    "duration": 0,
    "start_time": "2022-11-10T20:54:31.311Z"
   },
   {
    "duration": 0,
    "start_time": "2022-11-10T20:54:31.312Z"
   },
   {
    "duration": 0,
    "start_time": "2022-11-10T20:54:31.313Z"
   },
   {
    "duration": 0,
    "start_time": "2022-11-10T20:54:31.315Z"
   },
   {
    "duration": 0,
    "start_time": "2022-11-10T20:54:31.316Z"
   },
   {
    "duration": 0,
    "start_time": "2022-11-10T20:54:31.319Z"
   },
   {
    "duration": 0,
    "start_time": "2022-11-10T20:54:31.320Z"
   },
   {
    "duration": 0,
    "start_time": "2022-11-10T20:54:31.321Z"
   },
   {
    "duration": 0,
    "start_time": "2022-11-10T20:54:31.322Z"
   },
   {
    "duration": 0,
    "start_time": "2022-11-10T20:54:31.324Z"
   },
   {
    "duration": 0,
    "start_time": "2022-11-10T20:54:31.351Z"
   },
   {
    "duration": 0,
    "start_time": "2022-11-10T20:54:31.352Z"
   },
   {
    "duration": 0,
    "start_time": "2022-11-10T20:54:31.354Z"
   },
   {
    "duration": 0,
    "start_time": "2022-11-10T20:54:31.355Z"
   },
   {
    "duration": 0,
    "start_time": "2022-11-10T20:54:31.356Z"
   },
   {
    "duration": 0,
    "start_time": "2022-11-10T20:54:31.357Z"
   },
   {
    "duration": 11,
    "start_time": "2022-11-10T20:55:14.105Z"
   },
   {
    "duration": 6,
    "start_time": "2022-11-10T20:55:17.319Z"
   },
   {
    "duration": 8,
    "start_time": "2022-11-10T20:55:23.051Z"
   },
   {
    "duration": 8,
    "start_time": "2022-11-10T20:55:29.626Z"
   },
   {
    "duration": 7,
    "start_time": "2022-11-10T20:55:45.111Z"
   },
   {
    "duration": 7,
    "start_time": "2022-11-10T20:55:59.533Z"
   },
   {
    "duration": 12,
    "start_time": "2022-11-10T20:56:03.180Z"
   },
   {
    "duration": 5,
    "start_time": "2022-11-10T20:56:07.745Z"
   },
   {
    "duration": 4,
    "start_time": "2022-11-10T20:56:15.595Z"
   },
   {
    "duration": 7,
    "start_time": "2022-11-10T20:56:26.114Z"
   },
   {
    "duration": 10,
    "start_time": "2022-11-10T20:56:31.050Z"
   },
   {
    "duration": 10,
    "start_time": "2022-11-10T20:56:34.421Z"
   },
   {
    "duration": 12,
    "start_time": "2022-11-10T20:58:39.320Z"
   },
   {
    "duration": 5,
    "start_time": "2022-11-10T20:58:42.724Z"
   },
   {
    "duration": 6,
    "start_time": "2022-11-10T20:58:43.686Z"
   },
   {
    "duration": 5,
    "start_time": "2022-11-10T20:58:50.434Z"
   },
   {
    "duration": 4,
    "start_time": "2022-11-10T20:59:07.987Z"
   },
   {
    "duration": 7,
    "start_time": "2022-11-10T20:59:28.977Z"
   },
   {
    "duration": 8,
    "start_time": "2022-11-10T20:59:40.489Z"
   },
   {
    "duration": 4,
    "start_time": "2022-11-10T20:59:47.314Z"
   },
   {
    "duration": 6,
    "start_time": "2022-11-10T20:59:49.967Z"
   },
   {
    "duration": 9,
    "start_time": "2022-11-10T20:59:52.671Z"
   },
   {
    "duration": 12,
    "start_time": "2022-11-10T20:59:54.905Z"
   },
   {
    "duration": 5,
    "start_time": "2022-11-10T21:00:10.136Z"
   },
   {
    "duration": 14,
    "start_time": "2022-11-10T21:00:30.823Z"
   },
   {
    "duration": 9,
    "start_time": "2022-11-10T21:00:35.215Z"
   },
   {
    "duration": 5,
    "start_time": "2022-11-10T21:00:36.658Z"
   },
   {
    "duration": 6,
    "start_time": "2022-11-10T21:00:48.397Z"
   },
   {
    "duration": 7,
    "start_time": "2022-11-10T21:00:51.865Z"
   },
   {
    "duration": 4,
    "start_time": "2022-11-10T21:00:55.427Z"
   },
   {
    "duration": 6,
    "start_time": "2022-11-10T21:00:57.307Z"
   },
   {
    "duration": 5,
    "start_time": "2022-11-10T21:01:14.344Z"
   },
   {
    "duration": 1359,
    "start_time": "2022-11-10T21:01:45.234Z"
   },
   {
    "duration": 72,
    "start_time": "2022-11-10T21:01:46.595Z"
   },
   {
    "duration": 3,
    "start_time": "2022-11-10T21:01:46.669Z"
   },
   {
    "duration": 10,
    "start_time": "2022-11-10T21:01:46.676Z"
   },
   {
    "duration": 20,
    "start_time": "2022-11-10T21:01:46.688Z"
   },
   {
    "duration": 15,
    "start_time": "2022-11-10T21:01:46.710Z"
   },
   {
    "duration": 28,
    "start_time": "2022-11-10T21:01:46.727Z"
   },
   {
    "duration": 19,
    "start_time": "2022-11-10T21:01:46.757Z"
   },
   {
    "duration": 18,
    "start_time": "2022-11-10T21:01:46.777Z"
   },
   {
    "duration": 12,
    "start_time": "2022-11-10T21:01:46.799Z"
   },
   {
    "duration": 39,
    "start_time": "2022-11-10T21:01:46.813Z"
   },
   {
    "duration": 9,
    "start_time": "2022-11-10T21:01:46.854Z"
   },
   {
    "duration": 15,
    "start_time": "2022-11-10T21:01:46.865Z"
   },
   {
    "duration": 7,
    "start_time": "2022-11-10T21:01:46.882Z"
   },
   {
    "duration": 10,
    "start_time": "2022-11-10T21:01:46.891Z"
   },
   {
    "duration": 9,
    "start_time": "2022-11-10T21:01:46.903Z"
   },
   {
    "duration": 12,
    "start_time": "2022-11-10T21:01:46.914Z"
   },
   {
    "duration": 25,
    "start_time": "2022-11-10T21:01:46.928Z"
   },
   {
    "duration": 9,
    "start_time": "2022-11-10T21:01:46.955Z"
   },
   {
    "duration": 6,
    "start_time": "2022-11-10T21:01:46.965Z"
   },
   {
    "duration": 7,
    "start_time": "2022-11-10T21:01:46.972Z"
   },
   {
    "duration": 13,
    "start_time": "2022-11-10T21:01:46.980Z"
   },
   {
    "duration": 9,
    "start_time": "2022-11-10T21:01:46.994Z"
   },
   {
    "duration": 679,
    "start_time": "2022-11-10T21:01:47.005Z"
   },
   {
    "duration": 264,
    "start_time": "2022-11-10T21:01:47.687Z"
   },
   {
    "duration": 302,
    "start_time": "2022-11-10T21:01:47.955Z"
   },
   {
    "duration": 11,
    "start_time": "2022-11-10T21:01:48.259Z"
   },
   {
    "duration": 261,
    "start_time": "2022-11-10T21:01:48.274Z"
   },
   {
    "duration": 1309,
    "start_time": "2022-11-10T21:01:48.537Z"
   },
   {
    "duration": 0,
    "start_time": "2022-11-10T21:01:49.848Z"
   },
   {
    "duration": 0,
    "start_time": "2022-11-10T21:01:49.850Z"
   },
   {
    "duration": 0,
    "start_time": "2022-11-10T21:01:49.851Z"
   },
   {
    "duration": 0,
    "start_time": "2022-11-10T21:01:49.853Z"
   },
   {
    "duration": 0,
    "start_time": "2022-11-10T21:01:49.855Z"
   },
   {
    "duration": 0,
    "start_time": "2022-11-10T21:01:49.856Z"
   },
   {
    "duration": 0,
    "start_time": "2022-11-10T21:01:49.858Z"
   },
   {
    "duration": 0,
    "start_time": "2022-11-10T21:01:49.859Z"
   },
   {
    "duration": 1205,
    "start_time": "2022-11-10T21:39:13.924Z"
   },
   {
    "duration": 372,
    "start_time": "2022-11-10T21:39:28.441Z"
   },
   {
    "duration": 372,
    "start_time": "2022-11-10T21:39:38.145Z"
   },
   {
    "duration": 354,
    "start_time": "2022-11-10T21:39:44.610Z"
   },
   {
    "duration": 380,
    "start_time": "2022-11-10T21:39:48.718Z"
   },
   {
    "duration": 257,
    "start_time": "2022-11-10T21:52:05.169Z"
   },
   {
    "duration": 5,
    "start_time": "2022-11-10T21:52:05.758Z"
   },
   {
    "duration": 156,
    "start_time": "2022-11-10T21:52:08.768Z"
   },
   {
    "duration": 7,
    "start_time": "2022-11-10T21:52:09.575Z"
   },
   {
    "duration": 410,
    "start_time": "2022-11-10T21:52:11.129Z"
   },
   {
    "duration": 37,
    "start_time": "2022-11-10T21:52:12.459Z"
   },
   {
    "duration": 13,
    "start_time": "2022-11-10T21:52:13.442Z"
   },
   {
    "duration": 18,
    "start_time": "2022-11-10T21:52:14.304Z"
   },
   {
    "duration": 8,
    "start_time": "2022-11-10T21:52:58.375Z"
   },
   {
    "duration": 6,
    "start_time": "2022-11-10T21:54:55.618Z"
   },
   {
    "duration": 38,
    "start_time": "2022-11-10T22:14:33.815Z"
   },
   {
    "duration": 11,
    "start_time": "2022-11-10T22:14:57.793Z"
   },
   {
    "duration": 15,
    "start_time": "2022-11-10T22:15:01.790Z"
   },
   {
    "duration": 1318,
    "start_time": "2022-11-11T08:14:20.563Z"
   },
   {
    "duration": 171,
    "start_time": "2022-11-11T08:14:21.883Z"
   },
   {
    "duration": 4,
    "start_time": "2022-11-11T08:14:22.056Z"
   },
   {
    "duration": 11,
    "start_time": "2022-11-11T08:14:22.064Z"
   },
   {
    "duration": 24,
    "start_time": "2022-11-11T08:14:22.077Z"
   },
   {
    "duration": 25,
    "start_time": "2022-11-11T08:14:22.103Z"
   },
   {
    "duration": 23,
    "start_time": "2022-11-11T08:14:22.130Z"
   },
   {
    "duration": 25,
    "start_time": "2022-11-11T08:14:22.155Z"
   },
   {
    "duration": 25,
    "start_time": "2022-11-11T08:14:22.182Z"
   },
   {
    "duration": 33,
    "start_time": "2022-11-11T08:14:22.212Z"
   },
   {
    "duration": 13,
    "start_time": "2022-11-11T08:14:22.251Z"
   },
   {
    "duration": 20,
    "start_time": "2022-11-11T08:14:22.266Z"
   },
   {
    "duration": 28,
    "start_time": "2022-11-11T08:14:22.288Z"
   },
   {
    "duration": 9,
    "start_time": "2022-11-11T08:14:22.319Z"
   },
   {
    "duration": 21,
    "start_time": "2022-11-11T08:14:22.330Z"
   },
   {
    "duration": 15,
    "start_time": "2022-11-11T08:14:22.353Z"
   },
   {
    "duration": 20,
    "start_time": "2022-11-11T08:14:22.371Z"
   },
   {
    "duration": 11,
    "start_time": "2022-11-11T08:14:22.394Z"
   },
   {
    "duration": 8,
    "start_time": "2022-11-11T08:14:22.407Z"
   },
   {
    "duration": 10,
    "start_time": "2022-11-11T08:14:22.418Z"
   },
   {
    "duration": 22,
    "start_time": "2022-11-11T08:14:22.431Z"
   },
   {
    "duration": 12,
    "start_time": "2022-11-11T08:14:22.455Z"
   },
   {
    "duration": 23,
    "start_time": "2022-11-11T08:14:22.469Z"
   },
   {
    "duration": 707,
    "start_time": "2022-11-11T08:14:22.495Z"
   },
   {
    "duration": 264,
    "start_time": "2022-11-11T08:14:23.204Z"
   },
   {
    "duration": 342,
    "start_time": "2022-11-11T08:14:23.470Z"
   },
   {
    "duration": 17,
    "start_time": "2022-11-11T08:14:23.814Z"
   },
   {
    "duration": 271,
    "start_time": "2022-11-11T08:14:23.836Z"
   },
   {
    "duration": 522,
    "start_time": "2022-11-11T08:14:24.110Z"
   },
   {
    "duration": 212,
    "start_time": "2022-11-11T08:14:24.635Z"
   },
   {
    "duration": 15,
    "start_time": "2022-11-11T08:14:24.850Z"
   },
   {
    "duration": 182,
    "start_time": "2022-11-11T08:14:24.868Z"
   },
   {
    "duration": 8,
    "start_time": "2022-11-11T08:14:25.052Z"
   },
   {
    "duration": 464,
    "start_time": "2022-11-11T08:14:25.062Z"
   },
   {
    "duration": 54,
    "start_time": "2022-11-11T08:14:25.528Z"
   },
   {
    "duration": 15,
    "start_time": "2022-11-11T08:14:25.584Z"
   },
   {
    "duration": 53,
    "start_time": "2022-11-11T08:14:25.601Z"
   },
   {
    "duration": 12,
    "start_time": "2022-11-11T08:15:28.893Z"
   },
   {
    "duration": 416,
    "start_time": "2022-11-11T08:17:32.200Z"
   },
   {
    "duration": 396,
    "start_time": "2022-11-11T08:17:56.733Z"
   },
   {
    "duration": 369,
    "start_time": "2022-11-11T08:18:03.798Z"
   },
   {
    "duration": 427,
    "start_time": "2022-11-11T08:20:09.547Z"
   },
   {
    "duration": 490,
    "start_time": "2022-11-11T08:20:18.974Z"
   }
  ],
  "kernelspec": {
   "display_name": "Python 3 (ipykernel)",
   "language": "python",
   "name": "python3"
  },
  "language_info": {
   "codemirror_mode": {
    "name": "ipython",
    "version": 3
   },
   "file_extension": ".py",
   "mimetype": "text/x-python",
   "name": "python",
   "nbconvert_exporter": "python",
   "pygments_lexer": "ipython3",
   "version": "3.9.7"
  },
  "toc": {
   "base_numbering": 1,
   "nav_menu": {},
   "number_sections": true,
   "sideBar": true,
   "skip_h1_title": true,
   "title_cell": "Table of Contents",
   "title_sidebar": "Contents",
   "toc_cell": false,
   "toc_position": {},
   "toc_section_display": true,
   "toc_window_display": false
  }
 },
 "nbformat": 4,
 "nbformat_minor": 2
}
