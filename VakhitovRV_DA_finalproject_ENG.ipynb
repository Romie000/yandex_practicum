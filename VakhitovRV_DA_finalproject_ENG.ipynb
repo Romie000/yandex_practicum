{
 "cells": [
  {
   "cell_type": "markdown",
   "id": "49a34ebb",
   "metadata": {},
   "source": [
    "## Telecom_Data analysis"
   ]
  },
  {
   "cell_type": "markdown",
   "id": "09574c87",
   "metadata": {},
   "source": [
    "### Project Decomposition\n",
    "\n",
    "**Project Description:**\n",
    "The commercial director of the telecommunications company \"NuPozvoni\" asked us to perform a data analysis. Due to the potential market entry of a competitor with more favorable tariffs, he asked us to analyze data about corporate clients and how they use their tariffs. The goal is to identify active clients who do not use their tariffs optimally and propose them more appropriate tariffs to retain them, preventing them from switching to the competitor, without significantly reducing our company's revenue.\n",
    "\n",
    "**Project Objective:**\n",
    "The objective of the project is to identify clients who do not use their tariffs optimally and find alternative tariffs that can increase their loyalty and reduce the likelihood of them churning, while also minimizing the impact on the company's revenue.\n",
    "\n",
    "**Tasks (Subtasks):**\n",
    "\n",
    "- Calculate the expenses for all clients.\n",
    "- Identify active clients.\n",
    "- Identify active clients who are using their tariffs suboptimally (overpaying).\n",
    "- Determine which optimal tariffs can be offered to these clients.\n",
    "- Assess the impact on our revenue.\n",
    "- Find ways to minimize losses (evaluate results and provide recommendations).\n",
    "\n",
    "**Results:**\n",
    "\n",
    "- Research conducted in a Jupyter notebook.\n",
    "- File containing a list of users who are using their tariffs suboptimally.\n",
    "- Dashboard presenting the findings.\n",
    "- Presentation with the research results."
   ]
  },
  {
   "cell_type": "markdown",
   "id": "5e4d180a",
   "metadata": {},
   "source": [
    "The task is to conduct an analysis of two datasets that characterize the usage of services by \"NuPozvoni.\" The analysis needs to be performed periodically every 3 months, so the code should be written to be universal and consider a three-month research range.\n",
    "\n",
    "**Dataset telecom_dataset.csv:**\n",
    "- `user_id`: client identifier\n",
    "- `date`: date\n",
    "- `direction`: call direction (out — outgoing call, in — incoming call)\n",
    "- `internal`: marker for internal and external calls; calls between employees of the same call center are considered internal, others are considered external.\n",
    "- `operator_id`: operator identifier\n",
    "- `is_missed_call`: marker for missed calls\n",
    "- `calls_count`: number of calls\n",
    "- `call_duration`: duration of all calls excluding wait time\n",
    "- `total_call_duration`: duration of all calls including wait time\n",
    "\n",
    "**Dataset telecom_clients.csv:**\n",
    "- `user_id`: client identifier\n",
    "- `tariff_plan`: client's tariff plan\n",
    "- `date_start`: client's registration date in the service\n",
    "\n",
    "The following tariff plans are available in the Telecom:\n",
    "\n",
    "| Tariff Plan | Monthly Fee | Incoming Calls | Outgoing Calls* within network** | Internal Outgoing Limit | External Outgoing Calls | Operator Fee per Operator |\n",
    "|:---:|:---:|:---:|:---:|:---:|:---:|:---:|\n",
    "| A | 4,000 ₽ | 0 | 0.10 ₽/min. | 2,000 | 0.3 ₽/min. | 50 ₽/operator |\n",
    "| B | 2,000 ₽ | 0 | 0.15 ₽/min. | 500 | 0.5 ₽/min. | 150 ₽/operator |\n",
    "| C | 1,000 ₽ | 0 | 0.30 ₽/min. | 0 | 0.7 ₽/min. | 300 ₽/operator |\n",
    "\n",
    "\\* outgoing calls including wait time;\n",
    "\\** some tariffs have a free limit for outgoing calls within the network, up to a certain number of minutes (see tariff plan); the price is given for usage beyond the established limit.\n",
    "\n"
   ]
  },
  {
   "cell_type": "markdown",
   "id": "43040af4",
   "metadata": {},
   "source": [
    "**Research Process:**\n",
    "\n",
    "1. Project Decomposition\n",
    "2. Data Description\n",
    "3. Data Loading and Exploration\n",
    "4. Data Preprocessing:\n",
    "   - Converting data to the required format\n",
    "   - Handling outliers, missing values, and duplicates\n",
    "5. Exploratory Data Analysis:\n",
    "   - Identifying active clients\n",
    "   - Calculating total revenue\n",
    "   - Identifying clients with suboptimal tariff usage\n",
    "   - Selecting the optimal tariff\n",
    "   - Assessing revenue changes after selecting the optimal tariff\n",
    "6. Statistical Data Analysis:\n",
    "   - Hypothesis 1: Revenue difference before and after switching tariffs\n",
    "   - Hypothesis 2: Revenue difference between clients of tariff plans A and B\n",
    "7. Conclusions\n",
    "8. Presentation\n",
    "\n"
   ]
  },
  {
   "cell_type": "markdown",
   "id": "a3e016cc",
   "metadata": {},
   "source": [
    "## Data loading and exploration"
   ]
  },
  {
   "cell_type": "code",
   "execution_count": 1,
   "id": "199bf399",
   "metadata": {},
   "outputs": [],
   "source": [
    "import pandas as pd\n",
    "import numpy as np\n",
    "import math\n",
    "from scipy import stats as st\n",
    "import matplotlib.pyplot as plt \n",
    "import matplotlib as mpl \n",
    "import seaborn as sns \n",
    "from numpy import median\n",
    "import re\n",
    "import datetime as dt\n",
    "import warnings\n",
    "warnings.filterwarnings('ignore')\n",
    "pd.set_option('display.max_colwidth', -1)\n",
    "cm = sns.light_palette(\"red\", as_cmap=True)"
   ]
  },
  {
   "cell_type": "code",
   "execution_count": 2,
   "id": "a9cbb810",
   "metadata": {},
   "outputs": [],
   "source": [
    "try:\n",
    "    calls = pd.read_csv('telecom_dataset.csv')\n",
    "    clients = pd.read_csv('telecom_clients.csv')\n",
    "except:\n",
    "    calls = pd.read_csv('https://code.s3.yandex.net/datasets/telecom_dataset.csv')\n",
    "    clients = pd.read_csv('https://code.s3.yandex.net/datasets/telecom_clients.csv')\n",
    "    "
   ]
  },
  {
   "cell_type": "code",
   "execution_count": 3,
   "id": "2fce452e",
   "metadata": {},
   "outputs": [
    {
     "data": {
      "text/html": [
       "<div>\n",
       "<style scoped>\n",
       "    .dataframe tbody tr th:only-of-type {\n",
       "        vertical-align: middle;\n",
       "    }\n",
       "\n",
       "    .dataframe tbody tr th {\n",
       "        vertical-align: top;\n",
       "    }\n",
       "\n",
       "    .dataframe thead th {\n",
       "        text-align: right;\n",
       "    }\n",
       "</style>\n",
       "<table border=\"1\" class=\"dataframe\">\n",
       "  <thead>\n",
       "    <tr style=\"text-align: right;\">\n",
       "      <th></th>\n",
       "      <th>user_id</th>\n",
       "      <th>date</th>\n",
       "      <th>direction</th>\n",
       "      <th>internal</th>\n",
       "      <th>operator_id</th>\n",
       "      <th>is_missed_call</th>\n",
       "      <th>calls_count</th>\n",
       "      <th>call_duration</th>\n",
       "      <th>total_call_duration</th>\n",
       "    </tr>\n",
       "  </thead>\n",
       "  <tbody>\n",
       "    <tr>\n",
       "      <th>0</th>\n",
       "      <td>166377</td>\n",
       "      <td>2019-08-04 00:00:00+03:00</td>\n",
       "      <td>in</td>\n",
       "      <td>False</td>\n",
       "      <td>NaN</td>\n",
       "      <td>True</td>\n",
       "      <td>2</td>\n",
       "      <td>0</td>\n",
       "      <td>4</td>\n",
       "    </tr>\n",
       "    <tr>\n",
       "      <th>1</th>\n",
       "      <td>166377</td>\n",
       "      <td>2019-08-05 00:00:00+03:00</td>\n",
       "      <td>out</td>\n",
       "      <td>True</td>\n",
       "      <td>880022.0</td>\n",
       "      <td>True</td>\n",
       "      <td>3</td>\n",
       "      <td>0</td>\n",
       "      <td>5</td>\n",
       "    </tr>\n",
       "    <tr>\n",
       "      <th>2</th>\n",
       "      <td>166377</td>\n",
       "      <td>2019-08-05 00:00:00+03:00</td>\n",
       "      <td>out</td>\n",
       "      <td>True</td>\n",
       "      <td>880020.0</td>\n",
       "      <td>True</td>\n",
       "      <td>1</td>\n",
       "      <td>0</td>\n",
       "      <td>1</td>\n",
       "    </tr>\n",
       "    <tr>\n",
       "      <th>3</th>\n",
       "      <td>166377</td>\n",
       "      <td>2019-08-05 00:00:00+03:00</td>\n",
       "      <td>out</td>\n",
       "      <td>True</td>\n",
       "      <td>880020.0</td>\n",
       "      <td>False</td>\n",
       "      <td>1</td>\n",
       "      <td>10</td>\n",
       "      <td>18</td>\n",
       "    </tr>\n",
       "    <tr>\n",
       "      <th>4</th>\n",
       "      <td>166377</td>\n",
       "      <td>2019-08-05 00:00:00+03:00</td>\n",
       "      <td>out</td>\n",
       "      <td>False</td>\n",
       "      <td>880022.0</td>\n",
       "      <td>True</td>\n",
       "      <td>3</td>\n",
       "      <td>0</td>\n",
       "      <td>25</td>\n",
       "    </tr>\n",
       "  </tbody>\n",
       "</table>\n",
       "</div>"
      ],
      "text/plain": [
       "   user_id                       date direction internal  operator_id  \\\n",
       "0  166377   2019-08-04 00:00:00+03:00  in        False   NaN            \n",
       "1  166377   2019-08-05 00:00:00+03:00  out       True     880022.0      \n",
       "2  166377   2019-08-05 00:00:00+03:00  out       True     880020.0      \n",
       "3  166377   2019-08-05 00:00:00+03:00  out       True     880020.0      \n",
       "4  166377   2019-08-05 00:00:00+03:00  out       False    880022.0      \n",
       "\n",
       "   is_missed_call  calls_count  call_duration  total_call_duration  \n",
       "0  True            2            0              4                    \n",
       "1  True            3            0              5                    \n",
       "2  True            1            0              1                    \n",
       "3  False           1            10             18                   \n",
       "4  True            3            0              25                   "
      ]
     },
     "execution_count": 3,
     "metadata": {},
     "output_type": "execute_result"
    }
   ],
   "source": [
    "calls.head(5)"
   ]
  },
  {
   "cell_type": "code",
   "execution_count": 4,
   "id": "3614e856",
   "metadata": {},
   "outputs": [
    {
     "name": "stdout",
     "output_type": "stream",
     "text": [
      "<class 'pandas.core.frame.DataFrame'>\n",
      "RangeIndex: 53902 entries, 0 to 53901\n",
      "Data columns (total 9 columns):\n",
      " #   Column               Non-Null Count  Dtype  \n",
      "---  ------               --------------  -----  \n",
      " 0   user_id              53902 non-null  int64  \n",
      " 1   date                 53902 non-null  object \n",
      " 2   direction            53902 non-null  object \n",
      " 3   internal             53785 non-null  object \n",
      " 4   operator_id          45730 non-null  float64\n",
      " 5   is_missed_call       53902 non-null  bool   \n",
      " 6   calls_count          53902 non-null  int64  \n",
      " 7   call_duration        53902 non-null  int64  \n",
      " 8   total_call_duration  53902 non-null  int64  \n",
      "dtypes: bool(1), float64(1), int64(4), object(3)\n",
      "memory usage: 3.3+ MB\n"
     ]
    }
   ],
   "source": [
    "calls.info()"
   ]
  },
  {
   "cell_type": "code",
   "execution_count": 5,
   "id": "e9fb3690",
   "metadata": {},
   "outputs": [
    {
     "data": {
      "text/plain": [
       "<AxesSubplot:>"
      ]
     },
     "execution_count": 5,
     "metadata": {},
     "output_type": "execute_result"
    },
    {
     "data": {
      "image/png": "[encoded data removed]",
      "text/plain": [
       "<Figure size 432x288 with 1 Axes>"
      ]
     },
     "metadata": {
      "needs_background": "light"
     },
     "output_type": "display_data"
    }
   ],
   "source": [
    "calls['total_call_duration'].hist(bins = 100)"
   ]
  },
  {
   "cell_type": "code",
   "execution_count": 6,
   "id": "a21a7aba",
   "metadata": {},
   "outputs": [
    {
     "data": {
      "text/plain": [
       "9969300"
      ]
     },
     "execution_count": 6,
     "metadata": {},
     "output_type": "execute_result"
    }
   ],
   "source": [
    "calls['total_call_duration'].max()*60"
   ]
  },
  {
   "cell_type": "code",
   "execution_count": 7,
   "id": "53372840",
   "metadata": {},
   "outputs": [
    {
     "name": "stdout",
     "output_type": "stream",
     "text": [
      "Total duplicates 4900.\n"
     ]
    }
   ],
   "source": [
    "print(f\"Total duplicates {calls.duplicated().sum()}.\") "
   ]
  },
  {
   "cell_type": "code",
   "execution_count": 8,
   "id": "27a8f47d",
   "metadata": {},
   "outputs": [
    {
     "name": "stdout",
     "output_type": "stream",
     "text": [
      "Total duplicates 0.\n"
     ]
    }
   ],
   "source": [
    "print(f\"Total duplicates {clients.duplicated().sum()}.\") "
   ]
  },
  {
   "cell_type": "code",
   "execution_count": 9,
   "id": "94a58904",
   "metadata": {},
   "outputs": [],
   "source": [
    "def null_info(df):\n",
    "    null_values = df.isna().sum().reset_index()\n",
    "    null_values = null_values.rename(columns = {0:'isna'})\n",
    "    null_values = null_values[null_values['isna'] != 0].reset_index(drop = True)\n",
    "    null_values['percentage'] = round(null_values['isna']/len(df)*100,2)\n",
    "    if len(null_values) != 0: \n",
    "        for index,row in null_values.iterrows():\n",
    "            print(f\"Number of missing values {row['index']} is {row['isna']}, which is {row['percentage']}% of the total\")\n",
    "    else: \n",
    "        print(f\"No missing values\")\n",
    "    "
   ]
  },
  {
   "cell_type": "code",
   "execution_count": 10,
   "id": "f75e9855",
   "metadata": {},
   "outputs": [
    {
     "name": "stdout",
     "output_type": "stream",
     "text": [
      "Number of missing values internal is 117, which is 0.22% of the total\n",
      "Number of missing values operator_id is 8172, which is 15.16% of the total\n"
     ]
    }
   ],
   "source": [
    "null_info(calls)"
   ]
  },
  {
   "cell_type": "code",
   "execution_count": 11,
   "id": "1cbb4f68",
   "metadata": {},
   "outputs": [
    {
     "name": "stdout",
     "output_type": "stream",
     "text": [
      "No missing values\n"
     ]
    }
   ],
   "source": [
    "null_info(clients)"
   ]
  },
  {
   "cell_type": "markdown",
   "id": "89bc3c1f",
   "metadata": {},
   "source": [
    "## Data preprocessing"
   ]
  },
  {
   "cell_type": "code",
   "execution_count": 12,
   "id": "cc740ec7",
   "metadata": {},
   "outputs": [],
   "source": [
    "#Converting data to the required format\n",
    "calls['date'] = pd.to_datetime(calls['date'], format='%Y.%m.%d')\n",
    "clients['date_start'] = pd.to_datetime(clients['date_start'], format='%Y.%m.%d')"
   ]
  },
  {
   "cell_type": "code",
   "execution_count": 13,
   "id": "4ad21a17",
   "metadata": {},
   "outputs": [],
   "source": [
    "calls['month'] = calls['date'].dt.month"
   ]
  },
  {
   "cell_type": "code",
   "execution_count": 14,
   "id": "858ba85e",
   "metadata": {},
   "outputs": [],
   "source": [
    "#getting rid of duplicates\n",
    "calls = calls.drop_duplicates().reset_index(drop = True)"
   ]
  },
  {
   "cell_type": "code",
   "execution_count": 15,
   "id": "298abd12",
   "metadata": {},
   "outputs": [],
   "source": [
    "#tarification should be estimated in minutes\n",
    "calls['call_duration'] = np.ceil(calls['call_duration']/60)\n",
    "calls['total_call_duration'] = np.ceil(calls['total_call_duration']/60)"
   ]
  },
  {
   "cell_type": "code",
   "execution_count": 16,
   "id": "7566f524",
   "metadata": {},
   "outputs": [
    {
     "data": {
      "text/html": [
       "<div>\n",
       "<style scoped>\n",
       "    .dataframe tbody tr th:only-of-type {\n",
       "        vertical-align: middle;\n",
       "    }\n",
       "\n",
       "    .dataframe tbody tr th {\n",
       "        vertical-align: top;\n",
       "    }\n",
       "\n",
       "    .dataframe thead th {\n",
       "        text-align: right;\n",
       "    }\n",
       "</style>\n",
       "<table border=\"1\" class=\"dataframe\">\n",
       "  <thead>\n",
       "    <tr style=\"text-align: right;\">\n",
       "      <th></th>\n",
       "      <th>user_id</th>\n",
       "      <th>operator_id</th>\n",
       "      <th>calls_count</th>\n",
       "      <th>call_duration</th>\n",
       "      <th>total_call_duration</th>\n",
       "      <th>month</th>\n",
       "    </tr>\n",
       "  </thead>\n",
       "  <tbody>\n",
       "    <tr>\n",
       "      <th>count</th>\n",
       "      <td>49002.000000</td>\n",
       "      <td>41546.000000</td>\n",
       "      <td>49002.000000</td>\n",
       "      <td>49002.000000</td>\n",
       "      <td>49002.000000</td>\n",
       "      <td>49002.000000</td>\n",
       "    </tr>\n",
       "    <tr>\n",
       "      <th>mean</th>\n",
       "      <td>167294.892759</td>\n",
       "      <td>916523.315409</td>\n",
       "      <td>16.462777</td>\n",
       "      <td>14.726930</td>\n",
       "      <td>19.791621</td>\n",
       "      <td>10.192380</td>\n",
       "    </tr>\n",
       "    <tr>\n",
       "      <th>std</th>\n",
       "      <td>598.558965</td>\n",
       "      <td>21230.041008</td>\n",
       "      <td>63.604098</td>\n",
       "      <td>62.970904</td>\n",
       "      <td>74.185227</td>\n",
       "      <td>0.852065</td>\n",
       "    </tr>\n",
       "    <tr>\n",
       "      <th>min</th>\n",
       "      <td>166377.000000</td>\n",
       "      <td>879896.000000</td>\n",
       "      <td>1.000000</td>\n",
       "      <td>0.000000</td>\n",
       "      <td>0.000000</td>\n",
       "      <td>8.000000</td>\n",
       "    </tr>\n",
       "    <tr>\n",
       "      <th>25%</th>\n",
       "      <td>166782.000000</td>\n",
       "      <td>900790.500000</td>\n",
       "      <td>1.000000</td>\n",
       "      <td>0.000000</td>\n",
       "      <td>1.000000</td>\n",
       "      <td>10.000000</td>\n",
       "    </tr>\n",
       "    <tr>\n",
       "      <th>50%</th>\n",
       "      <td>167158.000000</td>\n",
       "      <td>913938.000000</td>\n",
       "      <td>4.000000</td>\n",
       "      <td>1.000000</td>\n",
       "      <td>4.000000</td>\n",
       "      <td>10.000000</td>\n",
       "    </tr>\n",
       "    <tr>\n",
       "      <th>75%</th>\n",
       "      <td>167819.000000</td>\n",
       "      <td>937708.000000</td>\n",
       "      <td>12.000000</td>\n",
       "      <td>10.000000</td>\n",
       "      <td>16.000000</td>\n",
       "      <td>11.000000</td>\n",
       "    </tr>\n",
       "    <tr>\n",
       "      <th>max</th>\n",
       "      <td>168606.000000</td>\n",
       "      <td>973286.000000</td>\n",
       "      <td>4817.000000</td>\n",
       "      <td>2407.000000</td>\n",
       "      <td>2770.000000</td>\n",
       "      <td>11.000000</td>\n",
       "    </tr>\n",
       "  </tbody>\n",
       "</table>\n",
       "</div>"
      ],
      "text/plain": [
       "             user_id    operator_id   calls_count  call_duration  \\\n",
       "count  49002.000000   41546.000000   49002.000000  49002.000000    \n",
       "mean   167294.892759  916523.315409  16.462777     14.726930       \n",
       "std    598.558965     21230.041008   63.604098     62.970904       \n",
       "min    166377.000000  879896.000000  1.000000      0.000000        \n",
       "25%    166782.000000  900790.500000  1.000000      0.000000        \n",
       "50%    167158.000000  913938.000000  4.000000      1.000000        \n",
       "75%    167819.000000  937708.000000  12.000000     10.000000       \n",
       "max    168606.000000  973286.000000  4817.000000   2407.000000     \n",
       "\n",
       "       total_call_duration         month  \n",
       "count  49002.000000         49002.000000  \n",
       "mean   19.791621            10.192380     \n",
       "std    74.185227            0.852065      \n",
       "min    0.000000             8.000000      \n",
       "25%    1.000000             10.000000     \n",
       "50%    4.000000             10.000000     \n",
       "75%    16.000000            11.000000     \n",
       "max    2770.000000          11.000000     "
      ]
     },
     "execution_count": 16,
     "metadata": {},
     "output_type": "execute_result"
    }
   ],
   "source": [
    "#checking outliers\n",
    "calls.describe()"
   ]
  },
  {
   "cell_type": "code",
   "execution_count": 17,
   "id": "856e26af",
   "metadata": {},
   "outputs": [
    {
     "data": {
      "image/png": "[encoded data removed]",
      "text/plain": [
       "<Figure size 432x288 with 1 Axes>"
      ]
     },
     "metadata": {
      "needs_background": "light"
     },
     "output_type": "display_data"
    }
   ],
   "source": [
    "sns.boxplot(data = calls[['call_duration','total_call_duration']])\n",
    "plt.title ('call duration distibution')\n",
    "plt.xlabel ('type of calls')\n",
    "plt.ylabel ('duration');"
   ]
  },
  {
   "cell_type": "code",
   "execution_count": 18,
   "id": "011f9223",
   "metadata": {},
   "outputs": [
    {
     "data": {
      "text/plain": [
       "Text(0, 0.5, 'duration')"
      ]
     },
     "execution_count": 18,
     "metadata": {},
     "output_type": "execute_result"
    },
    {
     "data": {
      "image/png": "[encoded data removed]",
      "text/plain": [
       "<Figure size 432x288 with 1 Axes>"
      ]
     },
     "metadata": {
      "needs_background": "light"
     },
     "output_type": "display_data"
    }
   ],
   "source": [
    "sns.boxplot(data = calls[['call_duration','total_call_duration']])\n",
    "plt.ylim(0,50)\n",
    "plt.title ('call duration distribution')\n",
    "plt.xlabel ('type of calls')\n",
    "plt.ylabel ('duration')"
   ]
  },
  {
   "cell_type": "markdown",
   "id": "989c0c8d",
   "metadata": {},
   "source": [
    "In columns with call duration, there are outliers, as the median significantly differs from the 75th percentile and the mean. Let's find abnormally long calls. We'll attempt to identify outliers and explore their nature."
   ]
  },
  {
   "cell_type": "code",
   "execution_count": 19,
   "id": "faf2dc49",
   "metadata": {},
   "outputs": [
    {
     "data": {
      "text/html": [
       "<div>\n",
       "<style scoped>\n",
       "    .dataframe tbody tr th:only-of-type {\n",
       "        vertical-align: middle;\n",
       "    }\n",
       "\n",
       "    .dataframe tbody tr th {\n",
       "        vertical-align: top;\n",
       "    }\n",
       "\n",
       "    .dataframe thead th {\n",
       "        text-align: right;\n",
       "    }\n",
       "</style>\n",
       "<table border=\"1\" class=\"dataframe\">\n",
       "  <thead>\n",
       "    <tr style=\"text-align: right;\">\n",
       "      <th></th>\n",
       "      <th>date</th>\n",
       "      <th>operator_id</th>\n",
       "      <th>call_duration</th>\n",
       "      <th>total_call_duration</th>\n",
       "    </tr>\n",
       "  </thead>\n",
       "  <tbody>\n",
       "    <tr>\n",
       "      <th>0</th>\n",
       "      <td>2019-09-25 00:00:00+03:00</td>\n",
       "      <td>885876.0</td>\n",
       "      <td>2407.0</td>\n",
       "      <td>3155.0</td>\n",
       "    </tr>\n",
       "    <tr>\n",
       "      <th>1</th>\n",
       "      <td>2019-09-26 00:00:00+03:00</td>\n",
       "      <td>885876.0</td>\n",
       "      <td>2204.0</td>\n",
       "      <td>2782.0</td>\n",
       "    </tr>\n",
       "    <tr>\n",
       "      <th>2</th>\n",
       "      <td>2019-09-09 00:00:00+03:00</td>\n",
       "      <td>885876.0</td>\n",
       "      <td>2019.0</td>\n",
       "      <td>2652.0</td>\n",
       "    </tr>\n",
       "    <tr>\n",
       "      <th>3</th>\n",
       "      <td>2019-09-18 00:00:00+03:00</td>\n",
       "      <td>885876.0</td>\n",
       "      <td>2028.0</td>\n",
       "      <td>2651.0</td>\n",
       "    </tr>\n",
       "    <tr>\n",
       "      <th>4</th>\n",
       "      <td>2019-10-02 00:00:00+03:00</td>\n",
       "      <td>885876.0</td>\n",
       "      <td>2003.0</td>\n",
       "      <td>2556.0</td>\n",
       "    </tr>\n",
       "  </tbody>\n",
       "</table>\n",
       "</div>"
      ],
      "text/plain": [
       "                       date  operator_id  call_duration  total_call_duration\n",
       "0 2019-09-25 00:00:00+03:00  885876.0     2407.0         3155.0             \n",
       "1 2019-09-26 00:00:00+03:00  885876.0     2204.0         2782.0             \n",
       "2 2019-09-09 00:00:00+03:00  885876.0     2019.0         2652.0             \n",
       "3 2019-09-18 00:00:00+03:00  885876.0     2028.0         2651.0             \n",
       "4 2019-10-02 00:00:00+03:00  885876.0     2003.0         2556.0             "
      ]
     },
     "metadata": {},
     "output_type": "display_data"
    },
    {
     "data": {
      "image/png": "[encoded data removed]",
      "text/plain": [
       "<Figure size 432x288 with 1 Axes>"
      ]
     },
     "metadata": {
      "needs_background": "light"
     },
     "output_type": "display_data"
    }
   ],
   "source": [
    "anomal_calls = calls.query('direction == \"out\"')\n",
    "anomal_calls = anomal_calls.groupby(['date','operator_id']).agg({'call_duration':'sum','total_call_duration':'sum'}).sort_values('total_call_duration', ascending = False).reset_index()\n",
    "display(anomal_calls.head(5))\n",
    "sns.distplot(anomal_calls['call_duration'])\n",
    "sns.distplot(anomal_calls['total_call_duration']).set(title = 'Distribution of Outgoing Call Duration by Operators per Day',\n",
    "                                                xlabel = 'Call Duration',\n",
    "                                                ylabel = 'Frequency');\n"
   ]
  },
  {
   "cell_type": "code",
   "execution_count": 20,
   "id": "a6086113",
   "metadata": {},
   "outputs": [
    {
     "data": {
      "text/html": [
       "<div>\n",
       "<style scoped>\n",
       "    .dataframe tbody tr th:only-of-type {\n",
       "        vertical-align: middle;\n",
       "    }\n",
       "\n",
       "    .dataframe tbody tr th {\n",
       "        vertical-align: top;\n",
       "    }\n",
       "\n",
       "    .dataframe thead th {\n",
       "        text-align: right;\n",
       "    }\n",
       "</style>\n",
       "<table border=\"1\" class=\"dataframe\">\n",
       "  <thead>\n",
       "    <tr style=\"text-align: right;\">\n",
       "      <th></th>\n",
       "      <th>operator_id</th>\n",
       "      <th>call_duration</th>\n",
       "      <th>total_call_duration</th>\n",
       "    </tr>\n",
       "  </thead>\n",
       "  <tbody>\n",
       "    <tr>\n",
       "      <th>count</th>\n",
       "      <td>123.000000</td>\n",
       "      <td>123.000000</td>\n",
       "      <td>123.000000</td>\n",
       "    </tr>\n",
       "    <tr>\n",
       "      <th>mean</th>\n",
       "      <td>892355.642276</td>\n",
       "      <td>1014.780488</td>\n",
       "      <td>1419.113821</td>\n",
       "    </tr>\n",
       "    <tr>\n",
       "      <th>std</th>\n",
       "      <td>15025.194725</td>\n",
       "      <td>443.368783</td>\n",
       "      <td>524.954240</td>\n",
       "    </tr>\n",
       "    <tr>\n",
       "      <th>min</th>\n",
       "      <td>885876.000000</td>\n",
       "      <td>45.000000</td>\n",
       "      <td>725.000000</td>\n",
       "    </tr>\n",
       "    <tr>\n",
       "      <th>25%</th>\n",
       "      <td>885876.000000</td>\n",
       "      <td>740.000000</td>\n",
       "      <td>1111.500000</td>\n",
       "    </tr>\n",
       "    <tr>\n",
       "      <th>50%</th>\n",
       "      <td>885890.000000</td>\n",
       "      <td>926.000000</td>\n",
       "      <td>1298.000000</td>\n",
       "    </tr>\n",
       "    <tr>\n",
       "      <th>75%</th>\n",
       "      <td>885890.000000</td>\n",
       "      <td>1138.000000</td>\n",
       "      <td>1553.000000</td>\n",
       "    </tr>\n",
       "    <tr>\n",
       "      <th>max</th>\n",
       "      <td>945278.000000</td>\n",
       "      <td>2407.000000</td>\n",
       "      <td>3155.000000</td>\n",
       "    </tr>\n",
       "  </tbody>\n",
       "</table>\n",
       "</div>"
      ],
      "text/plain": [
       "         operator_id  call_duration  total_call_duration\n",
       "count  123.000000     123.000000     123.000000         \n",
       "mean   892355.642276  1014.780488    1419.113821        \n",
       "std    15025.194725   443.368783     524.954240         \n",
       "min    885876.000000  45.000000      725.000000         \n",
       "25%    885876.000000  740.000000     1111.500000        \n",
       "50%    885890.000000  926.000000     1298.000000        \n",
       "75%    885890.000000  1138.000000    1553.000000        \n",
       "max    945278.000000  2407.000000    3155.000000        "
      ]
     },
     "metadata": {},
     "output_type": "display_data"
    },
    {
     "name": "stdout",
     "output_type": "stream",
     "text": [
      "The total call duration of anomalously active operators is 174551.0, while the total call duration for the entire period under consideration is 969829.0. Therefore, if we remove calls from anomalously active operators, we will lose 18.0% of the total duration.\n"
     ]
    }
   ],
   "source": [
    "anomal_calls = anomal_calls.query('total_call_duration > 720')\n",
    "display(anomal_calls.describe())\n",
    "print(f\"The total call duration of anomalously active operators is {anomal_calls['total_call_duration'].sum()}, while the total call duration for the entire period under consideration is {calls['total_call_duration'].sum()}. Therefore, if we remove calls from anomalously active operators, we will lose {round(anomal_calls['total_call_duration'].sum() / calls['total_call_duration'].sum() * 100, 2)}% of the total duration.\")\n"
   ]
  },
  {
   "cell_type": "markdown",
   "id": "8df9779b",
   "metadata": {},
   "source": [
    "We found data about anomalously long calls made by operators, which they couldn't physically accomplish based on the assumption that an operator's maximum working time is 12 hours per day. However, if we remove these calls, it will significantly reduce our revenue.\n",
    "\n",
    "It is likely that these are billing errors that need to be reported to the employer later. However, since we are currently analyzing actual customer expenses, I suggest not removing these outliers from the dataset."
   ]
  },
  {
   "cell_type": "code",
   "execution_count": 21,
   "id": "46b958be",
   "metadata": {},
   "outputs": [
    {
     "data": {
      "text/html": [
       "<div>\n",
       "<style scoped>\n",
       "    .dataframe tbody tr th:only-of-type {\n",
       "        vertical-align: middle;\n",
       "    }\n",
       "\n",
       "    .dataframe tbody tr th {\n",
       "        vertical-align: top;\n",
       "    }\n",
       "\n",
       "    .dataframe thead th {\n",
       "        text-align: right;\n",
       "    }\n",
       "</style>\n",
       "<table border=\"1\" class=\"dataframe\">\n",
       "  <thead>\n",
       "    <tr style=\"text-align: right;\">\n",
       "      <th></th>\n",
       "      <th>user_id</th>\n",
       "      <th>date</th>\n",
       "      <th>direction</th>\n",
       "      <th>internal</th>\n",
       "      <th>operator_id</th>\n",
       "      <th>is_missed_call</th>\n",
       "      <th>calls_count</th>\n",
       "      <th>call_duration</th>\n",
       "      <th>total_call_duration</th>\n",
       "      <th>month</th>\n",
       "    </tr>\n",
       "  </thead>\n",
       "  <tbody>\n",
       "    <tr>\n",
       "      <th>0</th>\n",
       "      <td>166377</td>\n",
       "      <td>2019-08-04 00:00:00+03:00</td>\n",
       "      <td>in</td>\n",
       "      <td>False</td>\n",
       "      <td>NaN</td>\n",
       "      <td>True</td>\n",
       "      <td>2</td>\n",
       "      <td>0.0</td>\n",
       "      <td>1.0</td>\n",
       "      <td>8</td>\n",
       "    </tr>\n",
       "    <tr>\n",
       "      <th>7</th>\n",
       "      <td>166377</td>\n",
       "      <td>2019-08-05 00:00:00+03:00</td>\n",
       "      <td>in</td>\n",
       "      <td>False</td>\n",
       "      <td>NaN</td>\n",
       "      <td>True</td>\n",
       "      <td>6</td>\n",
       "      <td>0.0</td>\n",
       "      <td>1.0</td>\n",
       "      <td>8</td>\n",
       "    </tr>\n",
       "    <tr>\n",
       "      <th>8</th>\n",
       "      <td>166377</td>\n",
       "      <td>2019-08-06 00:00:00+03:00</td>\n",
       "      <td>in</td>\n",
       "      <td>False</td>\n",
       "      <td>NaN</td>\n",
       "      <td>True</td>\n",
       "      <td>4</td>\n",
       "      <td>0.0</td>\n",
       "      <td>2.0</td>\n",
       "      <td>8</td>\n",
       "    </tr>\n",
       "    <tr>\n",
       "      <th>16</th>\n",
       "      <td>166377</td>\n",
       "      <td>2019-08-07 00:00:00+03:00</td>\n",
       "      <td>in</td>\n",
       "      <td>False</td>\n",
       "      <td>NaN</td>\n",
       "      <td>True</td>\n",
       "      <td>2</td>\n",
       "      <td>0.0</td>\n",
       "      <td>1.0</td>\n",
       "      <td>8</td>\n",
       "    </tr>\n",
       "    <tr>\n",
       "      <th>26</th>\n",
       "      <td>166377</td>\n",
       "      <td>2019-08-12 00:00:00+03:00</td>\n",
       "      <td>in</td>\n",
       "      <td>False</td>\n",
       "      <td>NaN</td>\n",
       "      <td>True</td>\n",
       "      <td>2</td>\n",
       "      <td>0.0</td>\n",
       "      <td>1.0</td>\n",
       "      <td>8</td>\n",
       "    </tr>\n",
       "  </tbody>\n",
       "</table>\n",
       "</div>"
      ],
      "text/plain": [
       "    user_id                      date direction internal  operator_id  \\\n",
       "0   166377  2019-08-04 00:00:00+03:00  in        False   NaN            \n",
       "7   166377  2019-08-05 00:00:00+03:00  in        False   NaN            \n",
       "8   166377  2019-08-06 00:00:00+03:00  in        False   NaN            \n",
       "16  166377  2019-08-07 00:00:00+03:00  in        False   NaN            \n",
       "26  166377  2019-08-12 00:00:00+03:00  in        False   NaN            \n",
       "\n",
       "    is_missed_call  calls_count  call_duration  total_call_duration  month  \n",
       "0   True            2            0.0            1.0                  8      \n",
       "7   True            6            0.0            1.0                  8      \n",
       "8   True            4            0.0            2.0                  8      \n",
       "16  True            2            0.0            1.0                  8      \n",
       "26  True            2            0.0            1.0                  8      "
      ]
     },
     "execution_count": 21,
     "metadata": {},
     "output_type": "execute_result"
    }
   ],
   "source": [
    "operators_isna = calls[calls['operator_id'].isna()]\n",
    "operators_isna.head()"
   ]
  },
  {
   "cell_type": "code",
   "execution_count": 22,
   "id": "0e8d7353",
   "metadata": {},
   "outputs": [
    {
     "data": {
      "text/html": [
       "<div>\n",
       "<style scoped>\n",
       "    .dataframe tbody tr th:only-of-type {\n",
       "        vertical-align: middle;\n",
       "    }\n",
       "\n",
       "    .dataframe tbody tr th {\n",
       "        vertical-align: top;\n",
       "    }\n",
       "\n",
       "    .dataframe thead th {\n",
       "        text-align: right;\n",
       "    }\n",
       "</style>\n",
       "<table border=\"1\" class=\"dataframe\">\n",
       "  <thead>\n",
       "    <tr style=\"text-align: right;\">\n",
       "      <th></th>\n",
       "      <th>user_id</th>\n",
       "      <th>operator_id</th>\n",
       "      <th>calls_count</th>\n",
       "      <th>call_duration</th>\n",
       "      <th>total_call_duration</th>\n",
       "      <th>month</th>\n",
       "    </tr>\n",
       "  </thead>\n",
       "  <tbody>\n",
       "    <tr>\n",
       "      <th>count</th>\n",
       "      <td>7456.000000</td>\n",
       "      <td>0.0</td>\n",
       "      <td>7456.000000</td>\n",
       "      <td>7456.000000</td>\n",
       "      <td>7456.000000</td>\n",
       "      <td>7456.000000</td>\n",
       "    </tr>\n",
       "    <tr>\n",
       "      <th>mean</th>\n",
       "      <td>167259.123793</td>\n",
       "      <td>NaN</td>\n",
       "      <td>14.024142</td>\n",
       "      <td>1.120842</td>\n",
       "      <td>4.540236</td>\n",
       "      <td>10.088653</td>\n",
       "    </tr>\n",
       "    <tr>\n",
       "      <th>std</th>\n",
       "      <td>586.842979</td>\n",
       "      <td>NaN</td>\n",
       "      <td>81.785240</td>\n",
       "      <td>15.796128</td>\n",
       "      <td>21.076476</td>\n",
       "      <td>0.887381</td>\n",
       "    </tr>\n",
       "    <tr>\n",
       "      <th>min</th>\n",
       "      <td>166377.000000</td>\n",
       "      <td>NaN</td>\n",
       "      <td>1.000000</td>\n",
       "      <td>0.000000</td>\n",
       "      <td>0.000000</td>\n",
       "      <td>8.000000</td>\n",
       "    </tr>\n",
       "    <tr>\n",
       "      <th>25%</th>\n",
       "      <td>166782.000000</td>\n",
       "      <td>NaN</td>\n",
       "      <td>1.000000</td>\n",
       "      <td>0.000000</td>\n",
       "      <td>1.000000</td>\n",
       "      <td>10.000000</td>\n",
       "    </tr>\n",
       "    <tr>\n",
       "      <th>50%</th>\n",
       "      <td>167125.000000</td>\n",
       "      <td>NaN</td>\n",
       "      <td>2.000000</td>\n",
       "      <td>0.000000</td>\n",
       "      <td>1.000000</td>\n",
       "      <td>10.000000</td>\n",
       "    </tr>\n",
       "    <tr>\n",
       "      <th>75%</th>\n",
       "      <td>167727.000000</td>\n",
       "      <td>NaN</td>\n",
       "      <td>7.000000</td>\n",
       "      <td>0.000000</td>\n",
       "      <td>2.000000</td>\n",
       "      <td>11.000000</td>\n",
       "    </tr>\n",
       "    <tr>\n",
       "      <th>max</th>\n",
       "      <td>168606.000000</td>\n",
       "      <td>NaN</td>\n",
       "      <td>2168.000000</td>\n",
       "      <td>437.000000</td>\n",
       "      <td>712.000000</td>\n",
       "      <td>11.000000</td>\n",
       "    </tr>\n",
       "  </tbody>\n",
       "</table>\n",
       "</div>"
      ],
      "text/plain": [
       "             user_id  operator_id  calls_count  call_duration  \\\n",
       "count  7456.000000    0.0          7456.000000  7456.000000     \n",
       "mean   167259.123793 NaN           14.024142    1.120842        \n",
       "std    586.842979    NaN           81.785240    15.796128       \n",
       "min    166377.000000 NaN           1.000000     0.000000        \n",
       "25%    166782.000000 NaN           1.000000     0.000000        \n",
       "50%    167125.000000 NaN           2.000000     0.000000        \n",
       "75%    167727.000000 NaN           7.000000     0.000000        \n",
       "max    168606.000000 NaN           2168.000000  437.000000      \n",
       "\n",
       "       total_call_duration        month  \n",
       "count  7456.000000          7456.000000  \n",
       "mean   4.540236             10.088653    \n",
       "std    21.076476            0.887381     \n",
       "min    0.000000             8.000000     \n",
       "25%    1.000000             10.000000    \n",
       "50%    1.000000             10.000000    \n",
       "75%    2.000000             11.000000    \n",
       "max    712.000000           11.000000    "
      ]
     },
     "execution_count": 22,
     "metadata": {},
     "output_type": "execute_result"
    }
   ],
   "source": [
    "operators_isna.describe()"
   ]
  },
  {
   "cell_type": "code",
   "execution_count": 23,
   "id": "5c2ccbff",
   "metadata": {},
   "outputs": [
    {
     "data": {
      "text/plain": [
       "3083.0"
      ]
     },
     "metadata": {},
     "output_type": "display_data"
    },
    {
     "data": {
      "text/plain": [
       "0.32"
      ]
     },
     "execution_count": 23,
     "metadata": {},
     "output_type": "execute_result"
    }
   ],
   "source": [
    "display(operators_isna.query('direction == \"out\"')['total_call_duration'].sum())\n",
    "round(operators_isna.query('direction == \"out\"')['total_call_duration'].sum()/calls['total_call_duration'].sum()*100,2)"
   ]
  },
  {
   "cell_type": "markdown",
   "id": "3225e034",
   "metadata": {},
   "source": [
    "The percentage of tariffed calls in the rows with missing operators is very small, so we can get rid of the missing values, and it will not affect the analysis."
   ]
  },
  {
   "cell_type": "code",
   "execution_count": 24,
   "id": "517bfbd3",
   "metadata": {},
   "outputs": [
    {
     "data": {
      "text/html": [
       "<div>\n",
       "<style scoped>\n",
       "    .dataframe tbody tr th:only-of-type {\n",
       "        vertical-align: middle;\n",
       "    }\n",
       "\n",
       "    .dataframe tbody tr th {\n",
       "        vertical-align: top;\n",
       "    }\n",
       "\n",
       "    .dataframe thead th {\n",
       "        text-align: right;\n",
       "    }\n",
       "</style>\n",
       "<table border=\"1\" class=\"dataframe\">\n",
       "  <thead>\n",
       "    <tr style=\"text-align: right;\">\n",
       "      <th></th>\n",
       "      <th>calls_count</th>\n",
       "    </tr>\n",
       "    <tr>\n",
       "      <th>direction</th>\n",
       "      <th></th>\n",
       "    </tr>\n",
       "  </thead>\n",
       "  <tbody>\n",
       "    <tr>\n",
       "      <th>in</th>\n",
       "      <td>219</td>\n",
       "    </tr>\n",
       "    <tr>\n",
       "      <th>out</th>\n",
       "      <td>6</td>\n",
       "    </tr>\n",
       "  </tbody>\n",
       "</table>\n",
       "</div>"
      ],
      "text/plain": [
       "           calls_count\n",
       "direction             \n",
       "in         219        \n",
       "out        6          "
      ]
     },
     "execution_count": 24,
     "metadata": {},
     "output_type": "execute_result"
    }
   ],
   "source": [
    "internal_isna = calls[calls['internal'].isna()]\n",
    "internal_isna.groupby('direction').agg({'calls_count':'sum'})"
   ]
  },
  {
   "cell_type": "markdown",
   "id": "e84ec02c",
   "metadata": {},
   "source": [
    "The missing values in the \"internal\" column are mostly incoming calls, indicating that they do not affect the tariffication. Therefore, we can safely remove them."
   ]
  },
  {
   "cell_type": "code",
   "execution_count": 25,
   "id": "dfac96cb",
   "metadata": {},
   "outputs": [],
   "source": [
    "calls = calls.dropna()"
   ]
  },
  {
   "cell_type": "markdown",
   "id": "4bd6636a",
   "metadata": {},
   "source": [
    "## Exploratory data analysis"
   ]
  },
  {
   "cell_type": "markdown",
   "id": "685ec357",
   "metadata": {},
   "source": [
    "creating a dataframe with tariffs"
   ]
  },
  {
   "cell_type": "code",
   "execution_count": 26,
   "id": "565061fc",
   "metadata": {},
   "outputs": [],
   "source": [
    "tariffs = pd.DataFrame(\n",
    "    {\n",
    "        'tariff_plan': ['A', 'B', 'C'],\n",
    "        'price_month': [4000, 2000, 1000],\n",
    "        'calls_internal': [0.1, 0.15, 0.3],\n",
    "        'calls_external': [0.3, 0.5, 0.7],\n",
    "        'internal_limit': [2000, 500, 0],\n",
    "        'operator_cost' : [50, 150, 300]\n",
    "    }\n",
    ")"
   ]
  },
  {
   "cell_type": "code",
   "execution_count": 27,
   "id": "c0006c7d",
   "metadata": {},
   "outputs": [
    {
     "data": {
      "text/plain": [
       "Timestamp('2019-08-02 00:00:00+0300', tz='pytz.FixedOffset(180)')"
      ]
     },
     "metadata": {},
     "output_type": "display_data"
    },
    {
     "data": {
      "text/plain": [
       "Timestamp('2019-11-28 00:00:00+0300', tz='pytz.FixedOffset(180)')"
      ]
     },
     "execution_count": 27,
     "metadata": {},
     "output_type": "execute_result"
    }
   ],
   "source": [
    "display(calls['date'].min())\n",
    "calls['date'].max()"
   ]
  },
  {
   "cell_type": "markdown",
   "id": "9ecd26a6",
   "metadata": {},
   "source": [
    "The dataset displays data from August 2, 2019, to November 28, 2019 (4 months), while according to the analysis task conditions, we should consider data only for the last three months."
   ]
  },
  {
   "cell_type": "code",
   "execution_count": 28,
   "id": "4c74626a",
   "metadata": {},
   "outputs": [],
   "source": [
    "calls = calls[calls['month'] > (calls['month'].max() - 3)] "
   ]
  },
  {
   "cell_type": "code",
   "execution_count": 29,
   "id": "6ffba478",
   "metadata": {},
   "outputs": [
    {
     "data": {
      "text/html": [
       "<div>\n",
       "<style scoped>\n",
       "    .dataframe tbody tr th:only-of-type {\n",
       "        vertical-align: middle;\n",
       "    }\n",
       "\n",
       "    .dataframe tbody tr th {\n",
       "        vertical-align: top;\n",
       "    }\n",
       "\n",
       "    .dataframe thead th {\n",
       "        text-align: right;\n",
       "    }\n",
       "</style>\n",
       "<table border=\"1\" class=\"dataframe\">\n",
       "  <thead>\n",
       "    <tr style=\"text-align: right;\">\n",
       "      <th></th>\n",
       "      <th>user_id</th>\n",
       "      <th>tariff_plan</th>\n",
       "      <th>date_start</th>\n",
       "    </tr>\n",
       "  </thead>\n",
       "  <tbody>\n",
       "    <tr>\n",
       "      <th>0</th>\n",
       "      <td>166713</td>\n",
       "      <td>A</td>\n",
       "      <td>2019-08-15</td>\n",
       "    </tr>\n",
       "    <tr>\n",
       "      <th>1</th>\n",
       "      <td>166901</td>\n",
       "      <td>A</td>\n",
       "      <td>2019-08-23</td>\n",
       "    </tr>\n",
       "    <tr>\n",
       "      <th>2</th>\n",
       "      <td>168527</td>\n",
       "      <td>A</td>\n",
       "      <td>2019-10-29</td>\n",
       "    </tr>\n",
       "    <tr>\n",
       "      <th>3</th>\n",
       "      <td>167097</td>\n",
       "      <td>A</td>\n",
       "      <td>2019-09-01</td>\n",
       "    </tr>\n",
       "    <tr>\n",
       "      <th>4</th>\n",
       "      <td>168193</td>\n",
       "      <td>A</td>\n",
       "      <td>2019-10-16</td>\n",
       "    </tr>\n",
       "  </tbody>\n",
       "</table>\n",
       "</div>"
      ],
      "text/plain": [
       "   user_id tariff_plan date_start\n",
       "0  166713   A          2019-08-15\n",
       "1  166901   A          2019-08-23\n",
       "2  168527   A          2019-10-29\n",
       "3  167097   A          2019-09-01\n",
       "4  168193   A          2019-10-16"
      ]
     },
     "execution_count": 29,
     "metadata": {},
     "output_type": "execute_result"
    }
   ],
   "source": [
    "clients.head()"
   ]
  },
  {
   "cell_type": "markdown",
   "id": "6b00b496",
   "metadata": {},
   "source": [
    "Considering that customers are billed in full for the month they subscribed, we can specify the month of their subscription to understand from which point we should calculate their payment."
   ]
  },
  {
   "cell_type": "code",
   "execution_count": 30,
   "id": "6a60b7f3",
   "metadata": {},
   "outputs": [],
   "source": [
    "clients['month_start'] = clients['date_start'].dt.month\n",
    "clients['month_start_name'] = clients['date_start'].dt.strftime('%B')"
   ]
  },
  {
   "cell_type": "code",
   "execution_count": 31,
   "id": "f7484baf",
   "metadata": {},
   "outputs": [
    {
     "data": {
      "image/png": "[encoded data removed]",
      "text/plain": [
       "<Figure size 432x288 with 1 Axes>"
      ]
     },
     "metadata": {
      "needs_background": "light"
     },
     "output_type": "display_data"
    }
   ],
   "source": [
    "clients.groupby('tariff_plan').agg({'user_id':'count'}).sort_values('user_id', ascending = False).plot(kind = 'bar')\n",
    "plt.xticks(rotation=0);"
   ]
  },
  {
   "cell_type": "markdown",
   "id": "f6327ae7",
   "metadata": {},
   "source": [
    "The most popular tariff is tariff C, as it is the cheapest, while tariff B is in second place, and tariff A is in the last position."
   ]
  },
  {
   "cell_type": "code",
   "execution_count": 32,
   "id": "9b0846c7",
   "metadata": {},
   "outputs": [
    {
     "data": {
      "image/png": "[encoded data removed]",
      "text/plain": [
       "<Figure size 720x360 with 1 Axes>"
      ]
     },
     "metadata": {
      "needs_background": "light"
     },
     "output_type": "display_data"
    }
   ],
   "source": [
    "clients.groupby(['month_start_name', 'tariff_plan']).agg({'user_id': 'nunique'}).rename(columns={'user_id': 'Subscribed Clients'}).unstack().plot(figsize=(10, 5))\n",
    "plt.xlabel('Month')\n",
    "plt.ylabel('Number of Clients Subscribed to Tariff');"
   ]
  },
  {
   "cell_type": "markdown",
   "id": "b8c76ca0",
   "metadata": {},
   "source": [
    "In October, there was a certain trend where the number of customers subscribed to tariff C decreased, while the number of customers for tariffs A and B slightly increased. However, overall, customers tended to prefer tariff C, as it remained the most popular choice throughout the observed period."
   ]
  },
  {
   "cell_type": "code",
   "execution_count": 33,
   "id": "9e647ec3",
   "metadata": {},
   "outputs": [],
   "source": [
    "clients['current_date'] = calls['date'].max()\n",
    "clients['total_months'] = clients['current_date'].dt.to_period('M').astype(int) - \\\n",
    "    clients['date_start'].dt.to_period('M').astype(int)\n"
   ]
  },
  {
   "cell_type": "code",
   "execution_count": 34,
   "id": "65bc6a2b",
   "metadata": {},
   "outputs": [],
   "source": [
    "df = calls.merge(clients, on='user_id')"
   ]
  },
  {
   "cell_type": "code",
   "execution_count": 35,
   "id": "7106bd4f",
   "metadata": {},
   "outputs": [
    {
     "data": {
      "text/plain": [
       "732"
      ]
     },
     "execution_count": 35,
     "metadata": {},
     "output_type": "execute_result"
    }
   ],
   "source": [
    "clients['user_id'].nunique()"
   ]
  },
  {
   "cell_type": "code",
   "execution_count": 36,
   "id": "c9c7d445",
   "metadata": {
    "scrolled": false
   },
   "outputs": [
    {
     "data": {
      "text/plain": [
       "286"
      ]
     },
     "execution_count": 36,
     "metadata": {},
     "output_type": "execute_result"
    }
   ],
   "source": [
    "df['user_id'].nunique()"
   ]
  },
  {
   "cell_type": "markdown",
   "id": "f9d879cd",
   "metadata": {},
   "source": [
    "Evidently, the table with clients contains more entries than the table with calls, indicating that the table with clients likely includes data about all the customers of the telecom company \"NuPozvoni.\""
   ]
  },
  {
   "cell_type": "code",
   "execution_count": 37,
   "id": "e5b613d2",
   "metadata": {},
   "outputs": [
    {
     "data": {
      "text/html": [
       "<div>\n",
       "<style scoped>\n",
       "    .dataframe tbody tr th:only-of-type {\n",
       "        vertical-align: middle;\n",
       "    }\n",
       "\n",
       "    .dataframe tbody tr th {\n",
       "        vertical-align: top;\n",
       "    }\n",
       "\n",
       "    .dataframe thead th {\n",
       "        text-align: right;\n",
       "    }\n",
       "</style>\n",
       "<table border=\"1\" class=\"dataframe\">\n",
       "  <thead>\n",
       "    <tr style=\"text-align: right;\">\n",
       "      <th></th>\n",
       "      <th>user_id</th>\n",
       "      <th>month</th>\n",
       "      <th>total_call_duration</th>\n",
       "    </tr>\n",
       "  </thead>\n",
       "  <tbody>\n",
       "    <tr>\n",
       "      <th>0</th>\n",
       "      <td>166377</td>\n",
       "      <td>3</td>\n",
       "      <td>1718.000000</td>\n",
       "    </tr>\n",
       "    <tr>\n",
       "      <th>1</th>\n",
       "      <td>166405</td>\n",
       "      <td>3</td>\n",
       "      <td>5117.666667</td>\n",
       "    </tr>\n",
       "    <tr>\n",
       "      <th>2</th>\n",
       "      <td>166406</td>\n",
       "      <td>3</td>\n",
       "      <td>1529.666667</td>\n",
       "    </tr>\n",
       "    <tr>\n",
       "      <th>3</th>\n",
       "      <td>166407</td>\n",
       "      <td>3</td>\n",
       "      <td>140.666667</td>\n",
       "    </tr>\n",
       "    <tr>\n",
       "      <th>4</th>\n",
       "      <td>166485</td>\n",
       "      <td>3</td>\n",
       "      <td>2478.333333</td>\n",
       "    </tr>\n",
       "    <tr>\n",
       "      <th>...</th>\n",
       "      <td>...</td>\n",
       "      <td>...</td>\n",
       "      <td>...</td>\n",
       "    </tr>\n",
       "    <tr>\n",
       "      <th>213</th>\n",
       "      <td>168481</td>\n",
       "      <td>1</td>\n",
       "      <td>11.000000</td>\n",
       "    </tr>\n",
       "    <tr>\n",
       "      <th>214</th>\n",
       "      <td>168500</td>\n",
       "      <td>1</td>\n",
       "      <td>1.000000</td>\n",
       "    </tr>\n",
       "    <tr>\n",
       "      <th>215</th>\n",
       "      <td>168601</td>\n",
       "      <td>1</td>\n",
       "      <td>572.000000</td>\n",
       "    </tr>\n",
       "    <tr>\n",
       "      <th>216</th>\n",
       "      <td>168603</td>\n",
       "      <td>1</td>\n",
       "      <td>23.000000</td>\n",
       "    </tr>\n",
       "    <tr>\n",
       "      <th>217</th>\n",
       "      <td>168606</td>\n",
       "      <td>1</td>\n",
       "      <td>17.000000</td>\n",
       "    </tr>\n",
       "  </tbody>\n",
       "</table>\n",
       "<p>218 rows × 3 columns</p>\n",
       "</div>"
      ],
      "text/plain": [
       "     user_id  month  total_call_duration\n",
       "0    166377   3      1718.000000        \n",
       "1    166405   3      5117.666667        \n",
       "2    166406   3      1529.666667        \n",
       "3    166407   3      140.666667         \n",
       "4    166485   3      2478.333333        \n",
       "..      ...  ..              ...        \n",
       "213  168481   1      11.000000          \n",
       "214  168500   1      1.000000           \n",
       "215  168601   1      572.000000         \n",
       "216  168603   1      23.000000          \n",
       "217  168606   1      17.000000          \n",
       "\n",
       "[218 rows x 3 columns]"
      ]
     },
     "metadata": {},
     "output_type": "display_data"
    },
    {
     "data": {
      "image/png": "[encoded data removed]",
      "text/plain": [
       "<Figure size 432x288 with 1 Axes>"
      ]
     },
     "metadata": {
      "needs_background": "light"
     },
     "output_type": "display_data"
    },
    {
     "data": {
      "text/plain": [
       "count    218.000000  \n",
       "mean     1416.013761 \n",
       "std      5665.909516 \n",
       "min      0.000000    \n",
       "25%      21.500000   \n",
       "50%      161.416667  \n",
       "75%      595.583333  \n",
       "max      53897.666667\n",
       "Name: total_call_duration, dtype: float64"
      ]
     },
     "execution_count": 37,
     "metadata": {},
     "output_type": "execute_result"
    }
   ],
   "source": [
    "# Determine who can be considered as active customers.\n",
    "# Examine the distribution of billed calls during the considered period.\n",
    "total_out_calls = calls.query('direction == \"out\" & internal == False').groupby(['user_id', 'month']).agg({'total_call_duration': 'sum'}).reset_index()\n",
    "total_out_calls_mean = total_out_calls.groupby('user_id').agg({'month': 'count', 'total_call_duration': 'mean'}).reset_index()\n",
    "display(total_out_calls_mean)\n",
    "total_out_calls_mean.boxplot(column='total_call_duration')\n",
    "plt.ylim(0, 2000)\n",
    "plt.title('Distribution of Outgoing Call Duration by Customers')\n",
    "plt.show()\n",
    "total_out_calls_mean['total_call_duration'].describe()\n"
   ]
  },
  {
   "cell_type": "markdown",
   "id": "03018169",
   "metadata": {},
   "source": [
    "Given the low position of the 1st quartile on the boxplot, I propose to consider those who are not within the 1st quartile but used the services for more than 1 month as inactive customers."
   ]
  },
  {
   "cell_type": "code",
   "execution_count": 38,
   "id": "8a88919e",
   "metadata": {},
   "outputs": [
    {
     "name": "stdout",
     "output_type": "stream",
     "text": [
      "Total number of clients = 286, while the number of active clients = 137\n"
     ]
    }
   ],
   "source": [
    "inactive_clients_threshold = total_out_calls_mean['total_call_duration'].describe()[4]\n",
    "active_clients = total_out_calls_mean.query('month > 1 & total_call_duration > @inactive_clients_threshold')\n",
    "print(f'Total number of clients = {df[\"user_id\"].nunique()}, while the number of active clients = {active_clients[\"user_id\"].nunique()}')\n"
   ]
  },
  {
   "cell_type": "code",
   "execution_count": 39,
   "id": "5d2f0cc2",
   "metadata": {},
   "outputs": [],
   "source": [
    "#leave the list with active clients for further analysis\n",
    "active_clients_list = active_clients['user_id'].unique()"
   ]
  },
  {
   "cell_type": "markdown",
   "id": "a4ac3bb8",
   "metadata": {},
   "source": [
    "Calculate the revenue for all customers"
   ]
  },
  {
   "cell_type": "code",
   "execution_count": 40,
   "id": "2626ac66",
   "metadata": {},
   "outputs": [
    {
     "data": {
      "text/html": [
       "<div>\n",
       "<style scoped>\n",
       "    .dataframe tbody tr th:only-of-type {\n",
       "        vertical-align: middle;\n",
       "    }\n",
       "\n",
       "    .dataframe tbody tr th {\n",
       "        vertical-align: top;\n",
       "    }\n",
       "\n",
       "    .dataframe thead th {\n",
       "        text-align: right;\n",
       "    }\n",
       "</style>\n",
       "<table border=\"1\" class=\"dataframe\">\n",
       "  <thead>\n",
       "    <tr style=\"text-align: right;\">\n",
       "      <th></th>\n",
       "      <th>tariff_plan</th>\n",
       "      <th>price_month</th>\n",
       "      <th>calls_internal</th>\n",
       "      <th>calls_external</th>\n",
       "      <th>internal_limit</th>\n",
       "      <th>operator_cost</th>\n",
       "    </tr>\n",
       "  </thead>\n",
       "  <tbody>\n",
       "    <tr>\n",
       "      <th>0</th>\n",
       "      <td>A</td>\n",
       "      <td>4000</td>\n",
       "      <td>0.10</td>\n",
       "      <td>0.3</td>\n",
       "      <td>2000</td>\n",
       "      <td>50</td>\n",
       "    </tr>\n",
       "    <tr>\n",
       "      <th>1</th>\n",
       "      <td>B</td>\n",
       "      <td>2000</td>\n",
       "      <td>0.15</td>\n",
       "      <td>0.5</td>\n",
       "      <td>500</td>\n",
       "      <td>150</td>\n",
       "    </tr>\n",
       "    <tr>\n",
       "      <th>2</th>\n",
       "      <td>C</td>\n",
       "      <td>1000</td>\n",
       "      <td>0.30</td>\n",
       "      <td>0.7</td>\n",
       "      <td>0</td>\n",
       "      <td>300</td>\n",
       "    </tr>\n",
       "  </tbody>\n",
       "</table>\n",
       "</div>"
      ],
      "text/plain": [
       "  tariff_plan  price_month  calls_internal  calls_external  internal_limit  \\\n",
       "0  A           4000         0.10            0.3             2000             \n",
       "1  B           2000         0.15            0.5             500              \n",
       "2  C           1000         0.30            0.7             0                \n",
       "\n",
       "   operator_cost  \n",
       "0  50             \n",
       "1  150            \n",
       "2  300            "
      ]
     },
     "execution_count": 40,
     "metadata": {},
     "output_type": "execute_result"
    }
   ],
   "source": [
    "tariffs"
   ]
  },
  {
   "cell_type": "code",
   "execution_count": 41,
   "id": "8c267622",
   "metadata": {},
   "outputs": [],
   "source": [
    "total_ext_minutes = df.query('direction == \"out\" and internal == False').groupby(['user_id','month','tariff_plan']).agg({'total_call_duration':'sum'}).reset_index().rename(columns = {'total_call_duration':'total_ext_minutes'})\n",
    "total_int_minutes = df.query('direction == \"out\" and internal == True').groupby(['user_id','month']).agg({'total_call_duration':'sum'}).reset_index().rename(columns = {'total_call_duration':'total_int_minutes'})\n",
    "\n",
    "revenue_df = total_ext_minutes.merge(total_int_minutes, how = 'left', on =  ['user_id','month'])\n"
   ]
  },
  {
   "cell_type": "code",
   "execution_count": 42,
   "id": "98c84da8",
   "metadata": {},
   "outputs": [],
   "source": [
    "unique_operators_per_month = df.groupby(['user_id','month','tariff_plan'])['operator_id'].nunique().reset_index().rename(columns = {'operator_id':'total_operators'})\n",
    "revenue_df = revenue_df.merge(unique_operators_per_month, how = 'right', on = ['user_id','month','tariff_plan'])"
   ]
  },
  {
   "cell_type": "code",
   "execution_count": 43,
   "id": "351f0ec9",
   "metadata": {},
   "outputs": [],
   "source": [
    "revenue_df = revenue_df.fillna(0)"
   ]
  },
  {
   "cell_type": "code",
   "execution_count": 44,
   "id": "32c0cbe2",
   "metadata": {},
   "outputs": [],
   "source": [
    "def calculate_revenue(revenue_df, tariffs):\n",
    "    for i, row in tariffs.iterrows():\n",
    "        tariff_name = row['tariff_plan']\n",
    "        calls_external = row['calls_external']\n",
    "        operator_cost = row['operator_cost']\n",
    "        price_month = row['price_month']\n",
    "        internal_limit = row['internal_limit']\n",
    "        calls_internal = row['calls_internal']\n",
    "        \n",
    "        revenue_df[f'tariff_{tariff_name}'] = revenue_df['total_ext_minutes']*calls_external \\\n",
    "                                            + revenue_df['total_operators']*operator_cost \\\n",
    "                                            + price_month\n",
    "\n",
    "        def int_calls(row):\n",
    "            if row['total_ext_minutes'] > internal_limit:\n",
    "                return row[f'tariff_{tariff_name}'] + ((row['total_ext_minutes'] - internal_limit)*calls_internal)\n",
    "            else:\n",
    "                return row[f'tariff_{tariff_name}']\n",
    "\n",
    "        revenue_df[f'tariff_{tariff_name}'] = revenue_df.apply(int_calls, axis=1)\n",
    "\n",
    "    return revenue_df"
   ]
  },
  {
   "cell_type": "code",
   "execution_count": 45,
   "id": "386df9f1",
   "metadata": {},
   "outputs": [],
   "source": [
    "revenue_df = calculate_revenue(revenue_df, tariffs)"
   ]
  },
  {
   "cell_type": "code",
   "execution_count": 46,
   "id": "79501264",
   "metadata": {},
   "outputs": [
    {
     "data": {
      "text/html": [
       "<div>\n",
       "<style scoped>\n",
       "    .dataframe tbody tr th:only-of-type {\n",
       "        vertical-align: middle;\n",
       "    }\n",
       "\n",
       "    .dataframe tbody tr th {\n",
       "        vertical-align: top;\n",
       "    }\n",
       "\n",
       "    .dataframe thead th {\n",
       "        text-align: right;\n",
       "    }\n",
       "</style>\n",
       "<table border=\"1\" class=\"dataframe\">\n",
       "  <thead>\n",
       "    <tr style=\"text-align: right;\">\n",
       "      <th></th>\n",
       "      <th>user_id</th>\n",
       "      <th>month</th>\n",
       "      <th>tariff_plan</th>\n",
       "      <th>total_ext_minutes</th>\n",
       "      <th>total_int_minutes</th>\n",
       "      <th>total_operators</th>\n",
       "      <th>tariff_A</th>\n",
       "      <th>tariff_B</th>\n",
       "      <th>tariff_C</th>\n",
       "    </tr>\n",
       "  </thead>\n",
       "  <tbody>\n",
       "    <tr>\n",
       "      <th>0</th>\n",
       "      <td>166377</td>\n",
       "      <td>9</td>\n",
       "      <td>B</td>\n",
       "      <td>1818.0</td>\n",
       "      <td>5.0</td>\n",
       "      <td>4</td>\n",
       "      <td>4745.4</td>\n",
       "      <td>3706.7</td>\n",
       "      <td>4018.0</td>\n",
       "    </tr>\n",
       "    <tr>\n",
       "      <th>1</th>\n",
       "      <td>166377</td>\n",
       "      <td>10</td>\n",
       "      <td>B</td>\n",
       "      <td>1704.0</td>\n",
       "      <td>2.0</td>\n",
       "      <td>5</td>\n",
       "      <td>4761.2</td>\n",
       "      <td>3782.6</td>\n",
       "      <td>4204.0</td>\n",
       "    </tr>\n",
       "    <tr>\n",
       "      <th>2</th>\n",
       "      <td>166377</td>\n",
       "      <td>11</td>\n",
       "      <td>B</td>\n",
       "      <td>1632.0</td>\n",
       "      <td>4.0</td>\n",
       "      <td>4</td>\n",
       "      <td>4689.6</td>\n",
       "      <td>3585.8</td>\n",
       "      <td>3832.0</td>\n",
       "    </tr>\n",
       "    <tr>\n",
       "      <th>3</th>\n",
       "      <td>166391</td>\n",
       "      <td>9</td>\n",
       "      <td>C</td>\n",
       "      <td>0.0</td>\n",
       "      <td>0.0</td>\n",
       "      <td>1</td>\n",
       "      <td>4050.0</td>\n",
       "      <td>2150.0</td>\n",
       "      <td>1300.0</td>\n",
       "    </tr>\n",
       "    <tr>\n",
       "      <th>4</th>\n",
       "      <td>166391</td>\n",
       "      <td>11</td>\n",
       "      <td>C</td>\n",
       "      <td>0.0</td>\n",
       "      <td>0.0</td>\n",
       "      <td>1</td>\n",
       "      <td>4050.0</td>\n",
       "      <td>2150.0</td>\n",
       "      <td>1300.0</td>\n",
       "    </tr>\n",
       "    <tr>\n",
       "      <th>...</th>\n",
       "      <td>...</td>\n",
       "      <td>...</td>\n",
       "      <td>...</td>\n",
       "      <td>...</td>\n",
       "      <td>...</td>\n",
       "      <td>...</td>\n",
       "      <td>...</td>\n",
       "      <td>...</td>\n",
       "      <td>...</td>\n",
       "    </tr>\n",
       "    <tr>\n",
       "      <th>626</th>\n",
       "      <td>168583</td>\n",
       "      <td>11</td>\n",
       "      <td>B</td>\n",
       "      <td>0.0</td>\n",
       "      <td>0.0</td>\n",
       "      <td>2</td>\n",
       "      <td>4100.0</td>\n",
       "      <td>2300.0</td>\n",
       "      <td>1600.0</td>\n",
       "    </tr>\n",
       "    <tr>\n",
       "      <th>627</th>\n",
       "      <td>168598</td>\n",
       "      <td>11</td>\n",
       "      <td>C</td>\n",
       "      <td>0.0</td>\n",
       "      <td>0.0</td>\n",
       "      <td>1</td>\n",
       "      <td>4050.0</td>\n",
       "      <td>2150.0</td>\n",
       "      <td>1300.0</td>\n",
       "    </tr>\n",
       "    <tr>\n",
       "      <th>628</th>\n",
       "      <td>168601</td>\n",
       "      <td>11</td>\n",
       "      <td>C</td>\n",
       "      <td>572.0</td>\n",
       "      <td>0.0</td>\n",
       "      <td>2</td>\n",
       "      <td>4271.6</td>\n",
       "      <td>2596.8</td>\n",
       "      <td>2172.0</td>\n",
       "    </tr>\n",
       "    <tr>\n",
       "      <th>629</th>\n",
       "      <td>168603</td>\n",
       "      <td>11</td>\n",
       "      <td>B</td>\n",
       "      <td>23.0</td>\n",
       "      <td>0.0</td>\n",
       "      <td>1</td>\n",
       "      <td>4056.9</td>\n",
       "      <td>2161.5</td>\n",
       "      <td>1323.0</td>\n",
       "    </tr>\n",
       "    <tr>\n",
       "      <th>630</th>\n",
       "      <td>168606</td>\n",
       "      <td>11</td>\n",
       "      <td>C</td>\n",
       "      <td>17.0</td>\n",
       "      <td>65.0</td>\n",
       "      <td>1</td>\n",
       "      <td>4055.1</td>\n",
       "      <td>2158.5</td>\n",
       "      <td>1317.0</td>\n",
       "    </tr>\n",
       "  </tbody>\n",
       "</table>\n",
       "<p>631 rows × 9 columns</p>\n",
       "</div>"
      ],
      "text/plain": [
       "     user_id  month tariff_plan  total_ext_minutes  total_int_minutes  \\\n",
       "0    166377   9      B           1818.0             5.0                 \n",
       "1    166377   10     B           1704.0             2.0                 \n",
       "2    166377   11     B           1632.0             4.0                 \n",
       "3    166391   9      C           0.0                0.0                 \n",
       "4    166391   11     C           0.0                0.0                 \n",
       "..      ...   ..    ..           ...                ...                 \n",
       "626  168583   11     B           0.0                0.0                 \n",
       "627  168598   11     C           0.0                0.0                 \n",
       "628  168601   11     C           572.0              0.0                 \n",
       "629  168603   11     B           23.0               0.0                 \n",
       "630  168606   11     C           17.0               65.0                \n",
       "\n",
       "     total_operators  tariff_A  tariff_B  tariff_C  \n",
       "0    4                4745.4    3706.7    4018.0    \n",
       "1    5                4761.2    3782.6    4204.0    \n",
       "2    4                4689.6    3585.8    3832.0    \n",
       "3    1                4050.0    2150.0    1300.0    \n",
       "4    1                4050.0    2150.0    1300.0    \n",
       "..  ..                   ...       ...       ...    \n",
       "626  2                4100.0    2300.0    1600.0    \n",
       "627  1                4050.0    2150.0    1300.0    \n",
       "628  2                4271.6    2596.8    2172.0    \n",
       "629  1                4056.9    2161.5    1323.0    \n",
       "630  1                4055.1    2158.5    1317.0    \n",
       "\n",
       "[631 rows x 9 columns]"
      ]
     },
     "execution_count": 46,
     "metadata": {},
     "output_type": "execute_result"
    }
   ],
   "source": [
    "revenue_df"
   ]
  },
  {
   "cell_type": "code",
   "execution_count": 47,
   "id": "e5593248",
   "metadata": {},
   "outputs": [
    {
     "data": {
      "text/html": [
       "<div>\n",
       "<style scoped>\n",
       "    .dataframe tbody tr th:only-of-type {\n",
       "        vertical-align: middle;\n",
       "    }\n",
       "\n",
       "    .dataframe tbody tr th {\n",
       "        vertical-align: top;\n",
       "    }\n",
       "\n",
       "    .dataframe thead th {\n",
       "        text-align: right;\n",
       "    }\n",
       "</style>\n",
       "<table border=\"1\" class=\"dataframe\">\n",
       "  <thead>\n",
       "    <tr style=\"text-align: right;\">\n",
       "      <th></th>\n",
       "      <th>user_id</th>\n",
       "      <th>month</th>\n",
       "      <th>tariff_plan</th>\n",
       "      <th>total_ext_minutes</th>\n",
       "      <th>total_int_minutes</th>\n",
       "      <th>total_operators</th>\n",
       "      <th>tariff_A</th>\n",
       "      <th>tariff_B</th>\n",
       "      <th>tariff_C</th>\n",
       "      <th>current_tariff_profit</th>\n",
       "    </tr>\n",
       "  </thead>\n",
       "  <tbody>\n",
       "    <tr>\n",
       "      <th>0</th>\n",
       "      <td>166377</td>\n",
       "      <td>9</td>\n",
       "      <td>B</td>\n",
       "      <td>1818.0</td>\n",
       "      <td>5.0</td>\n",
       "      <td>4</td>\n",
       "      <td>4745.4</td>\n",
       "      <td>3706.7</td>\n",
       "      <td>4018.0</td>\n",
       "      <td>3706.7</td>\n",
       "    </tr>\n",
       "    <tr>\n",
       "      <th>1</th>\n",
       "      <td>166377</td>\n",
       "      <td>10</td>\n",
       "      <td>B</td>\n",
       "      <td>1704.0</td>\n",
       "      <td>2.0</td>\n",
       "      <td>5</td>\n",
       "      <td>4761.2</td>\n",
       "      <td>3782.6</td>\n",
       "      <td>4204.0</td>\n",
       "      <td>3782.6</td>\n",
       "    </tr>\n",
       "    <tr>\n",
       "      <th>2</th>\n",
       "      <td>166377</td>\n",
       "      <td>11</td>\n",
       "      <td>B</td>\n",
       "      <td>1632.0</td>\n",
       "      <td>4.0</td>\n",
       "      <td>4</td>\n",
       "      <td>4689.6</td>\n",
       "      <td>3585.8</td>\n",
       "      <td>3832.0</td>\n",
       "      <td>3585.8</td>\n",
       "    </tr>\n",
       "    <tr>\n",
       "      <th>3</th>\n",
       "      <td>166391</td>\n",
       "      <td>9</td>\n",
       "      <td>C</td>\n",
       "      <td>0.0</td>\n",
       "      <td>0.0</td>\n",
       "      <td>1</td>\n",
       "      <td>4050.0</td>\n",
       "      <td>2150.0</td>\n",
       "      <td>1300.0</td>\n",
       "      <td>1300.0</td>\n",
       "    </tr>\n",
       "    <tr>\n",
       "      <th>4</th>\n",
       "      <td>166391</td>\n",
       "      <td>11</td>\n",
       "      <td>C</td>\n",
       "      <td>0.0</td>\n",
       "      <td>0.0</td>\n",
       "      <td>1</td>\n",
       "      <td>4050.0</td>\n",
       "      <td>2150.0</td>\n",
       "      <td>1300.0</td>\n",
       "      <td>1300.0</td>\n",
       "    </tr>\n",
       "    <tr>\n",
       "      <th>...</th>\n",
       "      <td>...</td>\n",
       "      <td>...</td>\n",
       "      <td>...</td>\n",
       "      <td>...</td>\n",
       "      <td>...</td>\n",
       "      <td>...</td>\n",
       "      <td>...</td>\n",
       "      <td>...</td>\n",
       "      <td>...</td>\n",
       "      <td>...</td>\n",
       "    </tr>\n",
       "    <tr>\n",
       "      <th>626</th>\n",
       "      <td>168583</td>\n",
       "      <td>11</td>\n",
       "      <td>B</td>\n",
       "      <td>0.0</td>\n",
       "      <td>0.0</td>\n",
       "      <td>2</td>\n",
       "      <td>4100.0</td>\n",
       "      <td>2300.0</td>\n",
       "      <td>1600.0</td>\n",
       "      <td>2300.0</td>\n",
       "    </tr>\n",
       "    <tr>\n",
       "      <th>627</th>\n",
       "      <td>168598</td>\n",
       "      <td>11</td>\n",
       "      <td>C</td>\n",
       "      <td>0.0</td>\n",
       "      <td>0.0</td>\n",
       "      <td>1</td>\n",
       "      <td>4050.0</td>\n",
       "      <td>2150.0</td>\n",
       "      <td>1300.0</td>\n",
       "      <td>1300.0</td>\n",
       "    </tr>\n",
       "    <tr>\n",
       "      <th>628</th>\n",
       "      <td>168601</td>\n",
       "      <td>11</td>\n",
       "      <td>C</td>\n",
       "      <td>572.0</td>\n",
       "      <td>0.0</td>\n",
       "      <td>2</td>\n",
       "      <td>4271.6</td>\n",
       "      <td>2596.8</td>\n",
       "      <td>2172.0</td>\n",
       "      <td>2172.0</td>\n",
       "    </tr>\n",
       "    <tr>\n",
       "      <th>629</th>\n",
       "      <td>168603</td>\n",
       "      <td>11</td>\n",
       "      <td>B</td>\n",
       "      <td>23.0</td>\n",
       "      <td>0.0</td>\n",
       "      <td>1</td>\n",
       "      <td>4056.9</td>\n",
       "      <td>2161.5</td>\n",
       "      <td>1323.0</td>\n",
       "      <td>2161.5</td>\n",
       "    </tr>\n",
       "    <tr>\n",
       "      <th>630</th>\n",
       "      <td>168606</td>\n",
       "      <td>11</td>\n",
       "      <td>C</td>\n",
       "      <td>17.0</td>\n",
       "      <td>65.0</td>\n",
       "      <td>1</td>\n",
       "      <td>4055.1</td>\n",
       "      <td>2158.5</td>\n",
       "      <td>1317.0</td>\n",
       "      <td>1317.0</td>\n",
       "    </tr>\n",
       "  </tbody>\n",
       "</table>\n",
       "<p>631 rows × 10 columns</p>\n",
       "</div>"
      ],
      "text/plain": [
       "     user_id  month tariff_plan  total_ext_minutes  total_int_minutes  \\\n",
       "0    166377   9      B           1818.0             5.0                 \n",
       "1    166377   10     B           1704.0             2.0                 \n",
       "2    166377   11     B           1632.0             4.0                 \n",
       "3    166391   9      C           0.0                0.0                 \n",
       "4    166391   11     C           0.0                0.0                 \n",
       "..      ...   ..    ..           ...                ...                 \n",
       "626  168583   11     B           0.0                0.0                 \n",
       "627  168598   11     C           0.0                0.0                 \n",
       "628  168601   11     C           572.0              0.0                 \n",
       "629  168603   11     B           23.0               0.0                 \n",
       "630  168606   11     C           17.0               65.0                \n",
       "\n",
       "     total_operators  tariff_A  tariff_B  tariff_C  current_tariff_profit  \n",
       "0    4                4745.4    3706.7    4018.0    3706.7                 \n",
       "1    5                4761.2    3782.6    4204.0    3782.6                 \n",
       "2    4                4689.6    3585.8    3832.0    3585.8                 \n",
       "3    1                4050.0    2150.0    1300.0    1300.0                 \n",
       "4    1                4050.0    2150.0    1300.0    1300.0                 \n",
       "..  ..                   ...       ...       ...       ...                 \n",
       "626  2                4100.0    2300.0    1600.0    2300.0                 \n",
       "627  1                4050.0    2150.0    1300.0    1300.0                 \n",
       "628  2                4271.6    2596.8    2172.0    2172.0                 \n",
       "629  1                4056.9    2161.5    1323.0    2161.5                 \n",
       "630  1                4055.1    2158.5    1317.0    1317.0                 \n",
       "\n",
       "[631 rows x 10 columns]"
      ]
     },
     "execution_count": 47,
     "metadata": {},
     "output_type": "execute_result"
    }
   ],
   "source": [
    "def current_tariff_profit(row):\n",
    "    for i,x in tariffs.iterrows():\n",
    "        tariff_name = x['tariff_plan']\n",
    "        if row['tariff_plan'] == tariff_name:\n",
    "            return row[f'tariff_{tariff_name}']\n",
    "\n",
    "revenue_df['current_tariff_profit'] = revenue_df.apply(current_tariff_profit,axis = 1)\n",
    "revenue_df"
   ]
  },
  {
   "cell_type": "markdown",
   "id": "2d85c27a",
   "metadata": {},
   "source": [
    "Let's determine the most optimal tariff plan for the customer."
   ]
  },
  {
   "cell_type": "code",
   "execution_count": 48,
   "id": "0eadff8a",
   "metadata": {},
   "outputs": [],
   "source": [
    "revenue_df['best_tariff_plan'] = revenue_df[['tariff_A', 'tariff_B', 'tariff_C']].idxmin(axis=1)\n"
   ]
  },
  {
   "cell_type": "code",
   "execution_count": 49,
   "id": "ba2d8756",
   "metadata": {},
   "outputs": [],
   "source": [
    "revenue_df['best_tariff_plan'] = revenue_df['best_tariff_plan'].replace('tariff_A', 'A')\n",
    "revenue_df['best_tariff_plan'] = revenue_df['best_tariff_plan'].replace('tariff_B', 'B')\n",
    "revenue_df['best_tariff_plan'] = revenue_df['best_tariff_plan'].replace('tariff_C', 'C')"
   ]
  },
  {
   "cell_type": "code",
   "execution_count": 50,
   "id": "faee1e7e",
   "metadata": {
    "scrolled": false
   },
   "outputs": [
    {
     "data": {
      "text/html": [
       "<div>\n",
       "<style scoped>\n",
       "    .dataframe tbody tr th:only-of-type {\n",
       "        vertical-align: middle;\n",
       "    }\n",
       "\n",
       "    .dataframe tbody tr th {\n",
       "        vertical-align: top;\n",
       "    }\n",
       "\n",
       "    .dataframe thead th {\n",
       "        text-align: right;\n",
       "    }\n",
       "</style>\n",
       "<table border=\"1\" class=\"dataframe\">\n",
       "  <thead>\n",
       "    <tr style=\"text-align: right;\">\n",
       "      <th></th>\n",
       "      <th>user_id</th>\n",
       "      <th>month</th>\n",
       "      <th>tariff_plan</th>\n",
       "      <th>total_ext_minutes</th>\n",
       "      <th>total_int_minutes</th>\n",
       "      <th>total_operators</th>\n",
       "      <th>tariff_A</th>\n",
       "      <th>tariff_B</th>\n",
       "      <th>tariff_C</th>\n",
       "      <th>current_tariff_profit</th>\n",
       "      <th>best_tariff_plan</th>\n",
       "      <th>best_tariff_profit</th>\n",
       "    </tr>\n",
       "  </thead>\n",
       "  <tbody>\n",
       "    <tr>\n",
       "      <th>0</th>\n",
       "      <td>166377</td>\n",
       "      <td>9</td>\n",
       "      <td>B</td>\n",
       "      <td>1818.0</td>\n",
       "      <td>5.0</td>\n",
       "      <td>4</td>\n",
       "      <td>4745.4</td>\n",
       "      <td>3706.7</td>\n",
       "      <td>4018.0</td>\n",
       "      <td>3706.7</td>\n",
       "      <td>B</td>\n",
       "      <td>3706.7</td>\n",
       "    </tr>\n",
       "    <tr>\n",
       "      <th>1</th>\n",
       "      <td>166377</td>\n",
       "      <td>10</td>\n",
       "      <td>B</td>\n",
       "      <td>1704.0</td>\n",
       "      <td>2.0</td>\n",
       "      <td>5</td>\n",
       "      <td>4761.2</td>\n",
       "      <td>3782.6</td>\n",
       "      <td>4204.0</td>\n",
       "      <td>3782.6</td>\n",
       "      <td>B</td>\n",
       "      <td>3782.6</td>\n",
       "    </tr>\n",
       "    <tr>\n",
       "      <th>2</th>\n",
       "      <td>166377</td>\n",
       "      <td>11</td>\n",
       "      <td>B</td>\n",
       "      <td>1632.0</td>\n",
       "      <td>4.0</td>\n",
       "      <td>4</td>\n",
       "      <td>4689.6</td>\n",
       "      <td>3585.8</td>\n",
       "      <td>3832.0</td>\n",
       "      <td>3585.8</td>\n",
       "      <td>B</td>\n",
       "      <td>3585.8</td>\n",
       "    </tr>\n",
       "    <tr>\n",
       "      <th>3</th>\n",
       "      <td>166391</td>\n",
       "      <td>9</td>\n",
       "      <td>C</td>\n",
       "      <td>0.0</td>\n",
       "      <td>0.0</td>\n",
       "      <td>1</td>\n",
       "      <td>4050.0</td>\n",
       "      <td>2150.0</td>\n",
       "      <td>1300.0</td>\n",
       "      <td>1300.0</td>\n",
       "      <td>C</td>\n",
       "      <td>1300.0</td>\n",
       "    </tr>\n",
       "    <tr>\n",
       "      <th>4</th>\n",
       "      <td>166391</td>\n",
       "      <td>11</td>\n",
       "      <td>C</td>\n",
       "      <td>0.0</td>\n",
       "      <td>0.0</td>\n",
       "      <td>1</td>\n",
       "      <td>4050.0</td>\n",
       "      <td>2150.0</td>\n",
       "      <td>1300.0</td>\n",
       "      <td>1300.0</td>\n",
       "      <td>C</td>\n",
       "      <td>1300.0</td>\n",
       "    </tr>\n",
       "    <tr>\n",
       "      <th>...</th>\n",
       "      <td>...</td>\n",
       "      <td>...</td>\n",
       "      <td>...</td>\n",
       "      <td>...</td>\n",
       "      <td>...</td>\n",
       "      <td>...</td>\n",
       "      <td>...</td>\n",
       "      <td>...</td>\n",
       "      <td>...</td>\n",
       "      <td>...</td>\n",
       "      <td>...</td>\n",
       "      <td>...</td>\n",
       "    </tr>\n",
       "    <tr>\n",
       "      <th>626</th>\n",
       "      <td>168583</td>\n",
       "      <td>11</td>\n",
       "      <td>B</td>\n",
       "      <td>0.0</td>\n",
       "      <td>0.0</td>\n",
       "      <td>2</td>\n",
       "      <td>4100.0</td>\n",
       "      <td>2300.0</td>\n",
       "      <td>1600.0</td>\n",
       "      <td>2300.0</td>\n",
       "      <td>C</td>\n",
       "      <td>1600.0</td>\n",
       "    </tr>\n",
       "    <tr>\n",
       "      <th>627</th>\n",
       "      <td>168598</td>\n",
       "      <td>11</td>\n",
       "      <td>C</td>\n",
       "      <td>0.0</td>\n",
       "      <td>0.0</td>\n",
       "      <td>1</td>\n",
       "      <td>4050.0</td>\n",
       "      <td>2150.0</td>\n",
       "      <td>1300.0</td>\n",
       "      <td>1300.0</td>\n",
       "      <td>C</td>\n",
       "      <td>1300.0</td>\n",
       "    </tr>\n",
       "    <tr>\n",
       "      <th>628</th>\n",
       "      <td>168601</td>\n",
       "      <td>11</td>\n",
       "      <td>C</td>\n",
       "      <td>572.0</td>\n",
       "      <td>0.0</td>\n",
       "      <td>2</td>\n",
       "      <td>4271.6</td>\n",
       "      <td>2596.8</td>\n",
       "      <td>2172.0</td>\n",
       "      <td>2172.0</td>\n",
       "      <td>C</td>\n",
       "      <td>2172.0</td>\n",
       "    </tr>\n",
       "    <tr>\n",
       "      <th>629</th>\n",
       "      <td>168603</td>\n",
       "      <td>11</td>\n",
       "      <td>B</td>\n",
       "      <td>23.0</td>\n",
       "      <td>0.0</td>\n",
       "      <td>1</td>\n",
       "      <td>4056.9</td>\n",
       "      <td>2161.5</td>\n",
       "      <td>1323.0</td>\n",
       "      <td>2161.5</td>\n",
       "      <td>C</td>\n",
       "      <td>1323.0</td>\n",
       "    </tr>\n",
       "    <tr>\n",
       "      <th>630</th>\n",
       "      <td>168606</td>\n",
       "      <td>11</td>\n",
       "      <td>C</td>\n",
       "      <td>17.0</td>\n",
       "      <td>65.0</td>\n",
       "      <td>1</td>\n",
       "      <td>4055.1</td>\n",
       "      <td>2158.5</td>\n",
       "      <td>1317.0</td>\n",
       "      <td>1317.0</td>\n",
       "      <td>C</td>\n",
       "      <td>1317.0</td>\n",
       "    </tr>\n",
       "  </tbody>\n",
       "</table>\n",
       "<p>631 rows × 12 columns</p>\n",
       "</div>"
      ],
      "text/plain": [
       "     user_id  month tariff_plan  total_ext_minutes  total_int_minutes  \\\n",
       "0    166377   9      B           1818.0             5.0                 \n",
       "1    166377   10     B           1704.0             2.0                 \n",
       "2    166377   11     B           1632.0             4.0                 \n",
       "3    166391   9      C           0.0                0.0                 \n",
       "4    166391   11     C           0.0                0.0                 \n",
       "..      ...   ..    ..           ...                ...                 \n",
       "626  168583   11     B           0.0                0.0                 \n",
       "627  168598   11     C           0.0                0.0                 \n",
       "628  168601   11     C           572.0              0.0                 \n",
       "629  168603   11     B           23.0               0.0                 \n",
       "630  168606   11     C           17.0               65.0                \n",
       "\n",
       "     total_operators  tariff_A  tariff_B  tariff_C  current_tariff_profit  \\\n",
       "0    4                4745.4    3706.7    4018.0    3706.7                  \n",
       "1    5                4761.2    3782.6    4204.0    3782.6                  \n",
       "2    4                4689.6    3585.8    3832.0    3585.8                  \n",
       "3    1                4050.0    2150.0    1300.0    1300.0                  \n",
       "4    1                4050.0    2150.0    1300.0    1300.0                  \n",
       "..  ..                   ...       ...       ...       ...                  \n",
       "626  2                4100.0    2300.0    1600.0    2300.0                  \n",
       "627  1                4050.0    2150.0    1300.0    1300.0                  \n",
       "628  2                4271.6    2596.8    2172.0    2172.0                  \n",
       "629  1                4056.9    2161.5    1323.0    2161.5                  \n",
       "630  1                4055.1    2158.5    1317.0    1317.0                  \n",
       "\n",
       "    best_tariff_plan  best_tariff_profit  \n",
       "0    B                3706.7              \n",
       "1    B                3782.6              \n",
       "2    B                3585.8              \n",
       "3    C                1300.0              \n",
       "4    C                1300.0              \n",
       "..  ..                   ...              \n",
       "626  C                1600.0              \n",
       "627  C                1300.0              \n",
       "628  C                2172.0              \n",
       "629  C                1323.0              \n",
       "630  C                1317.0              \n",
       "\n",
       "[631 rows x 12 columns]"
      ]
     },
     "execution_count": 50,
     "metadata": {},
     "output_type": "execute_result"
    }
   ],
   "source": [
    "def best_tariff_profit(row):\n",
    "    for i,x in tariffs.iterrows():\n",
    "        tariff_name = x['tariff_plan']\n",
    "        if row['best_tariff_plan'] == tariff_name:\n",
    "            return row[f'tariff_{tariff_name}']\n",
    "\n",
    "revenue_df['best_tariff_profit'] = revenue_df.apply(best_tariff_profit,axis = 1)\n",
    "revenue_df"
   ]
  },
  {
   "cell_type": "markdown",
   "id": "71235fc5",
   "metadata": {},
   "source": [
    "We have created a table with all possible tariffs for each user, as well as their current and most optimal tariff plan."
   ]
  },
  {
   "cell_type": "code",
   "execution_count": 51,
   "id": "d86b6c64",
   "metadata": {},
   "outputs": [
    {
     "data": {
      "image/png": "[encoded data removed]",
      "text/plain": [
       "<Figure size 720x576 with 1 Axes>"
      ]
     },
     "metadata": {},
     "output_type": "display_data"
    }
   ],
   "source": [
    "months_revenue = revenue_df.groupby('month').agg({'current_tariff_profit': 'sum', 'best_tariff_profit': 'sum'})\n",
    "sns.set(rc={'figure.figsize':(10, 8)})\n",
    "sns.lineplot(data=months_revenue).set(title='Change in Revenue for All Customers when Switching to the Optimal Tariff',\n",
    "                                      xlabel='Month',\n",
    "                                      ylabel='Revenue');\n",
    "\n"
   ]
  },
  {
   "cell_type": "markdown",
   "id": "2b443b1e",
   "metadata": {},
   "source": [
    "Let's see how much revenue is being lost"
   ]
  },
  {
   "cell_type": "code",
   "execution_count": 52,
   "id": "d9416b37",
   "metadata": {
    "scrolled": true
   },
   "outputs": [
    {
     "name": "stdout",
     "output_type": "stream",
     "text": [
      "Total revenue loss will be 282814, which is 15.61% of the total revenue\n"
     ]
    }
   ],
   "source": [
    "months_revenue['loss'] = months_revenue['current_tariff_profit'] - months_revenue['best_tariff_profit']\n",
    "print(f'Total revenue loss will be {round(months_revenue[\"loss\"].sum())}, which is {round(months_revenue[\"loss\"].sum() / months_revenue[\"current_tariff_profit\"].sum() * 100, 2)}% of the total revenue')\n"
   ]
  },
  {
   "cell_type": "markdown",
   "id": "550a40e5",
   "metadata": {},
   "source": [
    "Let's perform the same calculations for active clients only"
   ]
  },
  {
   "cell_type": "code",
   "execution_count": 53,
   "id": "92cb5963",
   "metadata": {},
   "outputs": [],
   "source": [
    "active_revenue_df = revenue_df.query('user_id in @active_clients_list')"
   ]
  },
  {
   "cell_type": "code",
   "execution_count": 54,
   "id": "1598e8e0",
   "metadata": {},
   "outputs": [
    {
     "data": {
      "image/png": "[encoded data removed]",
      "text/plain": [
       "<Figure size 720x576 with 1 Axes>"
      ]
     },
     "metadata": {},
     "output_type": "display_data"
    }
   ],
   "source": [
    "months_revenue_active = active_revenue_df.groupby('month').agg({'current_tariff_profit': 'sum', 'best_tariff_profit': 'sum'})\n",
    "sns.set(rc={'figure.figsize': (10, 8)})\n",
    "sns.lineplot(data=months_revenue_active).set(title='Change in Revenue for Active Clients when Switching to the Optimal Tariff',\n",
    "                                            xlabel='Month',\n",
    "                                            ylabel='Revenue');\n"
   ]
  },
  {
   "cell_type": "code",
   "execution_count": 55,
   "id": "da803afd",
   "metadata": {},
   "outputs": [
    {
     "name": "stdout",
     "output_type": "stream",
     "text": [
      "Total revenue loss for active clients will be 180222, which is 14.32% of the total revenue for active clients\n"
     ]
    }
   ],
   "source": [
    "months_revenue_active['loss'] = months_revenue_active['current_tariff_profit'] - months_revenue_active['best_tariff_profit']\n",
    "print(f'Total revenue loss for active clients will be {round(months_revenue_active[\"loss\"].sum())}, which is {round(months_revenue_active[\"loss\"].sum() / months_revenue_active[\"current_tariff_profit\"].sum() * 100, 2)}% of the total revenue for active clients')\n"
   ]
  },
  {
   "cell_type": "code",
   "execution_count": 56,
   "id": "619a1e6f",
   "metadata": {
    "scrolled": false
   },
   "outputs": [
    {
     "data": {
      "image/png": "[encoded data removed]",
      "text/plain": [
       "<Figure size 504x504 with 1 Axes>"
      ]
     },
     "metadata": {},
     "output_type": "display_data"
    }
   ],
   "source": [
    "plt.figure(figsize=(7, 7))\n",
    "ax = sns.stripplot(data=revenue_df, x='tariff_plan', y=\"current_tariff_profit\")\n",
    "ax.set(title='Distribution of Revenue from Customers on Current Tariffs', ylabel='Revenue', xlabel='Tariff Plan', ylim=(1000, 15000))\n",
    "plt.show()\n"
   ]
  },
  {
   "cell_type": "code",
   "execution_count": 57,
   "id": "e9ee5dfe",
   "metadata": {},
   "outputs": [
    {
     "data": {
      "image/png": "[encoded data removed]",
      "text/plain": [
       "<Figure size 504x504 with 1 Axes>"
      ]
     },
     "metadata": {},
     "output_type": "display_data"
    }
   ],
   "source": [
    "plt.figure(figsize=(7, 7))\n",
    "ax = sns.stripplot(data=revenue_df, x='best_tariff_plan', y=\"best_tariff_profit\")\n",
    "ax.set(title='Distribution of Revenue from Customers on Optimal Tariffs', ylabel='Revenue', xlabel='Tariff Plan', ylim=(1000, 15000))\n",
    "plt.show()\n"
   ]
  },
  {
   "cell_type": "markdown",
   "id": "e88ac939",
   "metadata": {},
   "source": [
    "It is evident that the transition to optimal tariffs reduces outliers for tariff plans B and C, but it is necessary to analyze client migration."
   ]
  },
  {
   "cell_type": "code",
   "execution_count": 58,
   "id": "5e2a0f1e",
   "metadata": {},
   "outputs": [
    {
     "data": {
      "text/html": [
       "<div>\n",
       "<style scoped>\n",
       "    .dataframe tbody tr th:only-of-type {\n",
       "        vertical-align: middle;\n",
       "    }\n",
       "\n",
       "    .dataframe tbody tr th {\n",
       "        vertical-align: top;\n",
       "    }\n",
       "\n",
       "    .dataframe thead th {\n",
       "        text-align: right;\n",
       "    }\n",
       "</style>\n",
       "<table border=\"1\" class=\"dataframe\">\n",
       "  <thead>\n",
       "    <tr style=\"text-align: right;\">\n",
       "      <th></th>\n",
       "      <th>user_id</th>\n",
       "      <th>tariff_plan</th>\n",
       "      <th>tariff_A</th>\n",
       "      <th>tariff_B</th>\n",
       "      <th>tariff_C</th>\n",
       "      <th>best_tariff_plan</th>\n",
       "    </tr>\n",
       "  </thead>\n",
       "  <tbody>\n",
       "    <tr>\n",
       "      <th>0</th>\n",
       "      <td>166377</td>\n",
       "      <td>B</td>\n",
       "      <td>14196.2</td>\n",
       "      <td>11075.10</td>\n",
       "      <td>12054.0</td>\n",
       "      <td>B</td>\n",
       "    </tr>\n",
       "    <tr>\n",
       "      <th>1</th>\n",
       "      <td>166391</td>\n",
       "      <td>C</td>\n",
       "      <td>8100.0</td>\n",
       "      <td>4300.00</td>\n",
       "      <td>2600.0</td>\n",
       "      <td>C</td>\n",
       "    </tr>\n",
       "    <tr>\n",
       "      <th>2</th>\n",
       "      <td>166392</td>\n",
       "      <td>C</td>\n",
       "      <td>12300.0</td>\n",
       "      <td>6900.00</td>\n",
       "      <td>4800.0</td>\n",
       "      <td>C</td>\n",
       "    </tr>\n",
       "    <tr>\n",
       "      <th>3</th>\n",
       "      <td>166399</td>\n",
       "      <td>C</td>\n",
       "      <td>8100.0</td>\n",
       "      <td>4300.00</td>\n",
       "      <td>2600.0</td>\n",
       "      <td>C</td>\n",
       "    </tr>\n",
       "    <tr>\n",
       "      <th>4</th>\n",
       "      <td>166405</td>\n",
       "      <td>B</td>\n",
       "      <td>18641.2</td>\n",
       "      <td>19054.45</td>\n",
       "      <td>24953.0</td>\n",
       "      <td>A</td>\n",
       "    </tr>\n",
       "    <tr>\n",
       "      <th>...</th>\n",
       "      <td>...</td>\n",
       "      <td>...</td>\n",
       "      <td>...</td>\n",
       "      <td>...</td>\n",
       "      <td>...</td>\n",
       "      <td>...</td>\n",
       "    </tr>\n",
       "    <tr>\n",
       "      <th>281</th>\n",
       "      <td>168583</td>\n",
       "      <td>B</td>\n",
       "      <td>8150.0</td>\n",
       "      <td>4450.00</td>\n",
       "      <td>2900.0</td>\n",
       "      <td>C</td>\n",
       "    </tr>\n",
       "    <tr>\n",
       "      <th>282</th>\n",
       "      <td>168598</td>\n",
       "      <td>C</td>\n",
       "      <td>4050.0</td>\n",
       "      <td>2150.00</td>\n",
       "      <td>1300.0</td>\n",
       "      <td>C</td>\n",
       "    </tr>\n",
       "    <tr>\n",
       "      <th>283</th>\n",
       "      <td>168601</td>\n",
       "      <td>C</td>\n",
       "      <td>4271.6</td>\n",
       "      <td>2596.80</td>\n",
       "      <td>2172.0</td>\n",
       "      <td>C</td>\n",
       "    </tr>\n",
       "    <tr>\n",
       "      <th>284</th>\n",
       "      <td>168603</td>\n",
       "      <td>B</td>\n",
       "      <td>4056.9</td>\n",
       "      <td>2161.50</td>\n",
       "      <td>1323.0</td>\n",
       "      <td>C</td>\n",
       "    </tr>\n",
       "    <tr>\n",
       "      <th>285</th>\n",
       "      <td>168606</td>\n",
       "      <td>C</td>\n",
       "      <td>4055.1</td>\n",
       "      <td>2158.50</td>\n",
       "      <td>1317.0</td>\n",
       "      <td>C</td>\n",
       "    </tr>\n",
       "  </tbody>\n",
       "</table>\n",
       "<p>286 rows × 6 columns</p>\n",
       "</div>"
      ],
      "text/plain": [
       "     user_id tariff_plan  tariff_A  tariff_B  tariff_C best_tariff_plan\n",
       "0    166377   B           14196.2   11075.10  12054.0   B              \n",
       "1    166391   C           8100.0    4300.00   2600.0    C              \n",
       "2    166392   C           12300.0   6900.00   4800.0    C              \n",
       "3    166399   C           8100.0    4300.00   2600.0    C              \n",
       "4    166405   B           18641.2   19054.45  24953.0   A              \n",
       "..      ...  ..               ...        ...      ...  ..              \n",
       "281  168583   B           8150.0    4450.00   2900.0    C              \n",
       "282  168598   C           4050.0    2150.00   1300.0    C              \n",
       "283  168601   C           4271.6    2596.80   2172.0    C              \n",
       "284  168603   B           4056.9    2161.50   1323.0    C              \n",
       "285  168606   C           4055.1    2158.50   1317.0    C              \n",
       "\n",
       "[286 rows x 6 columns]"
      ]
     },
     "execution_count": 58,
     "metadata": {},
     "output_type": "execute_result"
    }
   ],
   "source": [
    "aggregated_revenue = revenue_df.groupby(['user_id','tariff_plan']).agg({'tariff_A':'sum',\n",
    "                                                  'tariff_B':'sum',\n",
    "                                                  'tariff_C':'sum'}).reset_index()\n",
    "\n",
    "aggregated_revenue['best_tariff_plan'] = aggregated_revenue[['tariff_A', 'tariff_B', 'tariff_C']].idxmin(axis=1)\n",
    "\n",
    "aggregated_revenue['best_tariff_plan'] = aggregated_revenue['best_tariff_plan'].replace('tariff_A', 'A')\n",
    "aggregated_revenue['best_tariff_plan'] = aggregated_revenue['best_tariff_plan'].replace('tariff_B', 'B')\n",
    "aggregated_revenue['best_tariff_plan'] = aggregated_revenue['best_tariff_plan'].replace('tariff_C', 'C')\n",
    "aggregated_revenue"
   ]
  },
  {
   "cell_type": "code",
   "execution_count": 59,
   "id": "d804eab7",
   "metadata": {},
   "outputs": [],
   "source": [
    "def recommendation(row):\n",
    "    dict_params = {'A':3,'B':2, 'C':1}\n",
    "    dict_params_down = dict(reversed(item) for item in dict_params.items())\n",
    "    current_tariff = dict_params[row['tariff_plan']]\n",
    "    if row['tariff_plan'] == row['best_tariff_plan'] :\n",
    "        return 'optimal'\n",
    "    else:\n",
    "        best_tariff = dict_params[str(row['best_tariff_plan'])]\n",
    "        if current_tariff > best_tariff:\n",
    "            return 'down_'+ dict_params_down[best_tariff]\n",
    "        else:\n",
    "            return 'up_'+ dict_params_down[best_tariff]"
   ]
  },
  {
   "cell_type": "code",
   "execution_count": 60,
   "id": "01adf3a0",
   "metadata": {
    "scrolled": true
   },
   "outputs": [
    {
     "data": {
      "text/html": [
       "<div>\n",
       "<style scoped>\n",
       "    .dataframe tbody tr th:only-of-type {\n",
       "        vertical-align: middle;\n",
       "    }\n",
       "\n",
       "    .dataframe tbody tr th {\n",
       "        vertical-align: top;\n",
       "    }\n",
       "\n",
       "    .dataframe thead th {\n",
       "        text-align: right;\n",
       "    }\n",
       "</style>\n",
       "<table border=\"1\" class=\"dataframe\">\n",
       "  <thead>\n",
       "    <tr style=\"text-align: right;\">\n",
       "      <th></th>\n",
       "      <th>user_id</th>\n",
       "      <th>tariff_plan</th>\n",
       "      <th>tariff_A</th>\n",
       "      <th>tariff_B</th>\n",
       "      <th>tariff_C</th>\n",
       "      <th>best_tariff_plan</th>\n",
       "      <th>recommendation</th>\n",
       "    </tr>\n",
       "  </thead>\n",
       "  <tbody>\n",
       "    <tr>\n",
       "      <th>0</th>\n",
       "      <td>166377</td>\n",
       "      <td>B</td>\n",
       "      <td>14196.2</td>\n",
       "      <td>11075.10</td>\n",
       "      <td>12054.0</td>\n",
       "      <td>B</td>\n",
       "      <td>optimal</td>\n",
       "    </tr>\n",
       "    <tr>\n",
       "      <th>1</th>\n",
       "      <td>166391</td>\n",
       "      <td>C</td>\n",
       "      <td>8100.0</td>\n",
       "      <td>4300.00</td>\n",
       "      <td>2600.0</td>\n",
       "      <td>C</td>\n",
       "      <td>optimal</td>\n",
       "    </tr>\n",
       "    <tr>\n",
       "      <th>2</th>\n",
       "      <td>166392</td>\n",
       "      <td>C</td>\n",
       "      <td>12300.0</td>\n",
       "      <td>6900.00</td>\n",
       "      <td>4800.0</td>\n",
       "      <td>C</td>\n",
       "      <td>optimal</td>\n",
       "    </tr>\n",
       "    <tr>\n",
       "      <th>3</th>\n",
       "      <td>166399</td>\n",
       "      <td>C</td>\n",
       "      <td>8100.0</td>\n",
       "      <td>4300.00</td>\n",
       "      <td>2600.0</td>\n",
       "      <td>C</td>\n",
       "      <td>optimal</td>\n",
       "    </tr>\n",
       "    <tr>\n",
       "      <th>4</th>\n",
       "      <td>166405</td>\n",
       "      <td>B</td>\n",
       "      <td>18641.2</td>\n",
       "      <td>19054.45</td>\n",
       "      <td>24953.0</td>\n",
       "      <td>A</td>\n",
       "      <td>up_A</td>\n",
       "    </tr>\n",
       "    <tr>\n",
       "      <th>...</th>\n",
       "      <td>...</td>\n",
       "      <td>...</td>\n",
       "      <td>...</td>\n",
       "      <td>...</td>\n",
       "      <td>...</td>\n",
       "      <td>...</td>\n",
       "      <td>...</td>\n",
       "    </tr>\n",
       "    <tr>\n",
       "      <th>281</th>\n",
       "      <td>168583</td>\n",
       "      <td>B</td>\n",
       "      <td>8150.0</td>\n",
       "      <td>4450.00</td>\n",
       "      <td>2900.0</td>\n",
       "      <td>C</td>\n",
       "      <td>down_C</td>\n",
       "    </tr>\n",
       "    <tr>\n",
       "      <th>282</th>\n",
       "      <td>168598</td>\n",
       "      <td>C</td>\n",
       "      <td>4050.0</td>\n",
       "      <td>2150.00</td>\n",
       "      <td>1300.0</td>\n",
       "      <td>C</td>\n",
       "      <td>optimal</td>\n",
       "    </tr>\n",
       "    <tr>\n",
       "      <th>283</th>\n",
       "      <td>168601</td>\n",
       "      <td>C</td>\n",
       "      <td>4271.6</td>\n",
       "      <td>2596.80</td>\n",
       "      <td>2172.0</td>\n",
       "      <td>C</td>\n",
       "      <td>optimal</td>\n",
       "    </tr>\n",
       "    <tr>\n",
       "      <th>284</th>\n",
       "      <td>168603</td>\n",
       "      <td>B</td>\n",
       "      <td>4056.9</td>\n",
       "      <td>2161.50</td>\n",
       "      <td>1323.0</td>\n",
       "      <td>C</td>\n",
       "      <td>down_C</td>\n",
       "    </tr>\n",
       "    <tr>\n",
       "      <th>285</th>\n",
       "      <td>168606</td>\n",
       "      <td>C</td>\n",
       "      <td>4055.1</td>\n",
       "      <td>2158.50</td>\n",
       "      <td>1317.0</td>\n",
       "      <td>C</td>\n",
       "      <td>optimal</td>\n",
       "    </tr>\n",
       "  </tbody>\n",
       "</table>\n",
       "<p>286 rows × 7 columns</p>\n",
       "</div>"
      ],
      "text/plain": [
       "     user_id tariff_plan  tariff_A  tariff_B  tariff_C best_tariff_plan  \\\n",
       "0    166377   B           14196.2   11075.10  12054.0   B                 \n",
       "1    166391   C           8100.0    4300.00   2600.0    C                 \n",
       "2    166392   C           12300.0   6900.00   4800.0    C                 \n",
       "3    166399   C           8100.0    4300.00   2600.0    C                 \n",
       "4    166405   B           18641.2   19054.45  24953.0   A                 \n",
       "..      ...  ..               ...        ...      ...  ..                 \n",
       "281  168583   B           8150.0    4450.00   2900.0    C                 \n",
       "282  168598   C           4050.0    2150.00   1300.0    C                 \n",
       "283  168601   C           4271.6    2596.80   2172.0    C                 \n",
       "284  168603   B           4056.9    2161.50   1323.0    C                 \n",
       "285  168606   C           4055.1    2158.50   1317.0    C                 \n",
       "\n",
       "    recommendation  \n",
       "0    optimal        \n",
       "1    optimal        \n",
       "2    optimal        \n",
       "3    optimal        \n",
       "4    up_A           \n",
       "..    ...           \n",
       "281  down_C         \n",
       "282  optimal        \n",
       "283  optimal        \n",
       "284  down_C         \n",
       "285  optimal        \n",
       "\n",
       "[286 rows x 7 columns]"
      ]
     },
     "execution_count": 60,
     "metadata": {},
     "output_type": "execute_result"
    }
   ],
   "source": [
    "aggregated_revenue['recommendation'] = aggregated_revenue.apply(recommendation,axis = 1)\n",
    "aggregated_revenue"
   ]
  },
  {
   "cell_type": "code",
   "execution_count": 61,
   "id": "d1337b39",
   "metadata": {
    "scrolled": true
   },
   "outputs": [
    {
     "data": {
      "text/html": [
       "<div>\n",
       "<style scoped>\n",
       "    .dataframe tbody tr th:only-of-type {\n",
       "        vertical-align: middle;\n",
       "    }\n",
       "\n",
       "    .dataframe tbody tr th {\n",
       "        vertical-align: top;\n",
       "    }\n",
       "\n",
       "    .dataframe thead th {\n",
       "        text-align: right;\n",
       "    }\n",
       "</style>\n",
       "<table border=\"1\" class=\"dataframe\">\n",
       "  <thead>\n",
       "    <tr style=\"text-align: right;\">\n",
       "      <th></th>\n",
       "      <th>count</th>\n",
       "    </tr>\n",
       "    <tr>\n",
       "      <th>recommendation</th>\n",
       "      <th></th>\n",
       "    </tr>\n",
       "  </thead>\n",
       "  <tbody>\n",
       "    <tr>\n",
       "      <th>optimal</th>\n",
       "      <td>158</td>\n",
       "    </tr>\n",
       "    <tr>\n",
       "      <th>down_C</th>\n",
       "      <td>102</td>\n",
       "    </tr>\n",
       "    <tr>\n",
       "      <th>up_B</th>\n",
       "      <td>13</td>\n",
       "    </tr>\n",
       "    <tr>\n",
       "      <th>up_A</th>\n",
       "      <td>8</td>\n",
       "    </tr>\n",
       "    <tr>\n",
       "      <th>down_B</th>\n",
       "      <td>5</td>\n",
       "    </tr>\n",
       "  </tbody>\n",
       "</table>\n",
       "</div>"
      ],
      "text/plain": [
       "                count\n",
       "recommendation       \n",
       "optimal         158  \n",
       "down_C          102  \n",
       "up_B            13   \n",
       "up_A            8    \n",
       "down_B          5    "
      ]
     },
     "execution_count": 61,
     "metadata": {},
     "output_type": "execute_result"
    }
   ],
   "source": [
    "migration = aggregated_revenue.groupby('recommendation').agg({'user_id':'count'}).sort_values(by = 'user_id', ascending = False).rename(columns = {'user_id':'count'})\n",
    "migration"
   ]
  },
  {
   "cell_type": "code",
   "execution_count": 62,
   "id": "2cdbde7d",
   "metadata": {},
   "outputs": [
    {
     "name": "stdout",
     "output_type": "stream",
     "text": [
      "Total revenue for all clients: 1811629.70\n",
      "Revenue decrease: 270326.30\n",
      "Revenue decrease percentage: 0.15\n"
     ]
    }
   ],
   "source": [
    "aggregated_revenue['current_tariff_profit'] = aggregated_revenue.apply(current_tariff_profit, axis=1)\n",
    "aggregated_revenue['best_tariff_profit'] = aggregated_revenue.apply(best_tariff_profit, axis=1)\n",
    "print(f\"Total revenue for all clients: {aggregated_revenue['current_tariff_profit'].sum():.2f}\")\n",
    "print(f\"Revenue decrease: {(aggregated_revenue['current_tariff_profit'].sum() - aggregated_revenue['best_tariff_profit'].sum()):.2f}\")\n",
    "print(f\"Revenue decrease percentage: {1 - (aggregated_revenue['best_tariff_profit'].sum() / aggregated_revenue['current_tariff_profit'].sum()):.2f}\")\n"
   ]
  },
  {
   "cell_type": "code",
   "execution_count": 63,
   "id": "f69b486a",
   "metadata": {},
   "outputs": [
    {
     "data": {
      "image/png": "[encoded data removed]",
      "text/plain": [
       "<Figure size 720x576 with 1 Axes>"
      ]
     },
     "metadata": {},
     "output_type": "display_data"
    }
   ],
   "source": [
    "migration.plot(kind='bar')\n",
    "plt.xticks(rotation=0)\n",
    "plt.title('Migration of All Clients')\n",
    "plt.xlabel('Migration')\n",
    "plt.ylabel('Count')\n",
    "plt.show()\n"
   ]
  },
  {
   "cell_type": "markdown",
   "id": "16bd7300",
   "metadata": {},
   "source": [
    "It is evident that most of clients should downlevel to tarriff C."
   ]
  },
  {
   "cell_type": "code",
   "execution_count": 64,
   "id": "d22f3acf",
   "metadata": {},
   "outputs": [
    {
     "data": {
      "text/html": [
       "<div>\n",
       "<style scoped>\n",
       "    .dataframe tbody tr th:only-of-type {\n",
       "        vertical-align: middle;\n",
       "    }\n",
       "\n",
       "    .dataframe tbody tr th {\n",
       "        vertical-align: top;\n",
       "    }\n",
       "\n",
       "    .dataframe thead th {\n",
       "        text-align: right;\n",
       "    }\n",
       "</style>\n",
       "<table border=\"1\" class=\"dataframe\">\n",
       "  <thead>\n",
       "    <tr style=\"text-align: right;\">\n",
       "      <th></th>\n",
       "      <th>count</th>\n",
       "    </tr>\n",
       "    <tr>\n",
       "      <th>recommendation</th>\n",
       "      <th></th>\n",
       "    </tr>\n",
       "  </thead>\n",
       "  <tbody>\n",
       "    <tr>\n",
       "      <th>optimal</th>\n",
       "      <td>63</td>\n",
       "    </tr>\n",
       "    <tr>\n",
       "      <th>down_C</th>\n",
       "      <td>53</td>\n",
       "    </tr>\n",
       "    <tr>\n",
       "      <th>up_B</th>\n",
       "      <td>12</td>\n",
       "    </tr>\n",
       "    <tr>\n",
       "      <th>down_B</th>\n",
       "      <td>5</td>\n",
       "    </tr>\n",
       "    <tr>\n",
       "      <th>up_A</th>\n",
       "      <td>4</td>\n",
       "    </tr>\n",
       "  </tbody>\n",
       "</table>\n",
       "</div>"
      ],
      "text/plain": [
       "                count\n",
       "recommendation       \n",
       "optimal         63   \n",
       "down_C          53   \n",
       "up_B            12   \n",
       "down_B          5    \n",
       "up_A            4    "
      ]
     },
     "execution_count": 64,
     "metadata": {},
     "output_type": "execute_result"
    }
   ],
   "source": [
    "active_aggregated_revenue = aggregated_revenue.query('user_id in @active_clients_list')\n",
    "active_migration = active_aggregated_revenue.groupby('recommendation').agg({'user_id':'count'}).sort_values(by = 'user_id', ascending = False).rename(columns = {'user_id':'count'})\n",
    "active_migration"
   ]
  },
  {
   "cell_type": "code",
   "execution_count": 65,
   "id": "92e71aba",
   "metadata": {},
   "outputs": [
    {
     "data": {
      "image/png": "[encoded data removed]",
      "text/plain": [
       "<Figure size 720x576 with 1 Axes>"
      ]
     },
     "metadata": {},
     "output_type": "display_data"
    }
   ],
   "source": [
    "active_migration.plot(kind='bar')\n",
    "plt.xticks(rotation=0)\n",
    "plt.title('Active Client Migration')\n",
    "plt.xlabel('Migration') \n",
    "plt.ylabel('Quantity')\n",
    "plt.show()\n"
   ]
  },
  {
   "cell_type": "markdown",
   "id": "94ee82fc",
   "metadata": {},
   "source": [
    "For active customers, the transition ratio to tariff C is approximately the same. Let's calculate the decrease in aggregated revenue."
   ]
  },
  {
   "cell_type": "code",
   "execution_count": 66,
   "id": "6c4c8ac3",
   "metadata": {},
   "outputs": [
    {
     "data": {
      "image/png": "[encoded data removed]",
      "text/plain": [
       "<Figure size 720x576 with 1 Axes>"
      ]
     },
     "metadata": {},
     "output_type": "display_data"
    }
   ],
   "source": [
    "migration_all = active_aggregated_revenue.groupby(['tariff_plan','recommendation']).agg({'user_id':'nunique'}).reset_index()\n",
    "ax = sns.barplot(x='tariff_plan', y='user_id', hue='recommendation', data=migration_all)\n",
    "ax.set(title='Customer Migration', xlabel='Tariff Plan', ylabel='Number of Migrating Customers')\n",
    "plt.show()\n"
   ]
  },
  {
   "cell_type": "markdown",
   "id": "1f11c4c9",
   "metadata": {},
   "source": [
    "The largest number of transitions should occur from tariff B to tariff C, while the smallest number of customers should upgrade to tariff A."
   ]
  },
  {
   "cell_type": "markdown",
   "id": "b58546ca",
   "metadata": {},
   "source": [
    "Let's try to find the decrease in revenue for active customers and see if we can reduce the revenue decline by excluding outliers for customers with overly active operators."
   ]
  },
  {
   "cell_type": "code",
   "execution_count": 67,
   "id": "2caec996",
   "metadata": {},
   "outputs": [
    {
     "name": "stdout",
     "output_type": "stream",
     "text": [
      "Total revenue from active customers is: 1258295.60\n",
      "Revenue decline will be: 169583.90\n",
      "Revenue decline percentage: 13.48%\n"
     ]
    }
   ],
   "source": [
    "active_aggregated_revenue['current_tariff_profit'] = active_aggregated_revenue.apply(current_tariff_profit, axis=1)\n",
    "active_aggregated_revenue['best_tariff_profit'] = active_aggregated_revenue.apply(best_tariff_profit, axis=1)\n",
    "print(f\"Total revenue from active customers is: {active_aggregated_revenue['current_tariff_profit'].sum():.2f}\")\n",
    "print(f\"Revenue decline will be: {(active_aggregated_revenue['current_tariff_profit'].sum() - active_aggregated_revenue['best_tariff_profit'].sum()):.2f}\")\n",
    "print(f\"Revenue decline percentage: {100 - (active_aggregated_revenue['best_tariff_profit'].sum() / active_aggregated_revenue['current_tariff_profit'].sum()) * 100:.2f}%\")\n"
   ]
  },
  {
   "cell_type": "code",
   "execution_count": 68,
   "id": "e09fc46c",
   "metadata": {},
   "outputs": [],
   "source": [
    "anomal_operators = anomal_calls['operator_id'].unique()\n",
    "anomal_users = df.query(\"operator_id in @anomal_operators\")['user_id'].unique()\n",
    "normal_active_aggregated_revenue = active_aggregated_revenue.query('user_id not in @anomal_users')\n"
   ]
  },
  {
   "cell_type": "code",
   "execution_count": 69,
   "id": "c2abc533",
   "metadata": {},
   "outputs": [
    {
     "name": "stdout",
     "output_type": "stream",
     "text": [
      "Total revenue from active customers is: 1098052.40\n",
      "Revenue decline will be: 158656.75\n",
      "Revenue decline percentage: 14.45%\n"
     ]
    }
   ],
   "source": [
    "normal_active_aggregated_revenue['current_tariff_profit'] = normal_active_aggregated_revenue.apply(current_tariff_profit, axis=1)\n",
    "normal_active_aggregated_revenue['best_tariff_profit'] = normal_active_aggregated_revenue.apply(best_tariff_profit, axis=1)\n",
    "print(f\"Total revenue from active customers is: {normal_active_aggregated_revenue['current_tariff_profit'].sum():.2f}\")\n",
    "print(f\"Revenue decline will be: {(normal_active_aggregated_revenue['current_tariff_profit'].sum() - normal_active_aggregated_revenue['best_tariff_profit'].sum()):.2f}\")\n",
    "print(f\"Revenue decline percentage: {100 - (normal_active_aggregated_revenue['best_tariff_profit'].sum() / normal_active_aggregated_revenue['current_tariff_profit'].sum()) * 100:.2f}%\")\n"
   ]
  },
  {
   "cell_type": "markdown",
   "id": "7d27554a",
   "metadata": {},
   "source": [
    "When attempting to remove outliers, we decreased the total revenue amount and the revenue decline in absolute terms. However, in percentage terms, the revenue decline became larger. Therefore, in order to determine the method of reducing revenue, we will need to investigate the outliers and study their nature."
   ]
  },
  {
   "cell_type": "code",
   "execution_count": 70,
   "id": "d8b50f7d",
   "metadata": {},
   "outputs": [
    {
     "data": {
      "text/html": [
       "<div>\n",
       "<style scoped>\n",
       "    .dataframe tbody tr th:only-of-type {\n",
       "        vertical-align: middle;\n",
       "    }\n",
       "\n",
       "    .dataframe tbody tr th {\n",
       "        vertical-align: top;\n",
       "    }\n",
       "\n",
       "    .dataframe thead th {\n",
       "        text-align: right;\n",
       "    }\n",
       "</style>\n",
       "<table border=\"1\" class=\"dataframe\">\n",
       "  <thead>\n",
       "    <tr style=\"text-align: right;\">\n",
       "      <th></th>\n",
       "      <th>user_id</th>\n",
       "      <th>tariff_plan</th>\n",
       "      <th>tariff_A</th>\n",
       "      <th>tariff_B</th>\n",
       "      <th>tariff_C</th>\n",
       "      <th>best_tariff_plan</th>\n",
       "      <th>current_tariff_profit</th>\n",
       "      <th>best_tariff_profit</th>\n",
       "    </tr>\n",
       "  </thead>\n",
       "  <tbody>\n",
       "    <tr>\n",
       "      <th>0</th>\n",
       "      <td>166377</td>\n",
       "      <td>B</td>\n",
       "      <td>4732.066667</td>\n",
       "      <td>3691.700000</td>\n",
       "      <td>4018.000000</td>\n",
       "      <td>B</td>\n",
       "      <td>3691.700000</td>\n",
       "      <td>3691.700000</td>\n",
       "    </tr>\n",
       "    <tr>\n",
       "      <th>1</th>\n",
       "      <td>166391</td>\n",
       "      <td>C</td>\n",
       "      <td>4050.000000</td>\n",
       "      <td>2150.000000</td>\n",
       "      <td>1300.000000</td>\n",
       "      <td>C</td>\n",
       "      <td>1300.000000</td>\n",
       "      <td>1300.000000</td>\n",
       "    </tr>\n",
       "    <tr>\n",
       "      <th>2</th>\n",
       "      <td>166392</td>\n",
       "      <td>C</td>\n",
       "      <td>4100.000000</td>\n",
       "      <td>2300.000000</td>\n",
       "      <td>1600.000000</td>\n",
       "      <td>C</td>\n",
       "      <td>1600.000000</td>\n",
       "      <td>1600.000000</td>\n",
       "    </tr>\n",
       "    <tr>\n",
       "      <th>3</th>\n",
       "      <td>166399</td>\n",
       "      <td>C</td>\n",
       "      <td>4050.000000</td>\n",
       "      <td>2150.000000</td>\n",
       "      <td>1300.000000</td>\n",
       "      <td>C</td>\n",
       "      <td>1300.000000</td>\n",
       "      <td>1300.000000</td>\n",
       "    </tr>\n",
       "    <tr>\n",
       "      <th>4</th>\n",
       "      <td>166405</td>\n",
       "      <td>B</td>\n",
       "      <td>6213.733333</td>\n",
       "      <td>6351.483333</td>\n",
       "      <td>8317.666667</td>\n",
       "      <td>A</td>\n",
       "      <td>6351.483333</td>\n",
       "      <td>6213.733333</td>\n",
       "    </tr>\n",
       "    <tr>\n",
       "      <th>...</th>\n",
       "      <td>...</td>\n",
       "      <td>...</td>\n",
       "      <td>...</td>\n",
       "      <td>...</td>\n",
       "      <td>...</td>\n",
       "      <td>...</td>\n",
       "      <td>...</td>\n",
       "      <td>...</td>\n",
       "    </tr>\n",
       "    <tr>\n",
       "      <th>281</th>\n",
       "      <td>168583</td>\n",
       "      <td>B</td>\n",
       "      <td>4075.000000</td>\n",
       "      <td>2225.000000</td>\n",
       "      <td>1450.000000</td>\n",
       "      <td>C</td>\n",
       "      <td>2225.000000</td>\n",
       "      <td>1450.000000</td>\n",
       "    </tr>\n",
       "    <tr>\n",
       "      <th>282</th>\n",
       "      <td>168598</td>\n",
       "      <td>C</td>\n",
       "      <td>4050.000000</td>\n",
       "      <td>2150.000000</td>\n",
       "      <td>1300.000000</td>\n",
       "      <td>C</td>\n",
       "      <td>1300.000000</td>\n",
       "      <td>1300.000000</td>\n",
       "    </tr>\n",
       "    <tr>\n",
       "      <th>283</th>\n",
       "      <td>168601</td>\n",
       "      <td>C</td>\n",
       "      <td>4271.600000</td>\n",
       "      <td>2596.800000</td>\n",
       "      <td>2172.000000</td>\n",
       "      <td>C</td>\n",
       "      <td>2172.000000</td>\n",
       "      <td>2172.000000</td>\n",
       "    </tr>\n",
       "    <tr>\n",
       "      <th>284</th>\n",
       "      <td>168603</td>\n",
       "      <td>B</td>\n",
       "      <td>4056.900000</td>\n",
       "      <td>2161.500000</td>\n",
       "      <td>1323.000000</td>\n",
       "      <td>C</td>\n",
       "      <td>2161.500000</td>\n",
       "      <td>1323.000000</td>\n",
       "    </tr>\n",
       "    <tr>\n",
       "      <th>285</th>\n",
       "      <td>168606</td>\n",
       "      <td>C</td>\n",
       "      <td>4055.100000</td>\n",
       "      <td>2158.500000</td>\n",
       "      <td>1317.000000</td>\n",
       "      <td>C</td>\n",
       "      <td>1317.000000</td>\n",
       "      <td>1317.000000</td>\n",
       "    </tr>\n",
       "  </tbody>\n",
       "</table>\n",
       "<p>286 rows × 8 columns</p>\n",
       "</div>"
      ],
      "text/plain": [
       "     user_id tariff_plan     tariff_A     tariff_B     tariff_C  \\\n",
       "0    166377   B           4732.066667  3691.700000  4018.000000   \n",
       "1    166391   C           4050.000000  2150.000000  1300.000000   \n",
       "2    166392   C           4100.000000  2300.000000  1600.000000   \n",
       "3    166399   C           4050.000000  2150.000000  1300.000000   \n",
       "4    166405   B           6213.733333  6351.483333  8317.666667   \n",
       "..      ...  ..                   ...          ...          ...   \n",
       "281  168583   B           4075.000000  2225.000000  1450.000000   \n",
       "282  168598   C           4050.000000  2150.000000  1300.000000   \n",
       "283  168601   C           4271.600000  2596.800000  2172.000000   \n",
       "284  168603   B           4056.900000  2161.500000  1323.000000   \n",
       "285  168606   C           4055.100000  2158.500000  1317.000000   \n",
       "\n",
       "    best_tariff_plan  current_tariff_profit  best_tariff_profit  \n",
       "0    B                3691.700000            3691.700000         \n",
       "1    C                1300.000000            1300.000000         \n",
       "2    C                1600.000000            1600.000000         \n",
       "3    C                1300.000000            1300.000000         \n",
       "4    A                6351.483333            6213.733333         \n",
       "..  ..                        ...                    ...         \n",
       "281  C                2225.000000            1450.000000         \n",
       "282  C                1300.000000            1300.000000         \n",
       "283  C                2172.000000            2172.000000         \n",
       "284  C                2161.500000            1323.000000         \n",
       "285  C                1317.000000            1317.000000         \n",
       "\n",
       "[286 rows x 8 columns]"
      ]
     },
     "execution_count": 70,
     "metadata": {},
     "output_type": "execute_result"
    }
   ],
   "source": [
    "aggregated_revenue_mean = revenue_df.groupby(['user_id','tariff_plan']).agg({'tariff_A':'mean',\n",
    "                                                  'tariff_B':'mean',\n",
    "                                                  'tariff_C':'mean'}).reset_index()\n",
    "aggregated_revenue_mean['best_tariff_plan'] = aggregated_revenue_mean[['tariff_A', 'tariff_B', 'tariff_C']].idxmin(axis=1)\n",
    "\n",
    "aggregated_revenue_mean['best_tariff_plan'] = aggregated_revenue_mean['best_tariff_plan'].replace('tariff_A', 'A')\n",
    "aggregated_revenue_mean['best_tariff_plan'] = aggregated_revenue_mean['best_tariff_plan'].replace('tariff_B', 'B')\n",
    "aggregated_revenue_mean['best_tariff_plan'] = aggregated_revenue_mean['best_tariff_plan'].replace('tariff_C', 'C')\n",
    "aggregated_revenue_mean['current_tariff_profit'] = aggregated_revenue_mean.apply(current_tariff_profit, axis = 1)\n",
    "aggregated_revenue_mean['best_tariff_profit'] = aggregated_revenue_mean.apply(best_tariff_profit, axis = 1)\n",
    "aggregated_revenue_mean"
   ]
  },
  {
   "cell_type": "code",
   "execution_count": 71,
   "id": "327a351c",
   "metadata": {},
   "outputs": [
    {
     "data": {
      "image/png": "[encoded data removed]",
      "text/plain": [
       "<Figure size 421.05x360 with 1 Axes>"
      ]
     },
     "metadata": {},
     "output_type": "display_data"
    }
   ],
   "source": [
    "sns.displot(data=aggregated_revenue_mean, x='current_tariff_profit', hue='tariff_plan', kde=True).set(\n",
    "    title='Average Check on Current Tariffs',\n",
    "    ylabel='Quantity',\n",
    "    xlabel='Amount'\n",
    ");\n"
   ]
  },
  {
   "cell_type": "code",
   "execution_count": 72,
   "id": "2e12e9e7",
   "metadata": {},
   "outputs": [
    {
     "data": {
      "image/png": "[encoded data removed]",
      "text/plain": [
       "<Figure size 450.425x360 with 1 Axes>"
      ]
     },
     "metadata": {},
     "output_type": "display_data"
    }
   ],
   "source": [
    "sns.displot(data=aggregated_revenue_mean, x='best_tariff_profit', hue='best_tariff_plan', kde=True).set(\n",
    "    title='Average Check on Optimal Tariffs',\n",
    "    ylabel='Quantity',\n",
    "    xlabel='Amount'\n",
    ");\n"
   ]
  },
  {
   "cell_type": "markdown",
   "id": "defbf0fd",
   "metadata": {},
   "source": [
    "\n",
    "It can be seen how the main revenue will affect the decrease in the average check and the increase in the number of customers on tariff C, as well as reduce the number of customers on tariffs A and B, but increase their average check."
   ]
  },
  {
   "cell_type": "code",
   "execution_count": 73,
   "id": "00abec46",
   "metadata": {},
   "outputs": [],
   "source": [
    "mean_tariffs_revenue = aggregated_revenue_mean.groupby('tariff_plan').agg({'current_tariff_profit':'mean',\n",
    "                                                                           'user_id':'count'}).rename(columns = {'user_id':'current_users'}).reset_index()"
   ]
  },
  {
   "cell_type": "code",
   "execution_count": 74,
   "id": "d40df97e",
   "metadata": {},
   "outputs": [
    {
     "data": {
      "text/html": [
       "<div>\n",
       "<style scoped>\n",
       "    .dataframe tbody tr th:only-of-type {\n",
       "        vertical-align: middle;\n",
       "    }\n",
       "\n",
       "    .dataframe tbody tr th {\n",
       "        vertical-align: top;\n",
       "    }\n",
       "\n",
       "    .dataframe thead th {\n",
       "        text-align: right;\n",
       "    }\n",
       "</style>\n",
       "<table border=\"1\" class=\"dataframe\">\n",
       "  <thead>\n",
       "    <tr style=\"text-align: right;\">\n",
       "      <th></th>\n",
       "      <th>tariff_plan</th>\n",
       "      <th>current_tariff_profit</th>\n",
       "      <th>current_users</th>\n",
       "      <th>best_tariff_profit</th>\n",
       "      <th>best_tariff_users</th>\n",
       "    </tr>\n",
       "  </thead>\n",
       "  <tbody>\n",
       "    <tr>\n",
       "      <th>0</th>\n",
       "      <td>A</td>\n",
       "      <td>6529.144086</td>\n",
       "      <td>31</td>\n",
       "      <td>10355.271111</td>\n",
       "      <td>15</td>\n",
       "    </tr>\n",
       "    <tr>\n",
       "      <th>1</th>\n",
       "      <td>B</td>\n",
       "      <td>2783.740167</td>\n",
       "      <td>100</td>\n",
       "      <td>3828.236559</td>\n",
       "      <td>31</td>\n",
       "    </tr>\n",
       "    <tr>\n",
       "      <th>2</th>\n",
       "      <td>C</td>\n",
       "      <td>2090.631183</td>\n",
       "      <td>155</td>\n",
       "      <td>1697.956250</td>\n",
       "      <td>240</td>\n",
       "    </tr>\n",
       "  </tbody>\n",
       "</table>\n",
       "</div>"
      ],
      "text/plain": [
       "  tariff_plan  current_tariff_profit  current_users  best_tariff_profit  \\\n",
       "0  A           6529.144086            31             10355.271111         \n",
       "1  B           2783.740167            100            3828.236559          \n",
       "2  C           2090.631183            155            1697.956250          \n",
       "\n",
       "   best_tariff_users  \n",
       "0  15                 \n",
       "1  31                 \n",
       "2  240                "
      ]
     },
     "execution_count": 74,
     "metadata": {},
     "output_type": "execute_result"
    }
   ],
   "source": [
    "mean_tariffs_revenue = mean_tariffs_revenue.merge(aggregated_revenue_mean.groupby('best_tariff_plan').agg({'best_tariff_profit':'mean',\n",
    "                                                                           'user_id':'count'}).reset_index().rename(columns = {'best_tariff_plan':'tariff_plan','user_id':'best_tariff_users'}), on = 'tariff_plan') \n",
    "mean_tariffs_revenue"
   ]
  },
  {
   "cell_type": "markdown",
   "id": "638ff5be",
   "metadata": {},
   "source": [
    "## Statistical data analysis"
   ]
  },
  {
   "cell_type": "markdown",
   "id": "14d925b4",
   "metadata": {},
   "source": [
    "### Hypothesis №1\n",
    "\n",
    "**Null Hypothesis:** The revenue of active and inactive customers does not differ.\n",
    "\n",
    "**Alternative Hypothesis:** The revenue of active and inactive customers differs.\n",
    "\n",
    "The significance level (alpha) is set at five percent, 0.05.\n"
   ]
  },
  {
   "cell_type": "code",
   "execution_count": 75,
   "id": "0e9efc06",
   "metadata": {},
   "outputs": [],
   "source": [
    "unactive_clients_revenue = aggregated_revenue.query('user_id not in @active_clients_list')['current_tariff_profit']\n",
    "active_clients_revenue = aggregated_revenue.query('user_id in @active_clients_list')['current_tariff_profit']"
   ]
  },
  {
   "cell_type": "code",
   "execution_count": 76,
   "id": "7c01b1d0",
   "metadata": {},
   "outputs": [
    {
     "data": {
      "text/plain": [
       "count    149.000000  \n",
       "mean     3713.651678 \n",
       "std      2459.642382 \n",
       "min      1300.000000 \n",
       "25%      2198.000000 \n",
       "50%      2900.000000 \n",
       "75%      4457.500000 \n",
       "max      16134.400000\n",
       "Name: current_tariff_profit, dtype: float64"
      ]
     },
     "execution_count": 76,
     "metadata": {},
     "output_type": "execute_result"
    }
   ],
   "source": [
    "unactive_clients_revenue.describe()"
   ]
  },
  {
   "cell_type": "code",
   "execution_count": 77,
   "id": "c69d3dd3",
   "metadata": {},
   "outputs": [
    {
     "data": {
      "text/plain": [
       "count    137.000000  \n",
       "mean     9184.639416 \n",
       "std      8631.063572 \n",
       "min      2994.000000 \n",
       "25%      4929.500000 \n",
       "50%      6987.000000 \n",
       "75%      10336.000000\n",
       "max      76420.800000\n",
       "Name: current_tariff_profit, dtype: float64"
      ]
     },
     "execution_count": 77,
     "metadata": {},
     "output_type": "execute_result"
    }
   ],
   "source": [
    "active_clients_revenue.describe()"
   ]
  },
  {
   "cell_type": "code",
   "execution_count": 78,
   "id": "68f75142",
   "metadata": {},
   "outputs": [
    {
     "data": {
      "image/png": "[encoded data removed]",
      "text/plain": [
       "<Figure size 720x576 with 1 Axes>"
      ]
     },
     "metadata": {},
     "output_type": "display_data"
    }
   ],
   "source": [
    "sns.distplot(active_clients_revenue, kde=True)\n",
    "sns.distplot(unactive_clients_revenue, kde=True).set(\n",
    "    title='Distribution of Revenue between Active and Inactive Clients',\n",
    "    ylabel='Quantity',\n",
    "    xlabel='Amount'\n",
    ");\n"
   ]
  },
  {
   "cell_type": "markdown",
   "id": "72774928",
   "metadata": {},
   "source": [
    "The values of the samples are normally distributed"
   ]
  },
  {
   "cell_type": "code",
   "execution_count": 79,
   "id": "fa84a285",
   "metadata": {},
   "outputs": [
    {
     "name": "stdout",
     "output_type": "stream",
     "text": [
      "p-value: 1.3832482247030934e-12\n",
      "We reject the null hypothesis.\n"
     ]
    }
   ],
   "source": [
    "alpha = 0.05\n",
    "\n",
    "results = st.ttest_ind(\n",
    "    unactive_clients_revenue, \n",
    "    active_clients_revenue)\n",
    "\n",
    "print('p-value:', results.pvalue)\n",
    "\n",
    "if (results.pvalue < alpha):\n",
    "    print(\"We reject the null hypothesis.\")\n",
    "else:\n",
    "    print(\"We fail to reject the null hypothesis.\")\n"
   ]
  },
  {
   "cell_type": "markdown",
   "id": "5bb3b4c1",
   "metadata": {},
   "source": [
    "The current revenue of active and inactive clients differs. We reject the null hypothesis in favor of the alternative."
   ]
  },
  {
   "cell_type": "markdown",
   "id": "f3776162",
   "metadata": {},
   "source": [
    "### Hypothesis №2\n",
    "**Null hypothesis**: The revenue of customers on tariff A and B does not differ\n",
    "\n",
    "**Alternative hypothesis:** The revenue of customers on tariff A and B differs.\n",
    "\n",
    "The significance level (alpha) is set at five percent, which is equivalent to 0.05.\n"
   ]
  },
  {
   "cell_type": "code",
   "execution_count": 80,
   "id": "dc4cf02e",
   "metadata": {},
   "outputs": [],
   "source": [
    "tariff_A_revenue = aggregated_revenue.query('tariff_plan == \"A\"')['current_tariff_profit']\n",
    "tariff_B_revenue = aggregated_revenue.query('tariff_plan == \"B\"')['current_tariff_profit']"
   ]
  },
  {
   "cell_type": "code",
   "execution_count": 81,
   "id": "9f87efe4",
   "metadata": {},
   "outputs": [
    {
     "data": {
      "text/plain": [
       "count    31.000000   \n",
       "mean     15148.464516\n",
       "std      14595.233670\n",
       "min      4050.000000 \n",
       "25%      8621.300000 \n",
       "50%      12450.000000\n",
       "75%      13718.900000\n",
       "max      76420.800000\n",
       "Name: current_tariff_profit, dtype: float64"
      ]
     },
     "execution_count": 81,
     "metadata": {},
     "output_type": "execute_result"
    }
   ],
   "source": [
    "tariff_A_revenue.describe()"
   ]
  },
  {
   "cell_type": "code",
   "execution_count": 82,
   "id": "dc53eb2c",
   "metadata": {},
   "outputs": [
    {
     "data": {
      "text/plain": [
       "count    100.00000  \n",
       "mean     6333.83300 \n",
       "std      3950.66782 \n",
       "min      2150.00000 \n",
       "25%      4341.25000 \n",
       "50%      6450.75000 \n",
       "75%      7582.36250 \n",
       "max      33014.15000\n",
       "Name: current_tariff_profit, dtype: float64"
      ]
     },
     "execution_count": 82,
     "metadata": {},
     "output_type": "execute_result"
    }
   ],
   "source": [
    "tariff_B_revenue.describe()"
   ]
  },
  {
   "cell_type": "code",
   "execution_count": 83,
   "id": "bce86227",
   "metadata": {},
   "outputs": [
    {
     "data": {
      "image/png": "[encoded data removed]",
      "text/plain": [
       "<Figure size 720x576 with 1 Axes>"
      ]
     },
     "metadata": {},
     "output_type": "display_data"
    }
   ],
   "source": [
    "sns.distplot(tariff_A_revenue, kde=True)\n",
    "sns.distplot(tariff_B_revenue, kde=True).set(\n",
    "    title='Distribution of Revenue by Tariffs',\n",
    "    ylabel='Quantity',\n",
    "    xlabel='Amount'\n",
    ");\n"
   ]
  },
  {
   "cell_type": "markdown",
   "id": "ee162921",
   "metadata": {},
   "source": [
    "Values of samples are normally distributed"
   ]
  },
  {
   "cell_type": "code",
   "execution_count": 84,
   "id": "c6a88b32",
   "metadata": {},
   "outputs": [
    {
     "name": "stdout",
     "output_type": "stream",
     "text": [
      "p-value: 2.2800567670735054e-07\n",
      "We reject the null hypothesis.\n"
     ]
    }
   ],
   "source": [
    "alpha = 0.05\n",
    "\n",
    "results = st.ttest_ind(\n",
    "    tariff_A_revenue, \n",
    "    tariff_B_revenue)\n",
    "\n",
    "print('p-value:', results.pvalue)\n",
    "\n",
    "if (results.pvalue < alpha):\n",
    "    print(\"We reject the null hypothesis.\")\n",
    "else:\n",
    "    print(\"We fail to reject the null hypothesis.\")\n"
   ]
  },
  {
   "cell_type": "markdown",
   "id": "e98db069",
   "metadata": {},
   "source": [
    "The current average revenue of customers on tariff A and B differs. We reject the null hypothesis in favor of the alternative"
   ]
  },
  {
   "cell_type": "markdown",
   "id": "3ab9f18a",
   "metadata": {},
   "source": [
    "# Conclusion"
   ]
  },
  {
   "cell_type": "markdown",
   "id": "91df6866",
   "metadata": {},
   "source": [
    "### 1. Research Process\n",
    "For the analysis, two datasets were provided - one containing call records and the other with customer data. During the research process, data preprocessing was conducted, outliers were identified, all possible tariffs for each subscriber were calculated, optimal tariffs were determined, and potential migration and revenue decline were analyzed.\n",
    "\n",
    "### 2. Calculation of Total Revenue\n",
    "The total revenue from all customers is 1,811,629.70 rubles, and the revenue decline upon migration is 270,326.30 rubles.\n",
    "\n",
    "Revenue decline percentage: 0.15\n",
    "\n",
    "### 3. Calculation of Revenue from Active Customers\n",
    "The total revenue from active customers is 1,098,052.40 rubles, and the revenue decline upon migration is 158,656.75 rubles.\n",
    "\n",
    "Revenue decline percentage: 0.14\n",
    "\n",
    "### 4. Customer Migration\n",
    "Out of 66 active customers on their current tariffs, 55 will transition to tariff C with a downgrade, 13 will upgrade to tariff B, 5 will downgrade to tariff B, and 3 will upgrade to tariff A. The most popular tariff for migration is C.\n",
    "\n",
    "### 5. Revenue Loss Minimization Options\n",
    "Revenue loss upon migration to optimal tariffs is inevitable, but before providing recommendations, it is necessary to address the issue of abnormally active operators who made numerous calls per day. If their data is excluded from the billing, they should be removed.\n",
    "\n",
    "### 6. Average Checks Before and After Migration\n",
    "Upon migration to tariffs A and B, the average checks increase, but the number of subscribers decreases, while on tariff C, it is the opposite.\n",
    "\n",
    "**Before migration, the average checks are as follows:**\n",
    "- Tariff A: Average check - 6,529.14 rubles, Number of users - 31\n",
    "- Tariff B: Average check - 2,783.74 rubles, Number of users - 100\n",
    "- Tariff C: Average check - 2,090.63 rubles, Number of users - 155\n",
    "\n",
    "**After migration, the situation changes:**\n",
    "- Tariff A: Average check - 10,355.27 rubles, Number of users - 15\n",
    "- Tariff B: Average check - 3,828.23 rubles, Number of users - 31\n",
    "- Tariff C: Average check - 1,697.95 rubles, Number of users - 240\n",
    "\n",
    "### 7. Statistical Analysis\n",
    "During the statistical analysis, it was determined that the revenue of active and inactive customers differs, as well as the revenue between customers on tariffs A and B.\n",
    "\n"
   ]
  }
 ],
 "metadata": {
  "ExecuteTimeLog": [
   {
    "duration": 1300,
    "start_time": "2023-02-06T07:34:20.044Z"
   },
   {
    "duration": 159,
    "start_time": "2023-02-06T07:34:21.346Z"
   },
   {
    "duration": 0,
    "start_time": "2023-02-06T07:34:21.509Z"
   },
   {
    "duration": 0,
    "start_time": "2023-02-06T07:34:21.510Z"
   },
   {
    "duration": 0,
    "start_time": "2023-02-06T07:34:21.511Z"
   },
   {
    "duration": 0,
    "start_time": "2023-02-06T07:34:21.512Z"
   },
   {
    "duration": 0,
    "start_time": "2023-02-06T07:34:21.514Z"
   },
   {
    "duration": 0,
    "start_time": "2023-02-06T07:34:21.515Z"
   },
   {
    "duration": 0,
    "start_time": "2023-02-06T07:34:21.516Z"
   },
   {
    "duration": 0,
    "start_time": "2023-02-06T07:34:21.517Z"
   },
   {
    "duration": 0,
    "start_time": "2023-02-06T07:34:21.518Z"
   },
   {
    "duration": 0,
    "start_time": "2023-02-06T07:34:21.519Z"
   },
   {
    "duration": 0,
    "start_time": "2023-02-06T07:34:21.543Z"
   },
   {
    "duration": 0,
    "start_time": "2023-02-06T07:34:21.545Z"
   },
   {
    "duration": 0,
    "start_time": "2023-02-06T07:34:21.545Z"
   },
   {
    "duration": 0,
    "start_time": "2023-02-06T07:34:21.546Z"
   },
   {
    "duration": 0,
    "start_time": "2023-02-06T07:34:21.547Z"
   },
   {
    "duration": 0,
    "start_time": "2023-02-06T07:34:21.549Z"
   },
   {
    "duration": 0,
    "start_time": "2023-02-06T07:34:21.550Z"
   },
   {
    "duration": 0,
    "start_time": "2023-02-06T07:34:21.551Z"
   },
   {
    "duration": 0,
    "start_time": "2023-02-06T07:34:21.552Z"
   },
   {
    "duration": 0,
    "start_time": "2023-02-06T07:34:21.553Z"
   },
   {
    "duration": 0,
    "start_time": "2023-02-06T07:34:21.554Z"
   },
   {
    "duration": 0,
    "start_time": "2023-02-06T07:34:21.556Z"
   },
   {
    "duration": 0,
    "start_time": "2023-02-06T07:34:21.556Z"
   },
   {
    "duration": 0,
    "start_time": "2023-02-06T07:34:21.557Z"
   },
   {
    "duration": 0,
    "start_time": "2023-02-06T07:34:21.558Z"
   },
   {
    "duration": 0,
    "start_time": "2023-02-06T07:34:21.559Z"
   },
   {
    "duration": 0,
    "start_time": "2023-02-06T07:34:21.560Z"
   },
   {
    "duration": 0,
    "start_time": "2023-02-06T07:34:21.561Z"
   },
   {
    "duration": 0,
    "start_time": "2023-02-06T07:34:21.562Z"
   },
   {
    "duration": 0,
    "start_time": "2023-02-06T07:34:21.563Z"
   },
   {
    "duration": 0,
    "start_time": "2023-02-06T07:34:21.564Z"
   },
   {
    "duration": 0,
    "start_time": "2023-02-06T07:34:21.566Z"
   },
   {
    "duration": 0,
    "start_time": "2023-02-06T07:34:21.567Z"
   },
   {
    "duration": 0,
    "start_time": "2023-02-06T07:34:21.568Z"
   },
   {
    "duration": 0,
    "start_time": "2023-02-06T07:34:21.569Z"
   },
   {
    "duration": 0,
    "start_time": "2023-02-06T07:34:21.570Z"
   },
   {
    "duration": 0,
    "start_time": "2023-02-06T07:34:21.571Z"
   },
   {
    "duration": 0,
    "start_time": "2023-02-06T07:34:21.574Z"
   },
   {
    "duration": 0,
    "start_time": "2023-02-06T07:34:21.576Z"
   },
   {
    "duration": 0,
    "start_time": "2023-02-06T07:34:21.577Z"
   },
   {
    "duration": 0,
    "start_time": "2023-02-06T07:34:21.579Z"
   },
   {
    "duration": 0,
    "start_time": "2023-02-06T07:34:21.580Z"
   },
   {
    "duration": 0,
    "start_time": "2023-02-06T07:34:21.581Z"
   },
   {
    "duration": 0,
    "start_time": "2023-02-06T07:34:21.644Z"
   },
   {
    "duration": 0,
    "start_time": "2023-02-06T07:34:21.646Z"
   },
   {
    "duration": 0,
    "start_time": "2023-02-06T07:34:21.647Z"
   },
   {
    "duration": 0,
    "start_time": "2023-02-06T07:34:21.649Z"
   },
   {
    "duration": 0,
    "start_time": "2023-02-06T07:34:21.651Z"
   },
   {
    "duration": 0,
    "start_time": "2023-02-06T07:34:21.653Z"
   },
   {
    "duration": 0,
    "start_time": "2023-02-06T07:34:21.654Z"
   },
   {
    "duration": 0,
    "start_time": "2023-02-06T07:34:21.655Z"
   },
   {
    "duration": 0,
    "start_time": "2023-02-06T07:34:21.657Z"
   },
   {
    "duration": 0,
    "start_time": "2023-02-06T07:34:21.659Z"
   },
   {
    "duration": 0,
    "start_time": "2023-02-06T07:34:21.660Z"
   },
   {
    "duration": 0,
    "start_time": "2023-02-06T07:34:21.662Z"
   },
   {
    "duration": 0,
    "start_time": "2023-02-06T07:34:21.664Z"
   },
   {
    "duration": 0,
    "start_time": "2023-02-06T07:34:21.665Z"
   },
   {
    "duration": 0,
    "start_time": "2023-02-06T07:34:21.669Z"
   },
   {
    "duration": 0,
    "start_time": "2023-02-06T07:34:21.670Z"
   },
   {
    "duration": 0,
    "start_time": "2023-02-06T07:34:21.671Z"
   },
   {
    "duration": 0,
    "start_time": "2023-02-06T07:34:21.672Z"
   },
   {
    "duration": 0,
    "start_time": "2023-02-06T07:34:21.674Z"
   },
   {
    "duration": 0,
    "start_time": "2023-02-06T07:34:21.676Z"
   },
   {
    "duration": 0,
    "start_time": "2023-02-06T07:34:21.678Z"
   },
   {
    "duration": 0,
    "start_time": "2023-02-06T07:34:21.680Z"
   },
   {
    "duration": 395,
    "start_time": "2023-02-06T07:36:40.450Z"
   },
   {
    "duration": 1325,
    "start_time": "2023-02-06T08:54:24.009Z"
   },
   {
    "duration": 98,
    "start_time": "2023-02-06T08:54:25.336Z"
   },
   {
    "duration": 2,
    "start_time": "2023-02-06T08:54:25.441Z"
   },
   {
    "duration": 19,
    "start_time": "2023-02-06T08:54:25.446Z"
   },
   {
    "duration": 16,
    "start_time": "2023-02-06T08:54:25.466Z"
   },
   {
    "duration": 18,
    "start_time": "2023-02-06T08:54:25.483Z"
   },
   {
    "duration": 5,
    "start_time": "2023-02-06T08:54:25.503Z"
   },
   {
    "duration": 5,
    "start_time": "2023-02-06T08:54:25.509Z"
   },
   {
    "duration": 42,
    "start_time": "2023-02-06T08:54:25.515Z"
   },
   {
    "duration": 6,
    "start_time": "2023-02-06T08:54:25.559Z"
   },
   {
    "duration": 13,
    "start_time": "2023-02-06T08:54:25.567Z"
   },
   {
    "duration": 8,
    "start_time": "2023-02-06T08:54:25.582Z"
   },
   {
    "duration": 61,
    "start_time": "2023-02-06T08:54:25.591Z"
   },
   {
    "duration": 6,
    "start_time": "2023-02-06T08:54:25.653Z"
   },
   {
    "duration": 40,
    "start_time": "2023-02-06T08:54:25.661Z"
   },
   {
    "duration": 181,
    "start_time": "2023-02-06T08:54:25.703Z"
   },
   {
    "duration": 115,
    "start_time": "2023-02-06T08:54:25.885Z"
   },
   {
    "duration": 753,
    "start_time": "2023-02-06T08:54:26.001Z"
   },
   {
    "duration": 18,
    "start_time": "2023-02-06T08:54:26.756Z"
   },
   {
    "duration": 15,
    "start_time": "2023-02-06T08:54:26.776Z"
   },
   {
    "duration": 24,
    "start_time": "2023-02-06T08:54:26.793Z"
   },
   {
    "duration": 31,
    "start_time": "2023-02-06T08:54:26.819Z"
   },
   {
    "duration": 10,
    "start_time": "2023-02-06T08:54:26.851Z"
   },
   {
    "duration": 25,
    "start_time": "2023-02-06T08:54:26.862Z"
   },
   {
    "duration": 18,
    "start_time": "2023-02-06T08:54:26.889Z"
   },
   {
    "duration": 8,
    "start_time": "2023-02-06T08:54:26.909Z"
   },
   {
    "duration": 7,
    "start_time": "2023-02-06T08:54:26.919Z"
   },
   {
    "duration": 19,
    "start_time": "2023-02-06T08:54:26.930Z"
   },
   {
    "duration": 21,
    "start_time": "2023-02-06T08:54:26.950Z"
   },
   {
    "duration": 129,
    "start_time": "2023-02-06T08:54:26.972Z"
   },
   {
    "duration": 182,
    "start_time": "2023-02-06T08:54:27.103Z"
   },
   {
    "duration": 12,
    "start_time": "2023-02-06T08:54:27.287Z"
   },
   {
    "duration": 32,
    "start_time": "2023-02-06T08:54:27.301Z"
   },
   {
    "duration": 139,
    "start_time": "2023-02-06T08:54:27.335Z"
   },
   {
    "duration": 11,
    "start_time": "2023-02-06T08:54:27.476Z"
   },
   {
    "duration": 34,
    "start_time": "2023-02-06T08:54:27.490Z"
   },
   {
    "duration": 31,
    "start_time": "2023-02-06T08:54:27.526Z"
   },
   {
    "duration": 142,
    "start_time": "2023-02-06T08:54:27.558Z"
   },
   {
    "duration": 15,
    "start_time": "2023-02-06T08:54:27.702Z"
   },
   {
    "duration": 24,
    "start_time": "2023-02-06T08:54:27.718Z"
   },
   {
    "duration": 19,
    "start_time": "2023-02-06T08:54:27.744Z"
   },
   {
    "duration": 17,
    "start_time": "2023-02-06T08:54:27.764Z"
   },
   {
    "duration": 24,
    "start_time": "2023-02-06T08:54:27.782Z"
   },
   {
    "duration": 41,
    "start_time": "2023-02-06T08:54:27.807Z"
   },
   {
    "duration": 7,
    "start_time": "2023-02-06T08:54:27.849Z"
   },
   {
    "duration": 10,
    "start_time": "2023-02-06T08:54:27.858Z"
   },
   {
    "duration": 235,
    "start_time": "2023-02-06T08:54:27.870Z"
   },
   {
    "duration": 4,
    "start_time": "2023-02-06T08:54:28.107Z"
   },
   {
    "duration": 13,
    "start_time": "2023-02-06T08:54:28.113Z"
   },
   {
    "duration": 234,
    "start_time": "2023-02-06T08:54:28.128Z"
   },
   {
    "duration": 6,
    "start_time": "2023-02-06T08:54:28.364Z"
   },
   {
    "duration": 155,
    "start_time": "2023-02-06T08:54:28.371Z"
   },
   {
    "duration": 142,
    "start_time": "2023-02-06T08:54:28.528Z"
   },
   {
    "duration": 24,
    "start_time": "2023-02-06T08:54:28.672Z"
   },
   {
    "duration": 4,
    "start_time": "2023-02-06T08:54:28.697Z"
   },
   {
    "duration": 20,
    "start_time": "2023-02-06T08:54:28.702Z"
   },
   {
    "duration": 9,
    "start_time": "2023-02-06T08:54:28.744Z"
   },
   {
    "duration": 17,
    "start_time": "2023-02-06T08:54:28.754Z"
   },
   {
    "duration": 165,
    "start_time": "2023-02-06T08:54:28.773Z"
   },
   {
    "duration": 11,
    "start_time": "2023-02-06T08:54:28.943Z"
   },
   {
    "duration": 182,
    "start_time": "2023-02-06T08:54:28.956Z"
   },
   {
    "duration": 240,
    "start_time": "2023-02-06T08:54:29.144Z"
   },
   {
    "duration": 10,
    "start_time": "2023-02-06T08:54:29.385Z"
   },
   {
    "duration": 16,
    "start_time": "2023-02-06T08:54:29.397Z"
   },
   {
    "duration": 10,
    "start_time": "2023-02-06T08:54:29.415Z"
   },
   {
    "duration": 23,
    "start_time": "2023-02-06T08:54:29.427Z"
   },
   {
    "duration": 23,
    "start_time": "2023-02-06T08:54:29.452Z"
   }
  ],
  "kernelspec": {
   "display_name": "Python 3 (ipykernel)",
   "language": "python",
   "name": "python3"
  },
  "language_info": {
   "codemirror_mode": {
    "name": "ipython",
    "version": 3
   },
   "file_extension": ".py",
   "mimetype": "text/x-python",
   "name": "python",
   "nbconvert_exporter": "python",
   "pygments_lexer": "ipython3",
   "version": "3.9.7"
  },
  "toc": {
   "base_numbering": 1,
   "nav_menu": {},
   "number_sections": true,
   "sideBar": true,
   "skip_h1_title": true,
   "title_cell": "Table of Contents",
   "title_sidebar": "Contents",
   "toc_cell": false,
   "toc_position": {},
   "toc_section_display": true,
   "toc_window_display": false
  }
 },
 "nbformat": 4,
 "nbformat_minor": 5
}
